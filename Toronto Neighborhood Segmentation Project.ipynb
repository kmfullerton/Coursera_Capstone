{
 "cells": [
  {
   "cell_type": "markdown",
   "metadata": {},
   "source": [
    "This notebook presents a solution to the Neighborhood Segmentation project outlined in Week 3 of the IBM Applied Data Science Capstone Course on Coursers\n",
    "\n",
    "Created 5/21/19 by K Fullerton"
   ]
  },
  {
   "cell_type": "code",
   "execution_count": 1,
   "metadata": {},
   "outputs": [],
   "source": [
    "import pandas as pd\n",
    "import numpy as np\n",
    "import matplotlib.pyplot as plt\n",
    "%matplotlib inline\n",
    "from bs4 import BeautifulSoup\n",
    "import requests, json\n",
    "import geocoder\n",
    "import folium\n",
    "from sklearn.cluster import KMeans"
   ]
  },
  {
   "cell_type": "markdown",
   "metadata": {},
   "source": [
    "# Web Scraping to Collect Neighborhood Data"
   ]
  },
  {
   "cell_type": "markdown",
   "metadata": {},
   "source": [
    "## Create the page object"
   ]
  },
  {
   "cell_type": "code",
   "execution_count": 2,
   "metadata": {},
   "outputs": [
    {
     "data": {
      "text/plain": [
       "<Response [200]>"
      ]
     },
     "execution_count": 2,
     "metadata": {},
     "output_type": "execute_result"
    }
   ],
   "source": [
    "url_to_scrape = 'https://en.wikipedia.org/wiki/List_of_postal_codes_of_Canada:_M'\n",
    "page = requests.get(url_to_scrape)\n",
    "page"
   ]
  },
  {
   "cell_type": "markdown",
   "metadata": {},
   "source": [
    "<Respone [200]> Indicates that the page object was created and requested successfully."
   ]
  },
  {
   "cell_type": "markdown",
   "metadata": {},
   "source": [
    "## Create the Pandas dataframe in which to store the data\n",
    "And use the .head() command to check its format"
   ]
  },
  {
   "cell_type": "code",
   "execution_count": 3,
   "metadata": {},
   "outputs": [],
   "source": [
    "code_list = list()\n",
    "borough_list = list()\n",
    "neighborhood_list = list()"
   ]
  },
  {
   "cell_type": "markdown",
   "metadata": {},
   "source": [
    "## Use Beautiful Soup to scrape the table data into the pandas dataframe"
   ]
  },
  {
   "cell_type": "code",
   "execution_count": 4,
   "metadata": {},
   "outputs": [
    {
     "data": {
      "text/html": [
       "<div>\n",
       "<style scoped>\n",
       "    .dataframe tbody tr th:only-of-type {\n",
       "        vertical-align: middle;\n",
       "    }\n",
       "\n",
       "    .dataframe tbody tr th {\n",
       "        vertical-align: top;\n",
       "    }\n",
       "\n",
       "    .dataframe thead th {\n",
       "        text-align: right;\n",
       "    }\n",
       "</style>\n",
       "<table border=\"1\" class=\"dataframe\">\n",
       "  <thead>\n",
       "    <tr style=\"text-align: right;\">\n",
       "      <th></th>\n",
       "      <th>PostalCode</th>\n",
       "      <th>Borough</th>\n",
       "      <th>Neighborhood</th>\n",
       "    </tr>\n",
       "  </thead>\n",
       "  <tbody>\n",
       "    <tr>\n",
       "      <th>0</th>\n",
       "      <td>M1A</td>\n",
       "      <td>Not assigned</td>\n",
       "      <td>Not assigned</td>\n",
       "    </tr>\n",
       "    <tr>\n",
       "      <th>1</th>\n",
       "      <td>M2A</td>\n",
       "      <td>Not assigned</td>\n",
       "      <td>Not assigned</td>\n",
       "    </tr>\n",
       "    <tr>\n",
       "      <th>2</th>\n",
       "      <td>M3A</td>\n",
       "      <td>North York</td>\n",
       "      <td>Parkwoods</td>\n",
       "    </tr>\n",
       "    <tr>\n",
       "      <th>3</th>\n",
       "      <td>M4A</td>\n",
       "      <td>North York</td>\n",
       "      <td>Victoria Village</td>\n",
       "    </tr>\n",
       "    <tr>\n",
       "      <th>4</th>\n",
       "      <td>M5A</td>\n",
       "      <td>Downtown Toronto</td>\n",
       "      <td>Harbourfront</td>\n",
       "    </tr>\n",
       "    <tr>\n",
       "      <th>5</th>\n",
       "      <td>M5A</td>\n",
       "      <td>Downtown Toronto</td>\n",
       "      <td>Regent Park</td>\n",
       "    </tr>\n",
       "    <tr>\n",
       "      <th>6</th>\n",
       "      <td>M6A</td>\n",
       "      <td>North York</td>\n",
       "      <td>Lawrence Heights</td>\n",
       "    </tr>\n",
       "    <tr>\n",
       "      <th>7</th>\n",
       "      <td>M6A</td>\n",
       "      <td>North York</td>\n",
       "      <td>Lawrence Manor</td>\n",
       "    </tr>\n",
       "    <tr>\n",
       "      <th>8</th>\n",
       "      <td>M7A</td>\n",
       "      <td>Queen's Park</td>\n",
       "      <td>Not assigned</td>\n",
       "    </tr>\n",
       "    <tr>\n",
       "      <th>9</th>\n",
       "      <td>M8A</td>\n",
       "      <td>Not assigned</td>\n",
       "      <td>Not assigned</td>\n",
       "    </tr>\n",
       "  </tbody>\n",
       "</table>\n",
       "</div>"
      ],
      "text/plain": [
       "  PostalCode           Borough      Neighborhood\n",
       "0        M1A      Not assigned      Not assigned\n",
       "1        M2A      Not assigned      Not assigned\n",
       "2        M3A        North York         Parkwoods\n",
       "3        M4A        North York  Victoria Village\n",
       "4        M5A  Downtown Toronto      Harbourfront\n",
       "5        M5A  Downtown Toronto       Regent Park\n",
       "6        M6A        North York  Lawrence Heights\n",
       "7        M6A        North York    Lawrence Manor\n",
       "8        M7A      Queen's Park      Not assigned\n",
       "9        M8A      Not assigned      Not assigned"
      ]
     },
     "execution_count": 4,
     "metadata": {},
     "output_type": "execute_result"
    }
   ],
   "source": [
    "soup = BeautifulSoup(page.content,'html.parser')\n",
    "for tr in soup.find_all('tr')[1:287]:\n",
    "    tds = tr.find_all('td')\n",
    "#     print(tds[0].text)\n",
    "#     print(tds[1].text)\n",
    "#     print(tds[2].text)\n",
    "    code_list.append(tds[0].text)\n",
    "    borough_list.append(tds[1].text)\n",
    "    neighborhood_list.append(tds[2].text)\n",
    "neighborhood_list = list(map(lambda s: s.strip(), neighborhood_list))\n",
    "zippedList = list(zip(code_list, borough_list, neighborhood_list))\n",
    "toronto_data = pd.DataFrame(zippedList, columns=['PostalCode', 'Borough', 'Neighborhood'])\n",
    "    \n",
    "toronto_data.head(10)"
   ]
  },
  {
   "cell_type": "markdown",
   "metadata": {},
   "source": [
    "## Clean the dataframe by removing any postal codes that have not been assigned"
   ]
  },
  {
   "cell_type": "code",
   "execution_count": 5,
   "metadata": {},
   "outputs": [
    {
     "data": {
      "text/html": [
       "<div>\n",
       "<style scoped>\n",
       "    .dataframe tbody tr th:only-of-type {\n",
       "        vertical-align: middle;\n",
       "    }\n",
       "\n",
       "    .dataframe tbody tr th {\n",
       "        vertical-align: top;\n",
       "    }\n",
       "\n",
       "    .dataframe thead th {\n",
       "        text-align: right;\n",
       "    }\n",
       "</style>\n",
       "<table border=\"1\" class=\"dataframe\">\n",
       "  <thead>\n",
       "    <tr style=\"text-align: right;\">\n",
       "      <th></th>\n",
       "      <th>PostalCode</th>\n",
       "      <th>Borough</th>\n",
       "      <th>Neighborhood</th>\n",
       "    </tr>\n",
       "  </thead>\n",
       "  <tbody>\n",
       "    <tr>\n",
       "      <th>2</th>\n",
       "      <td>M3A</td>\n",
       "      <td>North York</td>\n",
       "      <td>Parkwoods</td>\n",
       "    </tr>\n",
       "    <tr>\n",
       "      <th>3</th>\n",
       "      <td>M4A</td>\n",
       "      <td>North York</td>\n",
       "      <td>Victoria Village</td>\n",
       "    </tr>\n",
       "    <tr>\n",
       "      <th>4</th>\n",
       "      <td>M5A</td>\n",
       "      <td>Downtown Toronto</td>\n",
       "      <td>Harbourfront</td>\n",
       "    </tr>\n",
       "    <tr>\n",
       "      <th>5</th>\n",
       "      <td>M5A</td>\n",
       "      <td>Downtown Toronto</td>\n",
       "      <td>Regent Park</td>\n",
       "    </tr>\n",
       "    <tr>\n",
       "      <th>6</th>\n",
       "      <td>M6A</td>\n",
       "      <td>North York</td>\n",
       "      <td>Lawrence Heights</td>\n",
       "    </tr>\n",
       "    <tr>\n",
       "      <th>7</th>\n",
       "      <td>M6A</td>\n",
       "      <td>North York</td>\n",
       "      <td>Lawrence Manor</td>\n",
       "    </tr>\n",
       "    <tr>\n",
       "      <th>8</th>\n",
       "      <td>M7A</td>\n",
       "      <td>Queen's Park</td>\n",
       "      <td>Not assigned</td>\n",
       "    </tr>\n",
       "    <tr>\n",
       "      <th>10</th>\n",
       "      <td>M9A</td>\n",
       "      <td>Etobicoke</td>\n",
       "      <td>Islington Avenue</td>\n",
       "    </tr>\n",
       "    <tr>\n",
       "      <th>11</th>\n",
       "      <td>M1B</td>\n",
       "      <td>Scarborough</td>\n",
       "      <td>Rouge</td>\n",
       "    </tr>\n",
       "    <tr>\n",
       "      <th>12</th>\n",
       "      <td>M1B</td>\n",
       "      <td>Scarborough</td>\n",
       "      <td>Malvern</td>\n",
       "    </tr>\n",
       "    <tr>\n",
       "      <th>14</th>\n",
       "      <td>M3B</td>\n",
       "      <td>North York</td>\n",
       "      <td>Don Mills North</td>\n",
       "    </tr>\n",
       "    <tr>\n",
       "      <th>15</th>\n",
       "      <td>M4B</td>\n",
       "      <td>East York</td>\n",
       "      <td>Woodbine Gardens</td>\n",
       "    </tr>\n",
       "    <tr>\n",
       "      <th>16</th>\n",
       "      <td>M4B</td>\n",
       "      <td>East York</td>\n",
       "      <td>Parkview Hill</td>\n",
       "    </tr>\n",
       "    <tr>\n",
       "      <th>17</th>\n",
       "      <td>M5B</td>\n",
       "      <td>Downtown Toronto</td>\n",
       "      <td>Ryerson</td>\n",
       "    </tr>\n",
       "    <tr>\n",
       "      <th>18</th>\n",
       "      <td>M5B</td>\n",
       "      <td>Downtown Toronto</td>\n",
       "      <td>Garden District</td>\n",
       "    </tr>\n",
       "  </tbody>\n",
       "</table>\n",
       "</div>"
      ],
      "text/plain": [
       "   PostalCode           Borough      Neighborhood\n",
       "2         M3A        North York         Parkwoods\n",
       "3         M4A        North York  Victoria Village\n",
       "4         M5A  Downtown Toronto      Harbourfront\n",
       "5         M5A  Downtown Toronto       Regent Park\n",
       "6         M6A        North York  Lawrence Heights\n",
       "7         M6A        North York    Lawrence Manor\n",
       "8         M7A      Queen's Park      Not assigned\n",
       "10        M9A         Etobicoke  Islington Avenue\n",
       "11        M1B       Scarborough             Rouge\n",
       "12        M1B       Scarborough           Malvern\n",
       "14        M3B        North York   Don Mills North\n",
       "15        M4B         East York  Woodbine Gardens\n",
       "16        M4B         East York     Parkview Hill\n",
       "17        M5B  Downtown Toronto           Ryerson\n",
       "18        M5B  Downtown Toronto   Garden District"
      ]
     },
     "execution_count": 5,
     "metadata": {},
     "output_type": "execute_result"
    }
   ],
   "source": [
    "toronto_data = toronto_data[toronto_data.Borough != 'Not assigned']\n",
    "toronto_data.head(15)"
   ]
  },
  {
   "cell_type": "markdown",
   "metadata": {},
   "source": [
    "## Assign borough name for any not assigned neighborhood names"
   ]
  },
  {
   "cell_type": "code",
   "execution_count": 6,
   "metadata": {},
   "outputs": [
    {
     "data": {
      "text/html": [
       "<div>\n",
       "<style scoped>\n",
       "    .dataframe tbody tr th:only-of-type {\n",
       "        vertical-align: middle;\n",
       "    }\n",
       "\n",
       "    .dataframe tbody tr th {\n",
       "        vertical-align: top;\n",
       "    }\n",
       "\n",
       "    .dataframe thead th {\n",
       "        text-align: right;\n",
       "    }\n",
       "</style>\n",
       "<table border=\"1\" class=\"dataframe\">\n",
       "  <thead>\n",
       "    <tr style=\"text-align: right;\">\n",
       "      <th></th>\n",
       "      <th>PostalCode</th>\n",
       "      <th>Borough</th>\n",
       "      <th>Neighborhood</th>\n",
       "    </tr>\n",
       "  </thead>\n",
       "  <tbody>\n",
       "    <tr>\n",
       "      <th>2</th>\n",
       "      <td>M3A</td>\n",
       "      <td>North York</td>\n",
       "      <td>Parkwoods</td>\n",
       "    </tr>\n",
       "    <tr>\n",
       "      <th>3</th>\n",
       "      <td>M4A</td>\n",
       "      <td>North York</td>\n",
       "      <td>Victoria Village</td>\n",
       "    </tr>\n",
       "    <tr>\n",
       "      <th>4</th>\n",
       "      <td>M5A</td>\n",
       "      <td>Downtown Toronto</td>\n",
       "      <td>Harbourfront</td>\n",
       "    </tr>\n",
       "    <tr>\n",
       "      <th>5</th>\n",
       "      <td>M5A</td>\n",
       "      <td>Downtown Toronto</td>\n",
       "      <td>Regent Park</td>\n",
       "    </tr>\n",
       "    <tr>\n",
       "      <th>6</th>\n",
       "      <td>M6A</td>\n",
       "      <td>North York</td>\n",
       "      <td>Lawrence Heights</td>\n",
       "    </tr>\n",
       "    <tr>\n",
       "      <th>7</th>\n",
       "      <td>M6A</td>\n",
       "      <td>North York</td>\n",
       "      <td>Lawrence Manor</td>\n",
       "    </tr>\n",
       "    <tr>\n",
       "      <th>8</th>\n",
       "      <td>M7A</td>\n",
       "      <td>Queen's Park</td>\n",
       "      <td>Queen's Park</td>\n",
       "    </tr>\n",
       "    <tr>\n",
       "      <th>10</th>\n",
       "      <td>M9A</td>\n",
       "      <td>Etobicoke</td>\n",
       "      <td>Islington Avenue</td>\n",
       "    </tr>\n",
       "    <tr>\n",
       "      <th>11</th>\n",
       "      <td>M1B</td>\n",
       "      <td>Scarborough</td>\n",
       "      <td>Rouge</td>\n",
       "    </tr>\n",
       "    <tr>\n",
       "      <th>12</th>\n",
       "      <td>M1B</td>\n",
       "      <td>Scarborough</td>\n",
       "      <td>Malvern</td>\n",
       "    </tr>\n",
       "    <tr>\n",
       "      <th>14</th>\n",
       "      <td>M3B</td>\n",
       "      <td>North York</td>\n",
       "      <td>Don Mills North</td>\n",
       "    </tr>\n",
       "    <tr>\n",
       "      <th>15</th>\n",
       "      <td>M4B</td>\n",
       "      <td>East York</td>\n",
       "      <td>Woodbine Gardens</td>\n",
       "    </tr>\n",
       "    <tr>\n",
       "      <th>16</th>\n",
       "      <td>M4B</td>\n",
       "      <td>East York</td>\n",
       "      <td>Parkview Hill</td>\n",
       "    </tr>\n",
       "    <tr>\n",
       "      <th>17</th>\n",
       "      <td>M5B</td>\n",
       "      <td>Downtown Toronto</td>\n",
       "      <td>Ryerson</td>\n",
       "    </tr>\n",
       "    <tr>\n",
       "      <th>18</th>\n",
       "      <td>M5B</td>\n",
       "      <td>Downtown Toronto</td>\n",
       "      <td>Garden District</td>\n",
       "    </tr>\n",
       "  </tbody>\n",
       "</table>\n",
       "</div>"
      ],
      "text/plain": [
       "   PostalCode           Borough      Neighborhood\n",
       "2         M3A        North York         Parkwoods\n",
       "3         M4A        North York  Victoria Village\n",
       "4         M5A  Downtown Toronto      Harbourfront\n",
       "5         M5A  Downtown Toronto       Regent Park\n",
       "6         M6A        North York  Lawrence Heights\n",
       "7         M6A        North York    Lawrence Manor\n",
       "8         M7A      Queen's Park      Queen's Park\n",
       "10        M9A         Etobicoke  Islington Avenue\n",
       "11        M1B       Scarborough             Rouge\n",
       "12        M1B       Scarborough           Malvern\n",
       "14        M3B        North York   Don Mills North\n",
       "15        M4B         East York  Woodbine Gardens\n",
       "16        M4B         East York     Parkview Hill\n",
       "17        M5B  Downtown Toronto           Ryerson\n",
       "18        M5B  Downtown Toronto   Garden District"
      ]
     },
     "execution_count": 6,
     "metadata": {},
     "output_type": "execute_result"
    }
   ],
   "source": [
    "# Find the indices for rows where Neighborhood is Not assigned\n",
    "missing_indices = toronto_data[toronto_data.Neighborhood == 'Not assigned']\n",
    "# Iterate over those indices to replace the not assigned with the borough name\n",
    "for i, row in missing_indices.iterrows():\n",
    "    toronto_data.at[i, 'Neighborhood'] = row.Borough\n",
    "toronto_data.head(15)"
   ]
  },
  {
   "cell_type": "markdown",
   "metadata": {},
   "source": [
    "Check the data frame to make sure that there are no remaining \"not assigned\" values.\n",
    "\n",
    "Note that this secondary check of the \"missing indices\" list should result in an empty data frame- when we perform this second check, all of the not assigned neighborhoods should have been replaced with the borough name."
   ]
  },
  {
   "cell_type": "code",
   "execution_count": 7,
   "metadata": {},
   "outputs": [
    {
     "name": "stdout",
     "output_type": "stream",
     "text": [
      "Empty DataFrame\n",
      "Columns: [PostalCode, Borough, Neighborhood]\n",
      "Index: []\n"
     ]
    }
   ],
   "source": [
    "missing_indices = toronto_data[toronto_data.Neighborhood == 'Not assigned']\n",
    "print(missing_indices)"
   ]
  },
  {
   "cell_type": "markdown",
   "metadata": {},
   "source": [
    "## Merge Neighborhood Names for postal codes with multiple neighborhoods listed"
   ]
  },
  {
   "cell_type": "code",
   "execution_count": 8,
   "metadata": {},
   "outputs": [],
   "source": [
    "def concat_string_values(group):\n",
    "    string = ''\n",
    "    for name in group.Neighborhood:\n",
    "        string += name + ' '\n",
    "        \n",
    "    return string\n",
    "\n",
    "grouped_data = toronto_data.groupby(['PostalCode','Borough']).apply(concat_string_values) "
   ]
  },
  {
   "cell_type": "code",
   "execution_count": 9,
   "metadata": {},
   "outputs": [
    {
     "data": {
      "text/html": [
       "<div>\n",
       "<style scoped>\n",
       "    .dataframe tbody tr th:only-of-type {\n",
       "        vertical-align: middle;\n",
       "    }\n",
       "\n",
       "    .dataframe tbody tr th {\n",
       "        vertical-align: top;\n",
       "    }\n",
       "\n",
       "    .dataframe thead th {\n",
       "        text-align: right;\n",
       "    }\n",
       "</style>\n",
       "<table border=\"1\" class=\"dataframe\">\n",
       "  <thead>\n",
       "    <tr style=\"text-align: right;\">\n",
       "      <th></th>\n",
       "      <th>Postal Code</th>\n",
       "      <th>Borough</th>\n",
       "      <th>Neighborhoods</th>\n",
       "    </tr>\n",
       "  </thead>\n",
       "  <tbody>\n",
       "    <tr>\n",
       "      <th>0</th>\n",
       "      <td>M1B</td>\n",
       "      <td>Scarborough</td>\n",
       "      <td>Rouge Malvern</td>\n",
       "    </tr>\n",
       "    <tr>\n",
       "      <th>1</th>\n",
       "      <td>M1C</td>\n",
       "      <td>Scarborough</td>\n",
       "      <td>Highland Creek Rouge Hill Port Union</td>\n",
       "    </tr>\n",
       "    <tr>\n",
       "      <th>2</th>\n",
       "      <td>M1E</td>\n",
       "      <td>Scarborough</td>\n",
       "      <td>Guildwood Morningside West Hill</td>\n",
       "    </tr>\n",
       "    <tr>\n",
       "      <th>3</th>\n",
       "      <td>M1G</td>\n",
       "      <td>Scarborough</td>\n",
       "      <td>Woburn</td>\n",
       "    </tr>\n",
       "    <tr>\n",
       "      <th>4</th>\n",
       "      <td>M1H</td>\n",
       "      <td>Scarborough</td>\n",
       "      <td>Cedarbrae</td>\n",
       "    </tr>\n",
       "    <tr>\n",
       "      <th>5</th>\n",
       "      <td>M1J</td>\n",
       "      <td>Scarborough</td>\n",
       "      <td>Scarborough Village</td>\n",
       "    </tr>\n",
       "    <tr>\n",
       "      <th>6</th>\n",
       "      <td>M1K</td>\n",
       "      <td>Scarborough</td>\n",
       "      <td>East Birchmount Park Ionview Kennedy Park</td>\n",
       "    </tr>\n",
       "    <tr>\n",
       "      <th>7</th>\n",
       "      <td>M1L</td>\n",
       "      <td>Scarborough</td>\n",
       "      <td>Clairlea Golden Mile Oakridge</td>\n",
       "    </tr>\n",
       "    <tr>\n",
       "      <th>8</th>\n",
       "      <td>M1M</td>\n",
       "      <td>Scarborough</td>\n",
       "      <td>Cliffcrest Cliffside Scarborough Village West</td>\n",
       "    </tr>\n",
       "    <tr>\n",
       "      <th>9</th>\n",
       "      <td>M1N</td>\n",
       "      <td>Scarborough</td>\n",
       "      <td>Birch Cliff Cliffside West</td>\n",
       "    </tr>\n",
       "  </tbody>\n",
       "</table>\n",
       "</div>"
      ],
      "text/plain": [
       "  Postal Code      Borough                                   Neighborhoods\n",
       "0         M1B  Scarborough                                  Rouge Malvern \n",
       "1         M1C  Scarborough           Highland Creek Rouge Hill Port Union \n",
       "2         M1E  Scarborough                Guildwood Morningside West Hill \n",
       "3         M1G  Scarborough                                         Woburn \n",
       "4         M1H  Scarborough                                      Cedarbrae \n",
       "5         M1J  Scarborough                            Scarborough Village \n",
       "6         M1K  Scarborough      East Birchmount Park Ionview Kennedy Park \n",
       "7         M1L  Scarborough                  Clairlea Golden Mile Oakridge \n",
       "8         M1M  Scarborough  Cliffcrest Cliffside Scarborough Village West \n",
       "9         M1N  Scarborough                     Birch Cliff Cliffside West "
      ]
     },
     "execution_count": 9,
     "metadata": {},
     "output_type": "execute_result"
    }
   ],
   "source": [
    "cleaned_toronto_data = pd.DataFrame(grouped_data.reset_index())\n",
    "cleaned_toronto_data.rename(columns={'PostalCode': 'Postal Code', 0:'Neighborhoods'},  inplace=True)\n",
    "cleaned_toronto_data.head(10)"
   ]
  },
  {
   "cell_type": "markdown",
   "metadata": {},
   "source": [
    "# Collecting Geographic Data"
   ]
  },
  {
   "cell_type": "markdown",
   "metadata": {},
   "source": [
    "## Geocoder function\n",
    "I attempted to use the geocoder function provided in the project instructions, but was unable to connect with the API. In order to complete the project, I used the provided geospatial data file."
   ]
  },
  {
   "cell_type": "markdown",
   "metadata": {},
   "source": [
    "## Alternative method for finding latitude and longitude\n",
    "Since the geocoder API is not working, we will use the provided csv file to populate the latitude and longitude values.\n",
    "\n",
    "We will set the indicies of both the neighborhood data frame and the geospatial dataframe to be the postal code to facilitate merging.\n"
   ]
  },
  {
   "cell_type": "code",
   "execution_count": 10,
   "metadata": {},
   "outputs": [
    {
     "data": {
      "text/html": [
       "<div>\n",
       "<style scoped>\n",
       "    .dataframe tbody tr th:only-of-type {\n",
       "        vertical-align: middle;\n",
       "    }\n",
       "\n",
       "    .dataframe tbody tr th {\n",
       "        vertical-align: top;\n",
       "    }\n",
       "\n",
       "    .dataframe thead th {\n",
       "        text-align: right;\n",
       "    }\n",
       "</style>\n",
       "<table border=\"1\" class=\"dataframe\">\n",
       "  <thead>\n",
       "    <tr style=\"text-align: right;\">\n",
       "      <th></th>\n",
       "      <th>Latitude</th>\n",
       "      <th>Longitude</th>\n",
       "    </tr>\n",
       "    <tr>\n",
       "      <th>Postal Code</th>\n",
       "      <th></th>\n",
       "      <th></th>\n",
       "    </tr>\n",
       "  </thead>\n",
       "  <tbody>\n",
       "    <tr>\n",
       "      <th>M1B</th>\n",
       "      <td>43.806686</td>\n",
       "      <td>-79.194353</td>\n",
       "    </tr>\n",
       "    <tr>\n",
       "      <th>M1C</th>\n",
       "      <td>43.784535</td>\n",
       "      <td>-79.160497</td>\n",
       "    </tr>\n",
       "    <tr>\n",
       "      <th>M1E</th>\n",
       "      <td>43.763573</td>\n",
       "      <td>-79.188711</td>\n",
       "    </tr>\n",
       "    <tr>\n",
       "      <th>M1G</th>\n",
       "      <td>43.770992</td>\n",
       "      <td>-79.216917</td>\n",
       "    </tr>\n",
       "    <tr>\n",
       "      <th>M1H</th>\n",
       "      <td>43.773136</td>\n",
       "      <td>-79.239476</td>\n",
       "    </tr>\n",
       "  </tbody>\n",
       "</table>\n",
       "</div>"
      ],
      "text/plain": [
       "              Latitude  Longitude\n",
       "Postal Code                      \n",
       "M1B          43.806686 -79.194353\n",
       "M1C          43.784535 -79.160497\n",
       "M1E          43.763573 -79.188711\n",
       "M1G          43.770992 -79.216917\n",
       "M1H          43.773136 -79.239476"
      ]
     },
     "execution_count": 10,
     "metadata": {},
     "output_type": "execute_result"
    }
   ],
   "source": [
    "lat_long_data = pd.read_csv('Geospatial_Coordinates.csv')\n",
    "lat_long_data.set_index('Postal Code', inplace=True)\n",
    "lat_long_data.head()"
   ]
  },
  {
   "cell_type": "code",
   "execution_count": 11,
   "metadata": {},
   "outputs": [
    {
     "data": {
      "text/html": [
       "<div>\n",
       "<style scoped>\n",
       "    .dataframe tbody tr th:only-of-type {\n",
       "        vertical-align: middle;\n",
       "    }\n",
       "\n",
       "    .dataframe tbody tr th {\n",
       "        vertical-align: top;\n",
       "    }\n",
       "\n",
       "    .dataframe thead th {\n",
       "        text-align: right;\n",
       "    }\n",
       "</style>\n",
       "<table border=\"1\" class=\"dataframe\">\n",
       "  <thead>\n",
       "    <tr style=\"text-align: right;\">\n",
       "      <th></th>\n",
       "      <th>Borough</th>\n",
       "      <th>Neighborhoods</th>\n",
       "    </tr>\n",
       "    <tr>\n",
       "      <th>Postal Code</th>\n",
       "      <th></th>\n",
       "      <th></th>\n",
       "    </tr>\n",
       "  </thead>\n",
       "  <tbody>\n",
       "    <tr>\n",
       "      <th>M1B</th>\n",
       "      <td>Scarborough</td>\n",
       "      <td>Rouge Malvern</td>\n",
       "    </tr>\n",
       "    <tr>\n",
       "      <th>M1C</th>\n",
       "      <td>Scarborough</td>\n",
       "      <td>Highland Creek Rouge Hill Port Union</td>\n",
       "    </tr>\n",
       "    <tr>\n",
       "      <th>M1E</th>\n",
       "      <td>Scarborough</td>\n",
       "      <td>Guildwood Morningside West Hill</td>\n",
       "    </tr>\n",
       "    <tr>\n",
       "      <th>M1G</th>\n",
       "      <td>Scarborough</td>\n",
       "      <td>Woburn</td>\n",
       "    </tr>\n",
       "    <tr>\n",
       "      <th>M1H</th>\n",
       "      <td>Scarborough</td>\n",
       "      <td>Cedarbrae</td>\n",
       "    </tr>\n",
       "  </tbody>\n",
       "</table>\n",
       "</div>"
      ],
      "text/plain": [
       "                 Borough                          Neighborhoods\n",
       "Postal Code                                                    \n",
       "M1B          Scarborough                         Rouge Malvern \n",
       "M1C          Scarborough  Highland Creek Rouge Hill Port Union \n",
       "M1E          Scarborough       Guildwood Morningside West Hill \n",
       "M1G          Scarborough                                Woburn \n",
       "M1H          Scarborough                             Cedarbrae "
      ]
     },
     "execution_count": 11,
     "metadata": {},
     "output_type": "execute_result"
    }
   ],
   "source": [
    "cleaned_toronto_data.set_index('Postal Code', inplace=True)\n",
    "cleaned_toronto_data.head()"
   ]
  },
  {
   "cell_type": "code",
   "execution_count": 12,
   "metadata": {},
   "outputs": [
    {
     "data": {
      "text/html": [
       "<div>\n",
       "<style scoped>\n",
       "    .dataframe tbody tr th:only-of-type {\n",
       "        vertical-align: middle;\n",
       "    }\n",
       "\n",
       "    .dataframe tbody tr th {\n",
       "        vertical-align: top;\n",
       "    }\n",
       "\n",
       "    .dataframe thead th {\n",
       "        text-align: right;\n",
       "    }\n",
       "</style>\n",
       "<table border=\"1\" class=\"dataframe\">\n",
       "  <thead>\n",
       "    <tr style=\"text-align: right;\">\n",
       "      <th></th>\n",
       "      <th>Borough</th>\n",
       "      <th>Neighborhoods</th>\n",
       "      <th>Latitude</th>\n",
       "      <th>Longitude</th>\n",
       "    </tr>\n",
       "    <tr>\n",
       "      <th>Postal Code</th>\n",
       "      <th></th>\n",
       "      <th></th>\n",
       "      <th></th>\n",
       "      <th></th>\n",
       "    </tr>\n",
       "  </thead>\n",
       "  <tbody>\n",
       "    <tr>\n",
       "      <th>M1B</th>\n",
       "      <td>Scarborough</td>\n",
       "      <td>Rouge Malvern</td>\n",
       "      <td>43.806686</td>\n",
       "      <td>-79.194353</td>\n",
       "    </tr>\n",
       "    <tr>\n",
       "      <th>M1C</th>\n",
       "      <td>Scarborough</td>\n",
       "      <td>Highland Creek Rouge Hill Port Union</td>\n",
       "      <td>43.784535</td>\n",
       "      <td>-79.160497</td>\n",
       "    </tr>\n",
       "    <tr>\n",
       "      <th>M1E</th>\n",
       "      <td>Scarborough</td>\n",
       "      <td>Guildwood Morningside West Hill</td>\n",
       "      <td>43.763573</td>\n",
       "      <td>-79.188711</td>\n",
       "    </tr>\n",
       "    <tr>\n",
       "      <th>M1G</th>\n",
       "      <td>Scarborough</td>\n",
       "      <td>Woburn</td>\n",
       "      <td>43.770992</td>\n",
       "      <td>-79.216917</td>\n",
       "    </tr>\n",
       "    <tr>\n",
       "      <th>M1H</th>\n",
       "      <td>Scarborough</td>\n",
       "      <td>Cedarbrae</td>\n",
       "      <td>43.773136</td>\n",
       "      <td>-79.239476</td>\n",
       "    </tr>\n",
       "  </tbody>\n",
       "</table>\n",
       "</div>"
      ],
      "text/plain": [
       "                 Borough                          Neighborhoods   Latitude  \\\n",
       "Postal Code                                                                  \n",
       "M1B          Scarborough                         Rouge Malvern   43.806686   \n",
       "M1C          Scarborough  Highland Creek Rouge Hill Port Union   43.784535   \n",
       "M1E          Scarborough       Guildwood Morningside West Hill   43.763573   \n",
       "M1G          Scarborough                                Woburn   43.770992   \n",
       "M1H          Scarborough                             Cedarbrae   43.773136   \n",
       "\n",
       "             Longitude  \n",
       "Postal Code             \n",
       "M1B         -79.194353  \n",
       "M1C         -79.160497  \n",
       "M1E         -79.188711  \n",
       "M1G         -79.216917  \n",
       "M1H         -79.239476  "
      ]
     },
     "execution_count": 12,
     "metadata": {},
     "output_type": "execute_result"
    }
   ],
   "source": [
    "for index, row in cleaned_toronto_data.iterrows():\n",
    "    lat = lat_long_data.loc[index,'Latitude']\n",
    "    long = lat_long_data.loc[index, 'Longitude']\n",
    "    cleaned_toronto_data.loc[index, 'Latitude'] = lat\n",
    "    cleaned_toronto_data.loc[index, 'Longitude'] = long\n",
    "cleaned_toronto_data.head()"
   ]
  },
  {
   "cell_type": "markdown",
   "metadata": {},
   "source": [
    "The example provided in the project instructions has a generic index, so we will reset the index on this dataframe and bring the Postal Code column into the body of the dataframe."
   ]
  },
  {
   "cell_type": "code",
   "execution_count": 13,
   "metadata": {},
   "outputs": [
    {
     "data": {
      "text/html": [
       "<div>\n",
       "<style scoped>\n",
       "    .dataframe tbody tr th:only-of-type {\n",
       "        vertical-align: middle;\n",
       "    }\n",
       "\n",
       "    .dataframe tbody tr th {\n",
       "        vertical-align: top;\n",
       "    }\n",
       "\n",
       "    .dataframe thead th {\n",
       "        text-align: right;\n",
       "    }\n",
       "</style>\n",
       "<table border=\"1\" class=\"dataframe\">\n",
       "  <thead>\n",
       "    <tr style=\"text-align: right;\">\n",
       "      <th></th>\n",
       "      <th>Postal Code</th>\n",
       "      <th>Borough</th>\n",
       "      <th>Neighborhoods</th>\n",
       "      <th>Latitude</th>\n",
       "      <th>Longitude</th>\n",
       "    </tr>\n",
       "  </thead>\n",
       "  <tbody>\n",
       "    <tr>\n",
       "      <th>0</th>\n",
       "      <td>M1B</td>\n",
       "      <td>Scarborough</td>\n",
       "      <td>Rouge Malvern</td>\n",
       "      <td>43.806686</td>\n",
       "      <td>-79.194353</td>\n",
       "    </tr>\n",
       "    <tr>\n",
       "      <th>1</th>\n",
       "      <td>M1C</td>\n",
       "      <td>Scarborough</td>\n",
       "      <td>Highland Creek Rouge Hill Port Union</td>\n",
       "      <td>43.784535</td>\n",
       "      <td>-79.160497</td>\n",
       "    </tr>\n",
       "    <tr>\n",
       "      <th>2</th>\n",
       "      <td>M1E</td>\n",
       "      <td>Scarborough</td>\n",
       "      <td>Guildwood Morningside West Hill</td>\n",
       "      <td>43.763573</td>\n",
       "      <td>-79.188711</td>\n",
       "    </tr>\n",
       "    <tr>\n",
       "      <th>3</th>\n",
       "      <td>M1G</td>\n",
       "      <td>Scarborough</td>\n",
       "      <td>Woburn</td>\n",
       "      <td>43.770992</td>\n",
       "      <td>-79.216917</td>\n",
       "    </tr>\n",
       "    <tr>\n",
       "      <th>4</th>\n",
       "      <td>M1H</td>\n",
       "      <td>Scarborough</td>\n",
       "      <td>Cedarbrae</td>\n",
       "      <td>43.773136</td>\n",
       "      <td>-79.239476</td>\n",
       "    </tr>\n",
       "  </tbody>\n",
       "</table>\n",
       "</div>"
      ],
      "text/plain": [
       "  Postal Code      Borough                          Neighborhoods   Latitude  \\\n",
       "0         M1B  Scarborough                         Rouge Malvern   43.806686   \n",
       "1         M1C  Scarborough  Highland Creek Rouge Hill Port Union   43.784535   \n",
       "2         M1E  Scarborough       Guildwood Morningside West Hill   43.763573   \n",
       "3         M1G  Scarborough                                Woburn   43.770992   \n",
       "4         M1H  Scarborough                             Cedarbrae   43.773136   \n",
       "\n",
       "   Longitude  \n",
       "0 -79.194353  \n",
       "1 -79.160497  \n",
       "2 -79.188711  \n",
       "3 -79.216917  \n",
       "4 -79.239476  "
      ]
     },
     "execution_count": 13,
     "metadata": {},
     "output_type": "execute_result"
    }
   ],
   "source": [
    "cleaned_toronto_data.reset_index(inplace=True)\n",
    "cleaned_toronto_data.head()"
   ]
  },
  {
   "cell_type": "markdown",
   "metadata": {},
   "source": [
    "# Initial Clustering Analysis"
   ]
  },
  {
   "cell_type": "markdown",
   "metadata": {},
   "source": [
    "In order to explore the Toronto space, we will first map the neighborhoods and color code the points by Borough name.\n",
    "\n",
    "## Create Map\n",
    "To begin, we will set the map center coordinates to those for down town Toronto and create the map object. To facilitate visualization, we will use the Stamen Toner format in folium."
   ]
  },
  {
   "cell_type": "code",
   "execution_count": 14,
   "metadata": {},
   "outputs": [],
   "source": [
    "# Set central coordinates for Downtown Toronto to pin the map\n",
    "toronto_lat = 43.6532\n",
    "toronto_long = -79.3832\n",
    "# Create map object\n",
    "display_map = folium.Map(location=[toronto_lat, toronto_long],\n",
    "                         tiles='Stamen Toner',\n",
    "                        zoom_start=10)"
   ]
  },
  {
   "cell_type": "markdown",
   "metadata": {},
   "source": [
    "## Create color mapping for boroughs\n",
    "Since the borough names are strings, we will create a dataframe to map the name of each borough into a marker color string."
   ]
  },
  {
   "cell_type": "code",
   "execution_count": 15,
   "metadata": {},
   "outputs": [
    {
     "data": {
      "text/html": [
       "<div>\n",
       "<style scoped>\n",
       "    .dataframe tbody tr th:only-of-type {\n",
       "        vertical-align: middle;\n",
       "    }\n",
       "\n",
       "    .dataframe tbody tr th {\n",
       "        vertical-align: top;\n",
       "    }\n",
       "\n",
       "    .dataframe thead th {\n",
       "        text-align: right;\n",
       "    }\n",
       "</style>\n",
       "<table border=\"1\" class=\"dataframe\">\n",
       "  <thead>\n",
       "    <tr style=\"text-align: right;\">\n",
       "      <th></th>\n",
       "      <th>Color</th>\n",
       "    </tr>\n",
       "    <tr>\n",
       "      <th>Borough</th>\n",
       "      <th></th>\n",
       "    </tr>\n",
       "  </thead>\n",
       "  <tbody>\n",
       "    <tr>\n",
       "      <th>Scarborough</th>\n",
       "      <td>red</td>\n",
       "    </tr>\n",
       "    <tr>\n",
       "      <th>North York</th>\n",
       "      <td>blue</td>\n",
       "    </tr>\n",
       "    <tr>\n",
       "      <th>East York</th>\n",
       "      <td>green</td>\n",
       "    </tr>\n",
       "    <tr>\n",
       "      <th>East Toronto</th>\n",
       "      <td>purple</td>\n",
       "    </tr>\n",
       "    <tr>\n",
       "      <th>Central Toronto</th>\n",
       "      <td>orange</td>\n",
       "    </tr>\n",
       "    <tr>\n",
       "      <th>Downtown Toronto</th>\n",
       "      <td>darkred</td>\n",
       "    </tr>\n",
       "    <tr>\n",
       "      <th>York</th>\n",
       "      <td>lightred</td>\n",
       "    </tr>\n",
       "    <tr>\n",
       "      <th>West Toronto</th>\n",
       "      <td>beige</td>\n",
       "    </tr>\n",
       "    <tr>\n",
       "      <th>Queen's Park</th>\n",
       "      <td>darkblue</td>\n",
       "    </tr>\n",
       "    <tr>\n",
       "      <th>Mississauga</th>\n",
       "      <td>darkgreen</td>\n",
       "    </tr>\n",
       "    <tr>\n",
       "      <th>Etobicoke</th>\n",
       "      <td>cadetblue</td>\n",
       "    </tr>\n",
       "  </tbody>\n",
       "</table>\n",
       "</div>"
      ],
      "text/plain": [
       "                      Color\n",
       "Borough                    \n",
       "Scarborough             red\n",
       "North York             blue\n",
       "East York             green\n",
       "East Toronto         purple\n",
       "Central Toronto      orange\n",
       "Downtown Toronto    darkred\n",
       "York               lightred\n",
       "West Toronto          beige\n",
       "Queen's Park       darkblue\n",
       "Mississauga       darkgreen\n",
       "Etobicoke         cadetblue"
      ]
     },
     "execution_count": 15,
     "metadata": {},
     "output_type": "execute_result"
    }
   ],
   "source": [
    "borough_list = cleaned_toronto_data.Borough.unique()\n",
    "color_list = ['red', 'blue', 'green', 'purple', 'orange', 'darkred',\n",
    "             'lightred', 'beige', 'darkblue', 'darkgreen', 'cadetblue']\n",
    "borough_color_translation = pd.DataFrame()\n",
    "borough_color_translation['Borough'] = borough_list\n",
    "borough_color_translation['Color'] = color_list\n",
    "borough_color_translation.set_index('Borough', inplace=True)\n",
    "borough_color_translation"
   ]
  },
  {
   "cell_type": "code",
   "execution_count": 16,
   "metadata": {},
   "outputs": [
    {
     "data": {
      "text/plain": [
       "'red'"
      ]
     },
     "execution_count": 16,
     "metadata": {},
     "output_type": "execute_result"
    }
   ],
   "source": [
    "borough_color_translation.loc['Scarborough'].iloc[0]"
   ]
  },
  {
   "cell_type": "markdown",
   "metadata": {},
   "source": [
    "## Create Markers for each neighborhood\n",
    "Now we will loop through the dataframe and create a circle on the map corresponding to each latitude and longitude. The popup name for each point will be the Neighborhood, and the color is determined by the borough."
   ]
  },
  {
   "cell_type": "code",
   "execution_count": 17,
   "metadata": {},
   "outputs": [],
   "source": [
    "# Loop through the dataframe to create a cir\n",
    "for index, row in cleaned_toronto_data.iterrows():\n",
    "    borough = row[1]\n",
    "    color_name = borough_color_translation.loc[borough].iloc[0]\n",
    "    folium.Circle(\n",
    "        radius = 100, \n",
    "        location = [row[3], row[4]],\n",
    "        popup = row[2], \n",
    "        fill = True,\n",
    "        color=color_name).add_to(display_map)"
   ]
  },
  {
   "cell_type": "code",
   "execution_count": 18,
   "metadata": {},
   "outputs": [
    {
     "data": {
      "text/html": [
       "<div style=\"width:100%;\"><div style=\"position:relative;width:100%;height:0;padding-bottom:60%;\"><iframe src=\"data:text/html;charset=utf-8;base64,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\" style=\"position:absolute;width:100%;height:100%;left:0;top:0;border:none !important;\" allowfullscreen webkitallowfullscreen mozallowfullscreen></iframe></div></div>"
      ],
      "text/plain": [
       "<folium.folium.Map at 0x11e567ba8>"
      ]
     },
     "execution_count": 18,
     "metadata": {},
     "output_type": "execute_result"
    }
   ],
   "source": [
    "display_map"
   ]
  }
 ],
 "metadata": {
  "kernelspec": {
   "display_name": "Python 3",
   "language": "python",
   "name": "python3"
  },
  "language_info": {
   "codemirror_mode": {
    "name": "ipython",
    "version": 3
   },
   "file_extension": ".py",
   "mimetype": "text/x-python",
   "name": "python",
   "nbconvert_exporter": "python",
   "pygments_lexer": "ipython3",
   "version": "3.7.3"
  },
  "toc": {
   "base_numbering": 1,
   "nav_menu": {},
   "number_sections": true,
   "sideBar": true,
   "skip_h1_title": false,
   "title_cell": "Table of Contents",
   "title_sidebar": "Contents",
   "toc_cell": false,
   "toc_position": {
    "height": "calc(100% - 180px)",
    "left": "10px",
    "top": "150px",
    "width": "199.188px"
   },
   "toc_section_display": true,
   "toc_window_display": true
  }
 },
 "nbformat": 4,
 "nbformat_minor": 2
}
