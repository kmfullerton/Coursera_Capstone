{
 "cells": [
  {
   "cell_type": "markdown",
   "metadata": {},
   "source": [
    "# Introduction"
   ]
  },
  {
   "cell_type": "markdown",
   "metadata": {},
   "source": [
    "Atlanta, my hometown, is a highly diverse city with poorly-defined neighborhoods. While the neighborhoods are often defined by road boundaries, they are characterized by a number of other factors. In this project, I will use data from Four Square to examine the fluctuating popularity of restaurants of various kinds and use that information to classify locations into neighborhoods. I will then compare that data with google-assigned neighborhoods and determine if the two classifications are similar. \n",
    "\n",
    "There are a number of possible uses for this neighborhood clustering information, from consumers who would like to know where to go for a particular cuisine, to developers looking to fit a new restaurant into the neighborhood. Additionally, this information could be used by city planning officials in the permitting process."
   ]
  },
  {
   "cell_type": "markdown",
   "metadata": {},
   "source": [
    "# Data"
   ]
  },
  {
   "cell_type": "markdown",
   "metadata": {},
   "source": [
    "This project will utilize data from 2 sources:\n",
    "1. Trending restaurant data from Foursquare. This will be pulled between 6-7 PM on a Friday (peak restaurant selection time) and saved to a file, since repeated calls to the Foursquare API would result in different trending information. An extension of this project could be to examine the fluctuation of neighborhood boundaries over the course of a week, but that is beyond the scope of this project. \n",
    "2. Neighborhood Planning Unit data from The City of Atlanta's GIS database. Accessed through this URL: https://dcp-coaplangis.opendata.arcgis.com/datasets/npu/geoservice The city provides an API to interact with the GIS data, which I will use to extract the geometric boundaries of each neighborhood. The output of this call contains the following information: \n",
    "     \n",
    "     \"attributes\": {\n",
    "            \"OBJECTID\": 260,\n",
    "            \"LOCALID\": null,\n",
    "            \"NAME\": \"K\",\n",
    "            \"GEOTYPE\": \"NPU\",\n",
    "            \"FULLFIPS\": null,\n",
    "            \"LEGALAREA\": null,\n",
    "            \"ACRES\": 1528.29,\n",
    "            \"SQMILES\": 2.39,\n",
    "            \"OLDNAME\": null,\n",
    "            \"NPU\": null\n",
    "         },\n",
    "         \"geometry\": {\n",
    "            \"rings\": [\n",
    "               [\n",
    "                  [\n",
    "                     -84.4173772073577,\n",
    "                     33.772197013770004\n",
    "                  ],\n",
    "                  \n",
    "The \"Name\" attribute is the neighborhood planning unit name, a proxy for a traditional neighborhood name like \"midtown\". The geometry information will be used to build a boundary box, and each trending restaurant will be placed within those boundaries and classified. "
   ]
  },
  {
   "cell_type": "markdown",
   "metadata": {},
   "source": [
    "# Initializations"
   ]
  },
  {
   "cell_type": "code",
   "execution_count": 9,
   "metadata": {},
   "outputs": [],
   "source": [
    "import pandas as pd\n",
    "import numpy as np\n",
    "import matplotlib.pyplot as plt\n",
    "%matplotlib inline\n",
    "import folium\n",
    "import folium\n",
    "import requests\n",
    "from pandas.io.json import json_normalize"
   ]
  },
  {
   "cell_type": "markdown",
   "metadata": {},
   "source": [
    "# Methodology\n",
    "## Connecting with the City of Atlanta's GIS system"
   ]
  },
  {
   "cell_type": "markdown",
   "metadata": {},
   "source": [
    "## Connect with Foursquare"
   ]
  },
  {
   "cell_type": "markdown",
   "metadata": {},
   "source": [
    "In this hidden cell, the authorization criteria are provided for interacting with the Foursquare API."
   ]
  },
  {
   "cell_type": "code",
   "execution_count": 10,
   "metadata": {},
   "outputs": [],
   "source": [
    "# @hidden_cell\n",
    "client_secret = 'PLV5C4EDNBSRH4AMBKOXNGHFZWHEWCGULGTQLPQZVQFJFYZO'\n",
    "client_id = 'HE3V0C15YMFATHFBWRAZ0B32H12HYYSJ1HJ523U02CKPEO3M'\n",
    "ver = '20180604'"
   ]
  },
  {
   "cell_type": "markdown",
   "metadata": {},
   "source": [
    "In order to query the foursquare API, we have to specify a latitude, longitude, row limit, and radius in order to create the request URL."
   ]
  },
  {
   "cell_type": "code",
   "execution_count": 17,
   "metadata": {},
   "outputs": [],
   "source": [
    "lat = 33.755845\n",
    "long = -84.38901\n",
    "limit = 500\n",
    "radius=500"
   ]
  },
  {
   "cell_type": "code",
   "execution_count": 18,
   "metadata": {},
   "outputs": [],
   "source": [
    "url = 'https://api.foursquare.com/v2/venues/explore?client_id={}&client_secret={}&ll={},{}&v={}&limit={}&radius={}'.format(client_id, client_secret, lat, long, ver, limit,radius)"
   ]
  },
  {
   "cell_type": "markdown",
   "metadata": {},
   "source": [
    "Using this URL, we interact with Foursquare and then process the results into a dataframe."
   ]
  },
  {
   "cell_type": "code",
   "execution_count": 13,
   "metadata": {},
   "outputs": [],
   "source": [
    "results = requests.get(url).json()\n",
    "items = results['response']['groups'][0]['items']\n",
    "dataframe = json_normalize(items)"
   ]
  },
  {
   "cell_type": "markdown",
   "metadata": {},
   "source": [
    "Within this dataframe, the \"Categories\" column contains structured data, so we will define a function that extracts the category from this structure."
   ]
  },
  {
   "cell_type": "code",
   "execution_count": 14,
   "metadata": {},
   "outputs": [],
   "source": [
    "def get_category_type(row):\n",
    "    try:\n",
    "        categories_list = row['categories']\n",
    "    except:\n",
    "        categories_list = row['venue.categories']\n",
    "        \n",
    "    if len(categories_list) == 0:\n",
    "        return None\n",
    "    else:\n",
    "        return categories_list[0]['name']"
   ]
  },
  {
   "cell_type": "markdown",
   "metadata": {},
   "source": [
    "The results dataframe contains much more data than needed for this analysis, so we will create a smaller dataframe with only the information of interest."
   ]
  },
  {
   "cell_type": "code",
   "execution_count": 15,
   "metadata": {},
   "outputs": [],
   "source": [
    "data=pd.DataFrame()\n",
    "data['name'] = dataframe['venue.name']\n",
    "data['categories'] = dataframe['venue.categories']\n",
    "data['latitude'] = dataframe['venue.location.lat']\n",
    "data['longitude'] = dataframe['venue.location.lng']\n",
    "data['neighborhood'] = dataframe['venue.location.neighborhood']\n",
    "data['categories'] = data.apply(get_category_type, axis=1)"
   ]
  },
  {
   "cell_type": "code",
   "execution_count": 16,
   "metadata": {},
   "outputs": [
    {
     "data": {
      "text/html": [
       "<div>\n",
       "<style scoped>\n",
       "    .dataframe tbody tr th:only-of-type {\n",
       "        vertical-align: middle;\n",
       "    }\n",
       "\n",
       "    .dataframe tbody tr th {\n",
       "        vertical-align: top;\n",
       "    }\n",
       "\n",
       "    .dataframe thead th {\n",
       "        text-align: right;\n",
       "    }\n",
       "</style>\n",
       "<table border=\"1\" class=\"dataframe\">\n",
       "  <thead>\n",
       "    <tr style=\"text-align: right;\">\n",
       "      <th></th>\n",
       "      <th>name</th>\n",
       "      <th>categories</th>\n",
       "      <th>latitude</th>\n",
       "      <th>longitude</th>\n",
       "      <th>neighborhood</th>\n",
       "    </tr>\n",
       "  </thead>\n",
       "  <tbody>\n",
       "    <tr>\n",
       "      <th>0</th>\n",
       "      <td>Fish Bowl Poké</td>\n",
       "      <td>Poke Place</td>\n",
       "      <td>33.755727</td>\n",
       "      <td>-84.389400</td>\n",
       "      <td>Downtown Atlanta, Atlanta, GA</td>\n",
       "    </tr>\n",
       "    <tr>\n",
       "      <th>1</th>\n",
       "      <td>Blossom Tree</td>\n",
       "      <td>Korean Restaurant</td>\n",
       "      <td>33.755496</td>\n",
       "      <td>-84.389006</td>\n",
       "      <td>NaN</td>\n",
       "    </tr>\n",
       "    <tr>\n",
       "      <th>2</th>\n",
       "      <td>Dua Vietnamese Noodle Soup</td>\n",
       "      <td>Vietnamese Restaurant</td>\n",
       "      <td>33.755610</td>\n",
       "      <td>-84.389530</td>\n",
       "      <td>NaN</td>\n",
       "    </tr>\n",
       "    <tr>\n",
       "      <th>3</th>\n",
       "      <td>Reuben's Deli</td>\n",
       "      <td>Deli / Bodega</td>\n",
       "      <td>33.755687</td>\n",
       "      <td>-84.389442</td>\n",
       "      <td>NaN</td>\n",
       "    </tr>\n",
       "    <tr>\n",
       "      <th>4</th>\n",
       "      <td>Anatolia Cafe &amp; Hookah Lounge</td>\n",
       "      <td>Hookah Bar</td>\n",
       "      <td>33.755120</td>\n",
       "      <td>-84.389413</td>\n",
       "      <td>NaN</td>\n",
       "    </tr>\n",
       "  </tbody>\n",
       "</table>\n",
       "</div>"
      ],
      "text/plain": [
       "                            name             categories   latitude  longitude  \\\n",
       "0                 Fish Bowl Poké             Poke Place  33.755727 -84.389400   \n",
       "1                   Blossom Tree      Korean Restaurant  33.755496 -84.389006   \n",
       "2     Dua Vietnamese Noodle Soup  Vietnamese Restaurant  33.755610 -84.389530   \n",
       "3                  Reuben's Deli          Deli / Bodega  33.755687 -84.389442   \n",
       "4  Anatolia Cafe & Hookah Lounge             Hookah Bar  33.755120 -84.389413   \n",
       "\n",
       "                    neighborhood  \n",
       "0  Downtown Atlanta, Atlanta, GA  \n",
       "1                            NaN  \n",
       "2                            NaN  \n",
       "3                            NaN  \n",
       "4                            NaN  "
      ]
     },
     "execution_count": 16,
     "metadata": {},
     "output_type": "execute_result"
    }
   ],
   "source": [
    "data.head()"
   ]
  },
  {
   "cell_type": "markdown",
   "metadata": {},
   "source": [
    "## Classify each restaurant into a neighborhood planning unit"
   ]
  },
  {
   "cell_type": "code",
   "execution_count": null,
   "metadata": {},
   "outputs": [],
   "source": []
  },
  {
   "cell_type": "markdown",
   "metadata": {},
   "source": [
    "# Clustering Analysis\n",
    "## Visualize Raw Data"
   ]
  },
  {
   "cell_type": "code",
   "execution_count": 19,
   "metadata": {
    "code_folding": [
     2
    ]
   },
   "outputs": [
    {
     "data": {
      "text/html": [
       "<div style=\"width:100%;\"><div style=\"position:relative;width:100%;height:0;padding-bottom:60%;\"><iframe src=\"data:text/html;charset=utf-8;base64,PCFET0NUWVBFIGh0bWw+CjxoZWFkPiAgICAKICAgIDxtZXRhIGh0dHAtZXF1aXY9ImNvbnRlbnQtdHlwZSIgY29udGVudD0idGV4dC9odG1sOyBjaGFyc2V0PVVURi04IiAvPgogICAgPHNjcmlwdD5MX1BSRUZFUl9DQU5WQVM9ZmFsc2U7IExfTk9fVE9VQ0g9ZmFsc2U7IExfRElTQUJMRV8zRD1mYWxzZTs8L3NjcmlwdD4KICAgIDxzY3JpcHQgc3JjPSJodHRwczovL2Nkbi5qc2RlbGl2ci5uZXQvbnBtL2xlYWZsZXRAMS40LjAvZGlzdC9sZWFmbGV0LmpzIj48L3NjcmlwdD4KICAgIDxzY3JpcHQgc3JjPSJodHRwczovL2NvZGUuanF1ZXJ5LmNvbS9qcXVlcnktMS4xMi40Lm1pbi5qcyI+PC9zY3JpcHQ+CiAgICA8c2NyaXB0IHNyYz0iaHR0cHM6Ly9tYXhjZG4uYm9vdHN0cmFwY2RuLmNvbS9ib290c3RyYXAvMy4yLjAvanMvYm9vdHN0cmFwLm1pbi5qcyI+PC9zY3JpcHQ+CiAgICA8c2NyaXB0IHNyYz0iaHR0cHM6Ly9jZG5qcy5jbG91ZGZsYXJlLmNvbS9hamF4L2xpYnMvTGVhZmxldC5hd2Vzb21lLW1hcmtlcnMvMi4wLjIvbGVhZmxldC5hd2Vzb21lLW1hcmtlcnMuanMiPjwvc2NyaXB0PgogICAgPGxpbmsgcmVsPSJzdHlsZXNoZWV0IiBocmVmPSJodHRwczovL2Nkbi5qc2RlbGl2ci5uZXQvbnBtL2xlYWZsZXRAMS40LjAvZGlzdC9sZWFmbGV0LmNzcyIvPgogICAgPGxpbmsgcmVsPSJzdHlsZXNoZWV0IiBocmVmPSJodHRwczovL21heGNkbi5ib290c3RyYXBjZG4uY29tL2Jvb3RzdHJhcC8zLjIuMC9jc3MvYm9vdHN0cmFwLm1pbi5jc3MiLz4KICAgIDxsaW5rIHJlbD0ic3R5bGVzaGVldCIgaHJlZj0iaHR0cHM6Ly9tYXhjZG4uYm9vdHN0cmFwY2RuLmNvbS9ib290c3RyYXAvMy4yLjAvY3NzL2Jvb3RzdHJhcC10aGVtZS5taW4uY3NzIi8+CiAgICA8bGluayByZWw9InN0eWxlc2hlZXQiIGhyZWY9Imh0dHBzOi8vbWF4Y2RuLmJvb3RzdHJhcGNkbi5jb20vZm9udC1hd2Vzb21lLzQuNi4zL2Nzcy9mb250LWF3ZXNvbWUubWluLmNzcyIvPgogICAgPGxpbmsgcmVsPSJzdHlsZXNoZWV0IiBocmVmPSJodHRwczovL2NkbmpzLmNsb3VkZmxhcmUuY29tL2FqYXgvbGlicy9MZWFmbGV0LmF3ZXNvbWUtbWFya2Vycy8yLjAuMi9sZWFmbGV0LmF3ZXNvbWUtbWFya2Vycy5jc3MiLz4KICAgIDxsaW5rIHJlbD0ic3R5bGVzaGVldCIgaHJlZj0iaHR0cHM6Ly9yYXdjZG4uZ2l0aGFjay5jb20vcHl0aG9uLXZpc3VhbGl6YXRpb24vZm9saXVtL21hc3Rlci9mb2xpdW0vdGVtcGxhdGVzL2xlYWZsZXQuYXdlc29tZS5yb3RhdGUuY3NzIi8+CiAgICA8c3R5bGU+aHRtbCwgYm9keSB7d2lkdGg6IDEwMCU7aGVpZ2h0OiAxMDAlO21hcmdpbjogMDtwYWRkaW5nOiAwO308L3N0eWxlPgogICAgPHN0eWxlPiNtYXAge3Bvc2l0aW9uOmFic29sdXRlO3RvcDowO2JvdHRvbTowO3JpZ2h0OjA7bGVmdDowO308L3N0eWxlPgogICAgCiAgICA8bWV0YSBuYW1lPSJ2aWV3cG9ydCIgY29udGVudD0id2lkdGg9ZGV2aWNlLXdpZHRoLAogICAgICAgIGluaXRpYWwtc2NhbGU9MS4wLCBtYXhpbXVtLXNjYWxlPTEuMCwgdXNlci1zY2FsYWJsZT1ubyIgLz4KICAgIDxzdHlsZT4jbWFwXzI3NDUzMmUwZTgwNTQzN2FhZTIzYWI5YzlkNzJhY2QxIHsKICAgICAgICBwb3NpdGlvbjogcmVsYXRpdmU7CiAgICAgICAgd2lkdGg6IDEwMC4wJTsKICAgICAgICBoZWlnaHQ6IDEwMC4wJTsKICAgICAgICBsZWZ0OiAwLjAlOwogICAgICAgIHRvcDogMC4wJTsKICAgICAgICB9CiAgICA8L3N0eWxlPgo8L2hlYWQ+Cjxib2R5PiAgICAKICAgIAogICAgPGRpdiBjbGFzcz0iZm9saXVtLW1hcCIgaWQ9Im1hcF8yNzQ1MzJlMGU4MDU0MzdhYWUyM2FiOWM5ZDcyYWNkMSIgPjwvZGl2Pgo8L2JvZHk+CjxzY3JpcHQ+ICAgIAogICAgCiAgICAKICAgICAgICB2YXIgYm91bmRzID0gbnVsbDsKICAgIAoKICAgIHZhciBtYXBfMjc0NTMyZTBlODA1NDM3YWFlMjNhYjljOWQ3MmFjZDEgPSBMLm1hcCgKICAgICAgICAnbWFwXzI3NDUzMmUwZTgwNTQzN2FhZTIzYWI5YzlkNzJhY2QxJywgewogICAgICAgIGNlbnRlcjogWzMzLjc1NTg0NSwgLTg0LjM4OTAxXSwKICAgICAgICB6b29tOiAxNSwKICAgICAgICBtYXhCb3VuZHM6IGJvdW5kcywKICAgICAgICBsYXllcnM6IFtdLAogICAgICAgIHdvcmxkQ29weUp1bXA6IGZhbHNlLAogICAgICAgIGNyczogTC5DUlMuRVBTRzM4NTcsCiAgICAgICAgem9vbUNvbnRyb2w6IHRydWUsCiAgICAgICAgfSk7CgoKICAgIAogICAgdmFyIHRpbGVfbGF5ZXJfMzRmZjhhM2E0ZGY5NDRhYjg0ZTg2YzM5NjVhOTBjOTUgPSBMLnRpbGVMYXllcigKICAgICAgICAnaHR0cHM6Ly97c30udGlsZS5vcGVuc3RyZWV0bWFwLm9yZy97en0ve3h9L3t5fS5wbmcnLAogICAgICAgIHsKICAgICAgICAiYXR0cmlidXRpb24iOiBudWxsLAogICAgICAgICJkZXRlY3RSZXRpbmEiOiBmYWxzZSwKICAgICAgICAibWF4TmF0aXZlWm9vbSI6IDE4LAogICAgICAgICJtYXhab29tIjogMTgsCiAgICAgICAgIm1pblpvb20iOiAwLAogICAgICAgICJub1dyYXAiOiBmYWxzZSwKICAgICAgICAib3BhY2l0eSI6IDEsCiAgICAgICAgInN1YmRvbWFpbnMiOiAiYWJjIiwKICAgICAgICAidG1zIjogZmFsc2UKfSkuYWRkVG8obWFwXzI3NDUzMmUwZTgwNTQzN2FhZTIzYWI5YzlkNzJhY2QxKTsKICAgIAoKICAgICAgICAgICAgdmFyIGNpcmNsZV9hMzkyZWZmNDdjZDg0YmE1OWY0MjViNjFlZGU1MjJhYiA9IEwuY2lyY2xlKAogICAgICAgICAgICAgICAgWzMzLjc1NTcyNzE3NjkxNzU3LCAtODQuMzg5NDAwMTgwODQ4ODRdLAogICAgICAgICAgICAgICAgewogICJidWJibGluZ01vdXNlRXZlbnRzIjogdHJ1ZSwKICAiY29sb3IiOiAiIzMzODhmZiIsCiAgImRhc2hBcnJheSI6IG51bGwsCiAgImRhc2hPZmZzZXQiOiBudWxsLAogICJmaWxsIjogdHJ1ZSwKICAiZmlsbENvbG9yIjogIiMzMzg4ZmYiLAogICJmaWxsT3BhY2l0eSI6IDAuMiwKICAiZmlsbFJ1bGUiOiAiZXZlbm9kZCIsCiAgImxpbmVDYXAiOiAicm91bmQiLAogICJsaW5lSm9pbiI6ICJyb3VuZCIsCiAgIm9wYWNpdHkiOiAxLjAsCiAgInJhZGl1cyI6IDEwLAogICJzdHJva2UiOiB0cnVlLAogICJ3ZWlnaHQiOiAzCn0KICAgICAgICAgICAgICAgICkKICAgICAgICAgICAgICAgIC5hZGRUbyhtYXBfMjc0NTMyZTBlODA1NDM3YWFlMjNhYjljOWQ3MmFjZDEpOwogICAgICAgICAgICAKICAgIAogICAgICAgICAgICB2YXIgcG9wdXBfYzA5MmU0MzNhMmE5NGZmZjhlMmUxNTY1YjA1ZDBiMzUgPSBMLnBvcHVwKHttYXhXaWR0aDogJzEwMCUnCiAgICAgICAgICAgIAogICAgICAgICAgICB9KTsKCiAgICAgICAgICAgIAogICAgICAgICAgICAgICAgdmFyIGh0bWxfNzMwZTMxYTk4OGUyNDdkMmEzODgxN2YzMGU4ZWIyNTYgPSAkKGA8ZGl2IGlkPSJodG1sXzczMGUzMWE5ODhlMjQ3ZDJhMzg4MTdmMzBlOGViMjU2IiBzdHlsZT0id2lkdGg6IDEwMC4wJTsgaGVpZ2h0OiAxMDAuMCU7Ij5GaXNoIEJvd2wgUG9rw6k8L2Rpdj5gKVswXTsKICAgICAgICAgICAgICAgIHBvcHVwX2MwOTJlNDMzYTJhOTRmZmY4ZTJlMTU2NWIwNWQwYjM1LnNldENvbnRlbnQoaHRtbF83MzBlMzFhOTg4ZTI0N2QyYTM4ODE3ZjMwZThlYjI1Nik7CiAgICAgICAgICAgIAoKICAgICAgICAgICAgY2lyY2xlX2EzOTJlZmY0N2NkODRiYTU5ZjQyNWI2MWVkZTUyMmFiLmJpbmRQb3B1cChwb3B1cF9jMDkyZTQzM2EyYTk0ZmZmOGUyZTE1NjViMDVkMGIzNSkKICAgICAgICAgICAgOwoKICAgICAgICAgICAgCiAgICAgICAgCiAgICAKCiAgICAgICAgICAgIHZhciBjaXJjbGVfNjA5OThhYWZiNDJmNGNhZTk4ZWJlNDlmNDM5OWJlMTEgPSBMLmNpcmNsZSgKICAgICAgICAgICAgICAgIFszMy43NTU0OTYwMjU0NTkzNjUsIC04NC4zODkwMDU3NTU2MDU1N10sCiAgICAgICAgICAgICAgICB7CiAgImJ1YmJsaW5nTW91c2VFdmVudHMiOiB0cnVlLAogICJjb2xvciI6ICIjMzM4OGZmIiwKICAiZGFzaEFycmF5IjogbnVsbCwKICAiZGFzaE9mZnNldCI6IG51bGwsCiAgImZpbGwiOiB0cnVlLAogICJmaWxsQ29sb3IiOiAiIzMzODhmZiIsCiAgImZpbGxPcGFjaXR5IjogMC4yLAogICJmaWxsUnVsZSI6ICJldmVub2RkIiwKICAibGluZUNhcCI6ICJyb3VuZCIsCiAgImxpbmVKb2luIjogInJvdW5kIiwKICAib3BhY2l0eSI6IDEuMCwKICAicmFkaXVzIjogMTAsCiAgInN0cm9rZSI6IHRydWUsCiAgIndlaWdodCI6IDMKfQogICAgICAgICAgICAgICAgKQogICAgICAgICAgICAgICAgLmFkZFRvKG1hcF8yNzQ1MzJlMGU4MDU0MzdhYWUyM2FiOWM5ZDcyYWNkMSk7CiAgICAgICAgICAgIAogICAgCiAgICAgICAgICAgIHZhciBwb3B1cF9kMmY5OTgwODRiZGM0MTQyYjRlOTFjMDNkZTlkMmNhMCA9IEwucG9wdXAoe21heFdpZHRoOiAnMTAwJScKICAgICAgICAgICAgCiAgICAgICAgICAgIH0pOwoKICAgICAgICAgICAgCiAgICAgICAgICAgICAgICB2YXIgaHRtbF84NWY4NmU2MzYwNjQ0YzJmYjY4NzlkNzUwZTc2YmM3MyA9ICQoYDxkaXYgaWQ9Imh0bWxfODVmODZlNjM2MDY0NGMyZmI2ODc5ZDc1MGU3NmJjNzMiIHN0eWxlPSJ3aWR0aDogMTAwLjAlOyBoZWlnaHQ6IDEwMC4wJTsiPkJsb3Nzb20gVHJlZTwvZGl2PmApWzBdOwogICAgICAgICAgICAgICAgcG9wdXBfZDJmOTk4MDg0YmRjNDE0MmI0ZTkxYzAzZGU5ZDJjYTAuc2V0Q29udGVudChodG1sXzg1Zjg2ZTYzNjA2NDRjMmZiNjg3OWQ3NTBlNzZiYzczKTsKICAgICAgICAgICAgCgogICAgICAgICAgICBjaXJjbGVfNjA5OThhYWZiNDJmNGNhZTk4ZWJlNDlmNDM5OWJlMTEuYmluZFBvcHVwKHBvcHVwX2QyZjk5ODA4NGJkYzQxNDJiNGU5MWMwM2RlOWQyY2EwKQogICAgICAgICAgICA7CgogICAgICAgICAgICAKICAgICAgICAKICAgIAoKICAgICAgICAgICAgdmFyIGNpcmNsZV82MzJiNjkyMWYxNzE0MTVkODFiMDE5YWE0MjgwYjNhMSA9IEwuY2lyY2xlKAogICAgICAgICAgICAgICAgWzMzLjc1NTYwOTYzMDE4OTQ2LCAtODQuMzg5NTMwMTU0MjQ1NjZdLAogICAgICAgICAgICAgICAgewogICJidWJibGluZ01vdXNlRXZlbnRzIjogdHJ1ZSwKICAiY29sb3IiOiAiIzMzODhmZiIsCiAgImRhc2hBcnJheSI6IG51bGwsCiAgImRhc2hPZmZzZXQiOiBudWxsLAogICJmaWxsIjogdHJ1ZSwKICAiZmlsbENvbG9yIjogIiMzMzg4ZmYiLAogICJmaWxsT3BhY2l0eSI6IDAuMiwKICAiZmlsbFJ1bGUiOiAiZXZlbm9kZCIsCiAgImxpbmVDYXAiOiAicm91bmQiLAogICJsaW5lSm9pbiI6ICJyb3VuZCIsCiAgIm9wYWNpdHkiOiAxLjAsCiAgInJhZGl1cyI6IDEwLAogICJzdHJva2UiOiB0cnVlLAogICJ3ZWlnaHQiOiAzCn0KICAgICAgICAgICAgICAgICkKICAgICAgICAgICAgICAgIC5hZGRUbyhtYXBfMjc0NTMyZTBlODA1NDM3YWFlMjNhYjljOWQ3MmFjZDEpOwogICAgICAgICAgICAKICAgIAogICAgICAgICAgICB2YXIgcG9wdXBfMDE2YjA0NTU1MWVlNDNmZDhiN2RmM2NiMzhiOWEwYWUgPSBMLnBvcHVwKHttYXhXaWR0aDogJzEwMCUnCiAgICAgICAgICAgIAogICAgICAgICAgICB9KTsKCiAgICAgICAgICAgIAogICAgICAgICAgICAgICAgdmFyIGh0bWxfNzU5MjFjOGFiMmNiNGZlNmFmNjI0MGE0NmE5MDkyOWMgPSAkKGA8ZGl2IGlkPSJodG1sXzc1OTIxYzhhYjJjYjRmZTZhZjYyNDBhNDZhOTA5MjljIiBzdHlsZT0id2lkdGg6IDEwMC4wJTsgaGVpZ2h0OiAxMDAuMCU7Ij5EdWEgVmlldG5hbWVzZSBOb29kbGUgU291cDwvZGl2PmApWzBdOwogICAgICAgICAgICAgICAgcG9wdXBfMDE2YjA0NTU1MWVlNDNmZDhiN2RmM2NiMzhiOWEwYWUuc2V0Q29udGVudChodG1sXzc1OTIxYzhhYjJjYjRmZTZhZjYyNDBhNDZhOTA5MjljKTsKICAgICAgICAgICAgCgogICAgICAgICAgICBjaXJjbGVfNjMyYjY5MjFmMTcxNDE1ZDgxYjAxOWFhNDI4MGIzYTEuYmluZFBvcHVwKHBvcHVwXzAxNmIwNDU1NTFlZTQzZmQ4YjdkZjNjYjM4YjlhMGFlKQogICAgICAgICAgICA7CgogICAgICAgICAgICAKICAgICAgICAKICAgIAoKICAgICAgICAgICAgdmFyIGNpcmNsZV84NGNjODM4OWE3NWQ0OTYxOWM2NDNjMGU3ZWFmZDhkMiA9IEwuY2lyY2xlKAogICAgICAgICAgICAgICAgWzMzLjc1NTY4NzAwNTkxOTE2LCAtODQuMzg5NDQxNzcwNzAxMjRdLAogICAgICAgICAgICAgICAgewogICJidWJibGluZ01vdXNlRXZlbnRzIjogdHJ1ZSwKICAiY29sb3IiOiAiIzMzODhmZiIsCiAgImRhc2hBcnJheSI6IG51bGwsCiAgImRhc2hPZmZzZXQiOiBudWxsLAogICJmaWxsIjogdHJ1ZSwKICAiZmlsbENvbG9yIjogIiMzMzg4ZmYiLAogICJmaWxsT3BhY2l0eSI6IDAuMiwKICAiZmlsbFJ1bGUiOiAiZXZlbm9kZCIsCiAgImxpbmVDYXAiOiAicm91bmQiLAogICJsaW5lSm9pbiI6ICJyb3VuZCIsCiAgIm9wYWNpdHkiOiAxLjAsCiAgInJhZGl1cyI6IDEwLAogICJzdHJva2UiOiB0cnVlLAogICJ3ZWlnaHQiOiAzCn0KICAgICAgICAgICAgICAgICkKICAgICAgICAgICAgICAgIC5hZGRUbyhtYXBfMjc0NTMyZTBlODA1NDM3YWFlMjNhYjljOWQ3MmFjZDEpOwogICAgICAgICAgICAKICAgIAogICAgICAgICAgICB2YXIgcG9wdXBfNGFjMjdhZjM5MjhkNDg5ZWFjOWExMDhmYzE4NDdlOGYgPSBMLnBvcHVwKHttYXhXaWR0aDogJzEwMCUnCiAgICAgICAgICAgIAogICAgICAgICAgICB9KTsKCiAgICAgICAgICAgIAogICAgICAgICAgICAgICAgdmFyIGh0bWxfYWNhYTBkZGUzNmFlNDExZWIxYWM3OWI4ZWYxYzVlMjIgPSAkKGA8ZGl2IGlkPSJodG1sX2FjYWEwZGRlMzZhZTQxMWViMWFjNzliOGVmMWM1ZTIyIiBzdHlsZT0id2lkdGg6IDEwMC4wJTsgaGVpZ2h0OiAxMDAuMCU7Ij5SZXViZW4ncyBEZWxpPC9kaXY+YClbMF07CiAgICAgICAgICAgICAgICBwb3B1cF80YWMyN2FmMzkyOGQ0ODllYWM5YTEwOGZjMTg0N2U4Zi5zZXRDb250ZW50KGh0bWxfYWNhYTBkZGUzNmFlNDExZWIxYWM3OWI4ZWYxYzVlMjIpOwogICAgICAgICAgICAKCiAgICAgICAgICAgIGNpcmNsZV84NGNjODM4OWE3NWQ0OTYxOWM2NDNjMGU3ZWFmZDhkMi5iaW5kUG9wdXAocG9wdXBfNGFjMjdhZjM5MjhkNDg5ZWFjOWExMDhmYzE4NDdlOGYpCiAgICAgICAgICAgIDsKCiAgICAgICAgICAgIAogICAgICAgIAogICAgCgogICAgICAgICAgICB2YXIgY2lyY2xlX2RjZTcwZTg4OGI0MzRmYjlhY2RhYWQ1MTNmMmNmZjU3ID0gTC5jaXJjbGUoCiAgICAgICAgICAgICAgICBbMzMuNzU1MTE5NjM4NjUzMTU2LCAtODQuMzg5NDEzMzAzNTM0NTFdLAogICAgICAgICAgICAgICAgewogICJidWJibGluZ01vdXNlRXZlbnRzIjogdHJ1ZSwKICAiY29sb3IiOiAiIzMzODhmZiIsCiAgImRhc2hBcnJheSI6IG51bGwsCiAgImRhc2hPZmZzZXQiOiBudWxsLAogICJmaWxsIjogdHJ1ZSwKICAiZmlsbENvbG9yIjogIiMzMzg4ZmYiLAogICJmaWxsT3BhY2l0eSI6IDAuMiwKICAiZmlsbFJ1bGUiOiAiZXZlbm9kZCIsCiAgImxpbmVDYXAiOiAicm91bmQiLAogICJsaW5lSm9pbiI6ICJyb3VuZCIsCiAgIm9wYWNpdHkiOiAxLjAsCiAgInJhZGl1cyI6IDEwLAogICJzdHJva2UiOiB0cnVlLAogICJ3ZWlnaHQiOiAzCn0KICAgICAgICAgICAgICAgICkKICAgICAgICAgICAgICAgIC5hZGRUbyhtYXBfMjc0NTMyZTBlODA1NDM3YWFlMjNhYjljOWQ3MmFjZDEpOwogICAgICAgICAgICAKICAgIAogICAgICAgICAgICB2YXIgcG9wdXBfYmUyOTM4MTJjYjVlNDYxOTk1OGI0ZGQ0ZTQ4ZmM3MzEgPSBMLnBvcHVwKHttYXhXaWR0aDogJzEwMCUnCiAgICAgICAgICAgIAogICAgICAgICAgICB9KTsKCiAgICAgICAgICAgIAogICAgICAgICAgICAgICAgdmFyIGh0bWxfOTc2ODAzODYyZmZkNDRlOGIzM2E2MjQxYjY3NDlhMmIgPSAkKGA8ZGl2IGlkPSJodG1sXzk3NjgwMzg2MmZmZDQ0ZThiMzNhNjI0MWI2NzQ5YTJiIiBzdHlsZT0id2lkdGg6IDEwMC4wJTsgaGVpZ2h0OiAxMDAuMCU7Ij5BbmF0b2xpYSBDYWZlICYgSG9va2FoIExvdW5nZTwvZGl2PmApWzBdOwogICAgICAgICAgICAgICAgcG9wdXBfYmUyOTM4MTJjYjVlNDYxOTk1OGI0ZGQ0ZTQ4ZmM3MzEuc2V0Q29udGVudChodG1sXzk3NjgwMzg2MmZmZDQ0ZThiMzNhNjI0MWI2NzQ5YTJiKTsKICAgICAgICAgICAgCgogICAgICAgICAgICBjaXJjbGVfZGNlNzBlODg4YjQzNGZiOWFjZGFhZDUxM2YyY2ZmNTcuYmluZFBvcHVwKHBvcHVwX2JlMjkzODEyY2I1ZTQ2MTk5NThiNGRkNGU0OGZjNzMxKQogICAgICAgICAgICA7CgogICAgICAgICAgICAKICAgICAgICAKICAgIAoKICAgICAgICAgICAgdmFyIGNpcmNsZV9jOGUxOTUzM2FlMmE0MzI0YmZlNzVkMjNiZmM3MzY0YiA9IEwuY2lyY2xlKAogICAgICAgICAgICAgICAgWzMzLjc1Mzg5NywgLTg0LjM4ODc4Ml0sCiAgICAgICAgICAgICAgICB7CiAgImJ1YmJsaW5nTW91c2VFdmVudHMiOiB0cnVlLAogICJjb2xvciI6ICIjMzM4OGZmIiwKICAiZGFzaEFycmF5IjogbnVsbCwKICAiZGFzaE9mZnNldCI6IG51bGwsCiAgImZpbGwiOiB0cnVlLAogICJmaWxsQ29sb3IiOiAiIzMzODhmZiIsCiAgImZpbGxPcGFjaXR5IjogMC4yLAogICJmaWxsUnVsZSI6ICJldmVub2RkIiwKICAibGluZUNhcCI6ICJyb3VuZCIsCiAgImxpbmVKb2luIjogInJvdW5kIiwKICAib3BhY2l0eSI6IDEuMCwKICAicmFkaXVzIjogMTAsCiAgInN0cm9rZSI6IHRydWUsCiAgIndlaWdodCI6IDMKfQogICAgICAgICAgICAgICAgKQogICAgICAgICAgICAgICAgLmFkZFRvKG1hcF8yNzQ1MzJlMGU4MDU0MzdhYWUyM2FiOWM5ZDcyYWNkMSk7CiAgICAgICAgICAgIAogICAgCiAgICAgICAgICAgIHZhciBwb3B1cF85NWFmZDk0ZWYzNTI0ODFiYjQ4M2NiMmNkMmQ4ZDQxZiA9IEwucG9wdXAoe21heFdpZHRoOiAnMTAwJScKICAgICAgICAgICAgCiAgICAgICAgICAgIH0pOwoKICAgICAgICAgICAgCiAgICAgICAgICAgICAgICB2YXIgaHRtbF83OTA3YjkxYWQ3NjE0MzZlYTIyMDRkNWEwYjlmYTEzMyA9ICQoYDxkaXYgaWQ9Imh0bWxfNzkwN2I5MWFkNzYxNDM2ZWEyMjA0ZDVhMGI5ZmExMzMiIHN0eWxlPSJ3aWR0aDogMTAwLjAlOyBoZWlnaHQ6IDEwMC4wJTsiPkVicmlrIENvZmZlZSBSb29tPC9kaXY+YClbMF07CiAgICAgICAgICAgICAgICBwb3B1cF85NWFmZDk0ZWYzNTI0ODFiYjQ4M2NiMmNkMmQ4ZDQxZi5zZXRDb250ZW50KGh0bWxfNzkwN2I5MWFkNzYxNDM2ZWEyMjA0ZDVhMGI5ZmExMzMpOwogICAgICAgICAgICAKCiAgICAgICAgICAgIGNpcmNsZV9jOGUxOTUzM2FlMmE0MzI0YmZlNzVkMjNiZmM3MzY0Yi5iaW5kUG9wdXAocG9wdXBfOTVhZmQ5NGVmMzUyNDgxYmI0ODNjYjJjZDJkOGQ0MWYpCiAgICAgICAgICAgIDsKCiAgICAgICAgICAgIAogICAgICAgIAogICAgCgogICAgICAgICAgICB2YXIgY2lyY2xlX2ViODdiMDhhMTQwZTQ0OTM5NGY2NzEwMjAzODFhZmZjID0gTC5jaXJjbGUoCiAgICAgICAgICAgICAgICBbMzMuNzU2ODEzMDc3ODY3Mjg1LCAtODQuMzg5MjM4NzY0NzUwMjZdLAogICAgICAgICAgICAgICAgewogICJidWJibGluZ01vdXNlRXZlbnRzIjogdHJ1ZSwKICAiY29sb3IiOiAiIzMzODhmZiIsCiAgImRhc2hBcnJheSI6IG51bGwsCiAgImRhc2hPZmZzZXQiOiBudWxsLAogICJmaWxsIjogdHJ1ZSwKICAiZmlsbENvbG9yIjogIiMzMzg4ZmYiLAogICJmaWxsT3BhY2l0eSI6IDAuMiwKICAiZmlsbFJ1bGUiOiAiZXZlbm9kZCIsCiAgImxpbmVDYXAiOiAicm91bmQiLAogICJsaW5lSm9pbiI6ICJyb3VuZCIsCiAgIm9wYWNpdHkiOiAxLjAsCiAgInJhZGl1cyI6IDEwLAogICJzdHJva2UiOiB0cnVlLAogICJ3ZWlnaHQiOiAzCn0KICAgICAgICAgICAgICAgICkKICAgICAgICAgICAgICAgIC5hZGRUbyhtYXBfMjc0NTMyZTBlODA1NDM3YWFlMjNhYjljOWQ3MmFjZDEpOwogICAgICAgICAgICAKICAgIAogICAgICAgICAgICB2YXIgcG9wdXBfYjE4MDk1ZTRmYWFlNDBhNmFlZTY2ZWE3NmFmNmY1NWEgPSBMLnBvcHVwKHttYXhXaWR0aDogJzEwMCUnCiAgICAgICAgICAgIAogICAgICAgICAgICB9KTsKCiAgICAgICAgICAgIAogICAgICAgICAgICAgICAgdmFyIGh0bWxfZGE1N2U1Mjg3NDUyNDU1MGJjZGQ1YmJjNjc2MGU0NzIgPSAkKGA8ZGl2IGlkPSJodG1sX2RhNTdlNTI4NzQ1MjQ1NTBiY2RkNWJiYzY3NjBlNDcyIiBzdHlsZT0id2lkdGg6IDEwMC4wJTsgaGVpZ2h0OiAxMDAuMCU7Ij5SaWFsdG8gQ2VudGVyIGZvciB0aGUgQXJ0czwvZGl2PmApWzBdOwogICAgICAgICAgICAgICAgcG9wdXBfYjE4MDk1ZTRmYWFlNDBhNmFlZTY2ZWE3NmFmNmY1NWEuc2V0Q29udGVudChodG1sX2RhNTdlNTI4NzQ1MjQ1NTBiY2RkNWJiYzY3NjBlNDcyKTsKICAgICAgICAgICAgCgogICAgICAgICAgICBjaXJjbGVfZWI4N2IwOGExNDBlNDQ5Mzk0ZjY3MTAyMDM4MWFmZmMuYmluZFBvcHVwKHBvcHVwX2IxODA5NWU0ZmFhZTQwYTZhZWU2NmVhNzZhZjZmNTVhKQogICAgICAgICAgICA7CgogICAgICAgICAgICAKICAgICAgICAKICAgIAoKICAgICAgICAgICAgdmFyIGNpcmNsZV84MmNlMjYzODMwMjU0Zjk2YTM0MjE4YzdlODk1ZDQ4ZCA9IEwuY2lyY2xlKAogICAgICAgICAgICAgICAgWzMzLjc1NDM0NDkwNDg5NTIsIC04NC4zODk0ODQxMTUzNTk4OV0sCiAgICAgICAgICAgICAgICB7CiAgImJ1YmJsaW5nTW91c2VFdmVudHMiOiB0cnVlLAogICJjb2xvciI6ICIjMzM4OGZmIiwKICAiZGFzaEFycmF5IjogbnVsbCwKICAiZGFzaE9mZnNldCI6IG51bGwsCiAgImZpbGwiOiB0cnVlLAogICJmaWxsQ29sb3IiOiAiIzMzODhmZiIsCiAgImZpbGxPcGFjaXR5IjogMC4yLAogICJmaWxsUnVsZSI6ICJldmVub2RkIiwKICAibGluZUNhcCI6ICJyb3VuZCIsCiAgImxpbmVKb2luIjogInJvdW5kIiwKICAib3BhY2l0eSI6IDEuMCwKICAicmFkaXVzIjogMTAsCiAgInN0cm9rZSI6IHRydWUsCiAgIndlaWdodCI6IDMKfQogICAgICAgICAgICAgICAgKQogICAgICAgICAgICAgICAgLmFkZFRvKG1hcF8yNzQ1MzJlMGU4MDU0MzdhYWUyM2FiOWM5ZDcyYWNkMSk7CiAgICAgICAgICAgIAogICAgCiAgICAgICAgICAgIHZhciBwb3B1cF8xNjUxNThiYmIzYjA0MmIzOWMyN2M1MGY3YTdhYjMwZCA9IEwucG9wdXAoe21heFdpZHRoOiAnMTAwJScKICAgICAgICAgICAgCiAgICAgICAgICAgIH0pOwoKICAgICAgICAgICAgCiAgICAgICAgICAgICAgICB2YXIgaHRtbF9iYzllMGJhZDRjNTk0Y2MzYWZiOTg3OTVhZTQwOWZkYyA9ICQoYDxkaXYgaWQ9Imh0bWxfYmM5ZTBiYWQ0YzU5NGNjM2FmYjk4Nzk1YWU0MDlmZGMiIHN0eWxlPSJ3aWR0aDogMTAwLjAlOyBoZWlnaHQ6IDEwMC4wJTsiPldhbGdyZWVuczwvZGl2PmApWzBdOwogICAgICAgICAgICAgICAgcG9wdXBfMTY1MTU4YmJiM2IwNDJiMzljMjdjNTBmN2E3YWIzMGQuc2V0Q29udGVudChodG1sX2JjOWUwYmFkNGM1OTRjYzNhZmI5ODc5NWFlNDA5ZmRjKTsKICAgICAgICAgICAgCgogICAgICAgICAgICBjaXJjbGVfODJjZTI2MzgzMDI1NGY5NmEzNDIxOGM3ZTg5NWQ0OGQuYmluZFBvcHVwKHBvcHVwXzE2NTE1OGJiYjNiMDQyYjM5YzI3YzUwZjdhN2FiMzBkKQogICAgICAgICAgICA7CgogICAgICAgICAgICAKICAgICAgICAKICAgIAoKICAgICAgICAgICAgdmFyIGNpcmNsZV8xYThlMWU5OGNhYzE0ZjBlOTRkYmExNWQyNjVjYmJmMiA9IEwuY2lyY2xlKAogICAgICAgICAgICAgICAgWzMzLjc1NTc5MjQ2MDAwNjAwNiwgLTg0LjM4OTI3NDM4MDE2MTk2XSwKICAgICAgICAgICAgICAgIHsKICAiYnViYmxpbmdNb3VzZUV2ZW50cyI6IHRydWUsCiAgImNvbG9yIjogIiMzMzg4ZmYiLAogICJkYXNoQXJyYXkiOiBudWxsLAogICJkYXNoT2Zmc2V0IjogbnVsbCwKICAiZmlsbCI6IHRydWUsCiAgImZpbGxDb2xvciI6ICIjMzM4OGZmIiwKICAiZmlsbE9wYWNpdHkiOiAwLjIsCiAgImZpbGxSdWxlIjogImV2ZW5vZGQiLAogICJsaW5lQ2FwIjogInJvdW5kIiwKICAibGluZUpvaW4iOiAicm91bmQiLAogICJvcGFjaXR5IjogMS4wLAogICJyYWRpdXMiOiAxMCwKICAic3Ryb2tlIjogdHJ1ZSwKICAid2VpZ2h0IjogMwp9CiAgICAgICAgICAgICAgICApCiAgICAgICAgICAgICAgICAuYWRkVG8obWFwXzI3NDUzMmUwZTgwNTQzN2FhZTIzYWI5YzlkNzJhY2QxKTsKICAgICAgICAgICAgCiAgICAKICAgICAgICAgICAgdmFyIHBvcHVwXzdlZmE1Nzc2M2IwYzQ3NGJhMGI0NTk0NjRlNWQ4ZTY5ID0gTC5wb3B1cCh7bWF4V2lkdGg6ICcxMDAlJwogICAgICAgICAgICAKICAgICAgICAgICAgfSk7CgogICAgICAgICAgICAKICAgICAgICAgICAgICAgIHZhciBodG1sXzExNDZmZTM3NWNlYzQ2NjhhYmU1YzEwMDhhYTBiZTM3ID0gJChgPGRpdiBpZD0iaHRtbF8xMTQ2ZmUzNzVjZWM0NjY4YWJlNWMxMDA4YWEwYmUzNyIgc3R5bGU9IndpZHRoOiAxMDAuMCU7IGhlaWdodDogMTAwLjAlOyI+TmFhblN0b3A8L2Rpdj5gKVswXTsKICAgICAgICAgICAgICAgIHBvcHVwXzdlZmE1Nzc2M2IwYzQ3NGJhMGI0NTk0NjRlNWQ4ZTY5LnNldENvbnRlbnQoaHRtbF8xMTQ2ZmUzNzVjZWM0NjY4YWJlNWMxMDA4YWEwYmUzNyk7CiAgICAgICAgICAgIAoKICAgICAgICAgICAgY2lyY2xlXzFhOGUxZTk4Y2FjMTRmMGU5NGRiYTE1ZDI2NWNiYmYyLmJpbmRQb3B1cChwb3B1cF83ZWZhNTc3NjNiMGM0NzRiYTBiNDU5NDY0ZTVkOGU2OSkKICAgICAgICAgICAgOwoKICAgICAgICAgICAgCiAgICAgICAgCiAgICAKCiAgICAgICAgICAgIHZhciBjaXJjbGVfNjU0N2RmYWM4MzE2NDJiNGJmOWNmOTZmMmE4MDE1NDMgPSBMLmNpcmNsZSgKICAgICAgICAgICAgICAgIFszMy43NTYwNTcsIC04NC4zODkxNzFdLAogICAgICAgICAgICAgICAgewogICJidWJibGluZ01vdXNlRXZlbnRzIjogdHJ1ZSwKICAiY29sb3IiOiAiIzMzODhmZiIsCiAgImRhc2hBcnJheSI6IG51bGwsCiAgImRhc2hPZmZzZXQiOiBudWxsLAogICJmaWxsIjogdHJ1ZSwKICAiZmlsbENvbG9yIjogIiMzMzg4ZmYiLAogICJmaWxsT3BhY2l0eSI6IDAuMiwKICAiZmlsbFJ1bGUiOiAiZXZlbm9kZCIsCiAgImxpbmVDYXAiOiAicm91bmQiLAogICJsaW5lSm9pbiI6ICJyb3VuZCIsCiAgIm9wYWNpdHkiOiAxLjAsCiAgInJhZGl1cyI6IDEwLAogICJzdHJva2UiOiB0cnVlLAogICJ3ZWlnaHQiOiAzCn0KICAgICAgICAgICAgICAgICkKICAgICAgICAgICAgICAgIC5hZGRUbyhtYXBfMjc0NTMyZTBlODA1NDM3YWFlMjNhYjljOWQ3MmFjZDEpOwogICAgICAgICAgICAKICAgIAogICAgICAgICAgICB2YXIgcG9wdXBfYTU0NzJhZGI0YzFlNDkwNmE5ZjhjNGI3MjBjOGEyMjYgPSBMLnBvcHVwKHttYXhXaWR0aDogJzEwMCUnCiAgICAgICAgICAgIAogICAgICAgICAgICB9KTsKCiAgICAgICAgICAgIAogICAgICAgICAgICAgICAgdmFyIGh0bWxfNjhkYzZmYzIxOGQ1NDI3NmJiMjZiM2U2YjIxMzg5ZTYgPSAkKGA8ZGl2IGlkPSJodG1sXzY4ZGM2ZmMyMThkNTQyNzZiYjI2YjNlNmIyMTM4OWU2IiBzdHlsZT0id2lkdGg6IDEwMC4wJTsgaGVpZ2h0OiAxMDAuMCU7Ij5TbW9vdGhpZSBLaW5nPC9kaXY+YClbMF07CiAgICAgICAgICAgICAgICBwb3B1cF9hNTQ3MmFkYjRjMWU0OTA2YTlmOGM0YjcyMGM4YTIyNi5zZXRDb250ZW50KGh0bWxfNjhkYzZmYzIxOGQ1NDI3NmJiMjZiM2U2YjIxMzg5ZTYpOwogICAgICAgICAgICAKCiAgICAgICAgICAgIGNpcmNsZV82NTQ3ZGZhYzgzMTY0MmI0YmY5Y2Y5NmYyYTgwMTU0My5iaW5kUG9wdXAocG9wdXBfYTU0NzJhZGI0YzFlNDkwNmE5ZjhjNGI3MjBjOGEyMjYpCiAgICAgICAgICAgIDsKCiAgICAgICAgICAgIAogICAgICAgIAogICAgCgogICAgICAgICAgICB2YXIgY2lyY2xlXzU1YjNjYWUyZjM2MjQ4ZDRhNGMyZDYzNGVjODcwNzk3ID0gTC5jaXJjbGUoCiAgICAgICAgICAgICAgICBbMzMuNzU4MjUzMzU1NjI0NDgsIC04NC4zOTA1ODE4Mjg3ODgxM10sCiAgICAgICAgICAgICAgICB7CiAgImJ1YmJsaW5nTW91c2VFdmVudHMiOiB0cnVlLAogICJjb2xvciI6ICIjMzM4OGZmIiwKICAiZGFzaEFycmF5IjogbnVsbCwKICAiZGFzaE9mZnNldCI6IG51bGwsCiAgImZpbGwiOiB0cnVlLAogICJmaWxsQ29sb3IiOiAiIzMzODhmZiIsCiAgImZpbGxPcGFjaXR5IjogMC4yLAogICJmaWxsUnVsZSI6ICJldmVub2RkIiwKICAibGluZUNhcCI6ICJyb3VuZCIsCiAgImxpbmVKb2luIjogInJvdW5kIiwKICAib3BhY2l0eSI6IDEuMCwKICAicmFkaXVzIjogMTAsCiAgInN0cm9rZSI6IHRydWUsCiAgIndlaWdodCI6IDMKfQogICAgICAgICAgICAgICAgKQogICAgICAgICAgICAgICAgLmFkZFRvKG1hcF8yNzQ1MzJlMGU4MDU0MzdhYWUyM2FiOWM5ZDcyYWNkMSk7CiAgICAgICAgICAgIAogICAgCiAgICAgICAgICAgIHZhciBwb3B1cF8wYmRmY2QyOGY0NGQ0MDQ4ODc4YmYyNmQ2NmZmMzAzMyA9IEwucG9wdXAoe21heFdpZHRoOiAnMTAwJScKICAgICAgICAgICAgCiAgICAgICAgICAgIH0pOwoKICAgICAgICAgICAgCiAgICAgICAgICAgICAgICB2YXIgaHRtbF9mZjFmNzRjYmFiZDI0ZDdkYWUyMTFiMDM3NjZkMjY3NSA9ICQoYDxkaXYgaWQ9Imh0bWxfZmYxZjc0Y2JhYmQyNGQ3ZGFlMjExYjAzNzY2ZDI2NzUiIHN0eWxlPSJ3aWR0aDogMTAwLjAlOyBoZWlnaHQ6IDEwMC4wJTsiPlRoZSBGb29kIFNob3BwZTwvZGl2PmApWzBdOwogICAgICAgICAgICAgICAgcG9wdXBfMGJkZmNkMjhmNDRkNDA0ODg3OGJmMjZkNjZmZjMwMzMuc2V0Q29udGVudChodG1sX2ZmMWY3NGNiYWJkMjRkN2RhZTIxMWIwMzc2NmQyNjc1KTsKICAgICAgICAgICAgCgogICAgICAgICAgICBjaXJjbGVfNTViM2NhZTJmMzYyNDhkNGE0YzJkNjM0ZWM4NzA3OTcuYmluZFBvcHVwKHBvcHVwXzBiZGZjZDI4ZjQ0ZDQwNDg4NzhiZjI2ZDY2ZmYzMDMzKQogICAgICAgICAgICA7CgogICAgICAgICAgICAKICAgICAgICAKICAgIAoKICAgICAgICAgICAgdmFyIGNpcmNsZV8zNmE5ZDlkYjIzNzk0MTY3OWRlYzI0Mzk4NzE0Y2Y3MCA9IEwuY2lyY2xlKAogICAgICAgICAgICAgICAgWzMzLjc1NDI3ODEzNjk5NzMxLCAtODQuMzg4ODkxODgwNTA5MzVdLAogICAgICAgICAgICAgICAgewogICJidWJibGluZ01vdXNlRXZlbnRzIjogdHJ1ZSwKICAiY29sb3IiOiAiIzMzODhmZiIsCiAgImRhc2hBcnJheSI6IG51bGwsCiAgImRhc2hPZmZzZXQiOiBudWxsLAogICJmaWxsIjogdHJ1ZSwKICAiZmlsbENvbG9yIjogIiMzMzg4ZmYiLAogICJmaWxsT3BhY2l0eSI6IDAuMiwKICAiZmlsbFJ1bGUiOiAiZXZlbm9kZCIsCiAgImxpbmVDYXAiOiAicm91bmQiLAogICJsaW5lSm9pbiI6ICJyb3VuZCIsCiAgIm9wYWNpdHkiOiAxLjAsCiAgInJhZGl1cyI6IDEwLAogICJzdHJva2UiOiB0cnVlLAogICJ3ZWlnaHQiOiAzCn0KICAgICAgICAgICAgICAgICkKICAgICAgICAgICAgICAgIC5hZGRUbyhtYXBfMjc0NTMyZTBlODA1NDM3YWFlMjNhYjljOWQ3MmFjZDEpOwogICAgICAgICAgICAKICAgIAogICAgICAgICAgICB2YXIgcG9wdXBfNjMwMzNmYTI0YWRlNGMxOGE2MjljNDcwZGYzODBjNDggPSBMLnBvcHVwKHttYXhXaWR0aDogJzEwMCUnCiAgICAgICAgICAgIAogICAgICAgICAgICB9KTsKCiAgICAgICAgICAgIAogICAgICAgICAgICAgICAgdmFyIGh0bWxfZGU5Y2QxZDE3NWZjNDI2Y2JkOGY3OWEwNDMxOTVkYjYgPSAkKGA8ZGl2IGlkPSJodG1sX2RlOWNkMWQxNzVmYzQyNmNiZDhmNzlhMDQzMTk1ZGI2IiBzdHlsZT0id2lkdGg6IDEwMC4wJTsgaGVpZ2h0OiAxMDAuMCU7Ij5XZWVrZGF5IENhZmU8L2Rpdj5gKVswXTsKICAgICAgICAgICAgICAgIHBvcHVwXzYzMDMzZmEyNGFkZTRjMThhNjI5YzQ3MGRmMzgwYzQ4LnNldENvbnRlbnQoaHRtbF9kZTljZDFkMTc1ZmM0MjZjYmQ4Zjc5YTA0MzE5NWRiNik7CiAgICAgICAgICAgIAoKICAgICAgICAgICAgY2lyY2xlXzM2YTlkOWRiMjM3OTQxNjc5ZGVjMjQzOTg3MTRjZjcwLmJpbmRQb3B1cChwb3B1cF82MzAzM2ZhMjRhZGU0YzE4YTYyOWM0NzBkZjM4MGM0OCkKICAgICAgICAgICAgOwoKICAgICAgICAgICAgCiAgICAgICAgCiAgICAKCiAgICAgICAgICAgIHZhciBjaXJjbGVfOTVlNzY5ZjAxMGM2NDEwM2JjYjM5NTc0MTE2NTU1MzAgPSBMLmNpcmNsZSgKICAgICAgICAgICAgICAgIFszMy43NTU4NTQzMTk0NDM3MzUsIC04NC4zOTAwNjk0OTg3NDEyM10sCiAgICAgICAgICAgICAgICB7CiAgImJ1YmJsaW5nTW91c2VFdmVudHMiOiB0cnVlLAogICJjb2xvciI6ICIjMzM4OGZmIiwKICAiZGFzaEFycmF5IjogbnVsbCwKICAiZGFzaE9mZnNldCI6IG51bGwsCiAgImZpbGwiOiB0cnVlLAogICJmaWxsQ29sb3IiOiAiIzMzODhmZiIsCiAgImZpbGxPcGFjaXR5IjogMC4yLAogICJmaWxsUnVsZSI6ICJldmVub2RkIiwKICAibGluZUNhcCI6ICJyb3VuZCIsCiAgImxpbmVKb2luIjogInJvdW5kIiwKICAib3BhY2l0eSI6IDEuMCwKICAicmFkaXVzIjogMTAsCiAgInN0cm9rZSI6IHRydWUsCiAgIndlaWdodCI6IDMKfQogICAgICAgICAgICAgICAgKQogICAgICAgICAgICAgICAgLmFkZFRvKG1hcF8yNzQ1MzJlMGU4MDU0MzdhYWUyM2FiOWM5ZDcyYWNkMSk7CiAgICAgICAgICAgIAogICAgCiAgICAgICAgICAgIHZhciBwb3B1cF8wZWVlODdiMDRiNGM0OWRmYjU2YWI2MjkyODBkNTY4ZSA9IEwucG9wdXAoe21heFdpZHRoOiAnMTAwJScKICAgICAgICAgICAgCiAgICAgICAgICAgIH0pOwoKICAgICAgICAgICAgCiAgICAgICAgICAgICAgICB2YXIgaHRtbF81MjNkMWQ0NGYwMWM0ZDYwODdkOTc3MjcyNTU4N2I3OCA9ICQoYDxkaXYgaWQ9Imh0bWxfNTIzZDFkNDRmMDFjNGQ2MDg3ZDk3NzI3MjU1ODdiNzgiIHN0eWxlPSJ3aWR0aDogMTAwLjAlOyBoZWlnaHQ6IDEwMC4wJTsiPkNhZsOpIEx1Y2lhPC9kaXY+YClbMF07CiAgICAgICAgICAgICAgICBwb3B1cF8wZWVlODdiMDRiNGM0OWRmYjU2YWI2MjkyODBkNTY4ZS5zZXRDb250ZW50KGh0bWxfNTIzZDFkNDRmMDFjNGQ2MDg3ZDk3NzI3MjU1ODdiNzgpOwogICAgICAgICAgICAKCiAgICAgICAgICAgIGNpcmNsZV85NWU3NjlmMDEwYzY0MTAzYmNiMzk1NzQxMTY1NTUzMC5iaW5kUG9wdXAocG9wdXBfMGVlZTg3YjA0YjRjNDlkZmI1NmFiNjI5MjgwZDU2OGUpCiAgICAgICAgICAgIDsKCiAgICAgICAgICAgIAogICAgICAgIAogICAgCgogICAgICAgICAgICB2YXIgY2lyY2xlX2FlMGVkNGZkNDQ1OTRhN2FhYzZlNzA1MDA1Y2EwZWExID0gTC5jaXJjbGUoCiAgICAgICAgICAgICAgICBbMzMuNzU1Nzk5MjMxMTg2MTc0LCAtODQuMzg5MjY0MTU4MDA4XSwKICAgICAgICAgICAgICAgIHsKICAiYnViYmxpbmdNb3VzZUV2ZW50cyI6IHRydWUsCiAgImNvbG9yIjogIiMzMzg4ZmYiLAogICJkYXNoQXJyYXkiOiBudWxsLAogICJkYXNoT2Zmc2V0IjogbnVsbCwKICAiZmlsbCI6IHRydWUsCiAgImZpbGxDb2xvciI6ICIjMzM4OGZmIiwKICAiZmlsbE9wYWNpdHkiOiAwLjIsCiAgImZpbGxSdWxlIjogImV2ZW5vZGQiLAogICJsaW5lQ2FwIjogInJvdW5kIiwKICAibGluZUpvaW4iOiAicm91bmQiLAogICJvcGFjaXR5IjogMS4wLAogICJyYWRpdXMiOiAxMCwKICAic3Ryb2tlIjogdHJ1ZSwKICAid2VpZ2h0IjogMwp9CiAgICAgICAgICAgICAgICApCiAgICAgICAgICAgICAgICAuYWRkVG8obWFwXzI3NDUzMmUwZTgwNTQzN2FhZTIzYWI5YzlkNzJhY2QxKTsKICAgICAgICAgICAgCiAgICAKICAgICAgICAgICAgdmFyIHBvcHVwXzlmMjhkZDNkZTUzZTQ1OWE4ZTFiM2IzZTY0NzJhYmUwID0gTC5wb3B1cCh7bWF4V2lkdGg6ICcxMDAlJwogICAgICAgICAgICAKICAgICAgICAgICAgfSk7CgogICAgICAgICAgICAKICAgICAgICAgICAgICAgIHZhciBodG1sXzRjNGIzOTk3N2NhNTRiNmI5ZjM1ZDdmMjQxMmVmYmUxID0gJChgPGRpdiBpZD0iaHRtbF80YzRiMzk5NzdjYTU0YjZiOWYzNWQ3ZjI0MTJlZmJlMSIgc3R5bGU9IndpZHRoOiAxMDAuMCU7IGhlaWdodDogMTAwLjAlOyI+Um9zYSdzIFBpenphPC9kaXY+YClbMF07CiAgICAgICAgICAgICAgICBwb3B1cF85ZjI4ZGQzZGU1M2U0NTlhOGUxYjNiM2U2NDcyYWJlMC5zZXRDb250ZW50KGh0bWxfNGM0YjM5OTc3Y2E1NGI2YjlmMzVkN2YyNDEyZWZiZTEpOwogICAgICAgICAgICAKCiAgICAgICAgICAgIGNpcmNsZV9hZTBlZDRmZDQ0NTk0YTdhYWM2ZTcwNTAwNWNhMGVhMS5iaW5kUG9wdXAocG9wdXBfOWYyOGRkM2RlNTNlNDU5YThlMWIzYjNlNjQ3MmFiZTApCiAgICAgICAgICAgIDsKCiAgICAgICAgICAgIAogICAgICAgIAogICAgCgogICAgICAgICAgICB2YXIgY2lyY2xlXzFhODlhZThmNzhjZTQzMjQ5ODQ3NmQzOTc0ZDQ3OWY0ID0gTC5jaXJjbGUoCiAgICAgICAgICAgICAgICBbMzMuNzU2NDYyNTc2NDYyOTYsIC04NC4zOTA4ODIyNDUxOTU2MV0sCiAgICAgICAgICAgICAgICB7CiAgImJ1YmJsaW5nTW91c2VFdmVudHMiOiB0cnVlLAogICJjb2xvciI6ICIjMzM4OGZmIiwKICAiZGFzaEFycmF5IjogbnVsbCwKICAiZGFzaE9mZnNldCI6IG51bGwsCiAgImZpbGwiOiB0cnVlLAogICJmaWxsQ29sb3IiOiAiIzMzODhmZiIsCiAgImZpbGxPcGFjaXR5IjogMC4yLAogICJmaWxsUnVsZSI6ICJldmVub2RkIiwKICAibGluZUNhcCI6ICJyb3VuZCIsCiAgImxpbmVKb2luIjogInJvdW5kIiwKICAib3BhY2l0eSI6IDEuMCwKICAicmFkaXVzIjogMTAsCiAgInN0cm9rZSI6IHRydWUsCiAgIndlaWdodCI6IDMKfQogICAgICAgICAgICAgICAgKQogICAgICAgICAgICAgICAgLmFkZFRvKG1hcF8yNzQ1MzJlMGU4MDU0MzdhYWUyM2FiOWM5ZDcyYWNkMSk7CiAgICAgICAgICAgIAogICAgCiAgICAgICAgICAgIHZhciBwb3B1cF85ODlmMGViNzA4NWU0NWI2YjU1NWM3M2ZmYTNmNGFmMSA9IEwucG9wdXAoe21heFdpZHRoOiAnMTAwJScKICAgICAgICAgICAgCiAgICAgICAgICAgIH0pOwoKICAgICAgICAgICAgCiAgICAgICAgICAgICAgICB2YXIgaHRtbF9kOWNmN2IyMDA0YmQ0NWE3OWE5NDJmOWQxMTdkNzU5YyA9ICQoYDxkaXYgaWQ9Imh0bWxfZDljZjdiMjAwNGJkNDVhNzlhOTQyZjlkMTE3ZDc1OWMiIHN0eWxlPSJ3aWR0aDogMTAwLjAlOyBoZWlnaHQ6IDEwMC4wJTsiPkJhcmFrYSBTaGF3YXJtYTwvZGl2PmApWzBdOwogICAgICAgICAgICAgICAgcG9wdXBfOTg5ZjBlYjcwODVlNDViNmI1NTVjNzNmZmEzZjRhZjEuc2V0Q29udGVudChodG1sX2Q5Y2Y3YjIwMDRiZDQ1YTc5YTk0MmY5ZDExN2Q3NTljKTsKICAgICAgICAgICAgCgogICAgICAgICAgICBjaXJjbGVfMWE4OWFlOGY3OGNlNDMyNDk4NDc2ZDM5NzRkNDc5ZjQuYmluZFBvcHVwKHBvcHVwXzk4OWYwZWI3MDg1ZTQ1YjZiNTU1YzczZmZhM2Y0YWYxKQogICAgICAgICAgICA7CgogICAgICAgICAgICAKICAgICAgICAKICAgIAoKICAgICAgICAgICAgdmFyIGNpcmNsZV8xZjNiMjNkNWNiMjU0NWY0YjIwODAxOGUyNzVkZTc0ZiA9IEwuY2lyY2xlKAogICAgICAgICAgICAgICAgWzMzLjc1NzEzNzk5NDYxNjIxNSwgLTg0LjM4OTM5MzcxOTcyNDE4XSwKICAgICAgICAgICAgICAgIHsKICAiYnViYmxpbmdNb3VzZUV2ZW50cyI6IHRydWUsCiAgImNvbG9yIjogIiMzMzg4ZmYiLAogICJkYXNoQXJyYXkiOiBudWxsLAogICJkYXNoT2Zmc2V0IjogbnVsbCwKICAiZmlsbCI6IHRydWUsCiAgImZpbGxDb2xvciI6ICIjMzM4OGZmIiwKICAiZmlsbE9wYWNpdHkiOiAwLjIsCiAgImZpbGxSdWxlIjogImV2ZW5vZGQiLAogICJsaW5lQ2FwIjogInJvdW5kIiwKICAibGluZUpvaW4iOiAicm91bmQiLAogICJvcGFjaXR5IjogMS4wLAogICJyYWRpdXMiOiAxMCwKICAic3Ryb2tlIjogdHJ1ZSwKICAid2VpZ2h0IjogMwp9CiAgICAgICAgICAgICAgICApCiAgICAgICAgICAgICAgICAuYWRkVG8obWFwXzI3NDUzMmUwZTgwNTQzN2FhZTIzYWI5YzlkNzJhY2QxKTsKICAgICAgICAgICAgCiAgICAKICAgICAgICAgICAgdmFyIHBvcHVwXzM3MDZiMjg0ZDJiYTQ2NTU4YzgyMjFhM2NiZmE2MDZiID0gTC5wb3B1cCh7bWF4V2lkdGg6ICcxMDAlJwogICAgICAgICAgICAKICAgICAgICAgICAgfSk7CgogICAgICAgICAgICAKICAgICAgICAgICAgICAgIHZhciBodG1sXzMwOTRkMzY0NmVhNzQyZmNhNGRkNWRkMzkyZTczOWEzID0gJChgPGRpdiBpZD0iaHRtbF8zMDk0ZDM2NDZlYTc0MmZjYTRkZDVkZDM5MmU3MzlhMyIgc3R5bGU9IndpZHRoOiAxMDAuMCU7IGhlaWdodDogMTAwLjAlOyI+VGhlYXRyaWNhbCBPdXRmaXQ8L2Rpdj5gKVswXTsKICAgICAgICAgICAgICAgIHBvcHVwXzM3MDZiMjg0ZDJiYTQ2NTU4YzgyMjFhM2NiZmE2MDZiLnNldENvbnRlbnQoaHRtbF8zMDk0ZDM2NDZlYTc0MmZjYTRkZDVkZDM5MmU3MzlhMyk7CiAgICAgICAgICAgIAoKICAgICAgICAgICAgY2lyY2xlXzFmM2IyM2Q1Y2IyNTQ1ZjRiMjA4MDE4ZTI3NWRlNzRmLmJpbmRQb3B1cChwb3B1cF8zNzA2YjI4NGQyYmE0NjU1OGM4MjIxYTNjYmZhNjA2YikKICAgICAgICAgICAgOwoKICAgICAgICAgICAgCiAgICAgICAgCiAgICAKCiAgICAgICAgICAgIHZhciBjaXJjbGVfYWFhMGMyNDJhZTE2NDJjZmI3MzBlNWJkMTI1YTVhMzYgPSBMLmNpcmNsZSgKICAgICAgICAgICAgICAgIFszMy43NTU3MDMzNTI0ODUsIC04NC4zODk0MTkzODAyMjgwMl0sCiAgICAgICAgICAgICAgICB7CiAgImJ1YmJsaW5nTW91c2VFdmVudHMiOiB0cnVlLAogICJjb2xvciI6ICIjMzM4OGZmIiwKICAiZGFzaEFycmF5IjogbnVsbCwKICAiZGFzaE9mZnNldCI6IG51bGwsCiAgImZpbGwiOiB0cnVlLAogICJmaWxsQ29sb3IiOiAiIzMzODhmZiIsCiAgImZpbGxPcGFjaXR5IjogMC4yLAogICJmaWxsUnVsZSI6ICJldmVub2RkIiwKICAibGluZUNhcCI6ICJyb3VuZCIsCiAgImxpbmVKb2luIjogInJvdW5kIiwKICAib3BhY2l0eSI6IDEuMCwKICAicmFkaXVzIjogMTAsCiAgInN0cm9rZSI6IHRydWUsCiAgIndlaWdodCI6IDMKfQogICAgICAgICAgICAgICAgKQogICAgICAgICAgICAgICAgLmFkZFRvKG1hcF8yNzQ1MzJlMGU4MDU0MzdhYWUyM2FiOWM5ZDcyYWNkMSk7CiAgICAgICAgICAgIAogICAgCiAgICAgICAgICAgIHZhciBwb3B1cF8xMzc2YWY4NGVhY2Y0NmU0YjdjOTRjNjc1Yzc4NTlkZSA9IEwucG9wdXAoe21heFdpZHRoOiAnMTAwJScKICAgICAgICAgICAgCiAgICAgICAgICAgIH0pOwoKICAgICAgICAgICAgCiAgICAgICAgICAgICAgICB2YXIgaHRtbF8wMmUzM2FlMzQ5ZmY0M2ViYThiYjczZWYyMmU5ZTQ3NSA9ICQoYDxkaXYgaWQ9Imh0bWxfMDJlMzNhZTM0OWZmNDNlYmE4YmI3M2VmMjJlOWU0NzUiIHN0eWxlPSJ3aWR0aDogMTAwLjAlOyBoZWlnaHQ6IDEwMC4wJTsiPkFsaSBCYWJhPC9kaXY+YClbMF07CiAgICAgICAgICAgICAgICBwb3B1cF8xMzc2YWY4NGVhY2Y0NmU0YjdjOTRjNjc1Yzc4NTlkZS5zZXRDb250ZW50KGh0bWxfMDJlMzNhZTM0OWZmNDNlYmE4YmI3M2VmMjJlOWU0NzUpOwogICAgICAgICAgICAKCiAgICAgICAgICAgIGNpcmNsZV9hYWEwYzI0MmFlMTY0MmNmYjczMGU1YmQxMjVhNWEzNi5iaW5kUG9wdXAocG9wdXBfMTM3NmFmODRlYWNmNDZlNGI3Yzk0YzY3NWM3ODU5ZGUpCiAgICAgICAgICAgIDsKCiAgICAgICAgICAgIAogICAgICAgIAogICAgCgogICAgICAgICAgICB2YXIgY2lyY2xlX2ZmZDkxMjA5M2QyOTRmMzRhZDdkM2NkODE1ZmRjOTFkID0gTC5jaXJjbGUoCiAgICAgICAgICAgICAgICBbMzMuNzUzNzc4NjQzNjU0OTEsIC04NC4zODg4MTU2MzA2MDE2OF0sCiAgICAgICAgICAgICAgICB7CiAgImJ1YmJsaW5nTW91c2VFdmVudHMiOiB0cnVlLAogICJjb2xvciI6ICIjMzM4OGZmIiwKICAiZGFzaEFycmF5IjogbnVsbCwKICAiZGFzaE9mZnNldCI6IG51bGwsCiAgImZpbGwiOiB0cnVlLAogICJmaWxsQ29sb3IiOiAiIzMzODhmZiIsCiAgImZpbGxPcGFjaXR5IjogMC4yLAogICJmaWxsUnVsZSI6ICJldmVub2RkIiwKICAibGluZUNhcCI6ICJyb3VuZCIsCiAgImxpbmVKb2luIjogInJvdW5kIiwKICAib3BhY2l0eSI6IDEuMCwKICAicmFkaXVzIjogMTAsCiAgInN0cm9rZSI6IHRydWUsCiAgIndlaWdodCI6IDMKfQogICAgICAgICAgICAgICAgKQogICAgICAgICAgICAgICAgLmFkZFRvKG1hcF8yNzQ1MzJlMGU4MDU0MzdhYWUyM2FiOWM5ZDcyYWNkMSk7CiAgICAgICAgICAgIAogICAgCiAgICAgICAgICAgIHZhciBwb3B1cF9iM2NkYjYyMTA1NTI0YjEyOWM3Y2YxNzhhOGY0MzQxYiA9IEwucG9wdXAoe21heFdpZHRoOiAnMTAwJScKICAgICAgICAgICAgCiAgICAgICAgICAgIH0pOwoKICAgICAgICAgICAgCiAgICAgICAgICAgICAgICB2YXIgaHRtbF83ZjBiNTZmM2Q3ZmU0ZGU4YWE4MTUwZmI3Mzc0NmY2NyA9ICQoYDxkaXYgaWQ9Imh0bWxfN2YwYjU2ZjNkN2ZlNGRlOGFhODE1MGZiNzM3NDZmNjciIHN0eWxlPSJ3aWR0aDogMTAwLjAlOyBoZWlnaHQ6IDEwMC4wJTsiPkJ1ZW5vcyBEaWFzIENhZmU8L2Rpdj5gKVswXTsKICAgICAgICAgICAgICAgIHBvcHVwX2IzY2RiNjIxMDU1MjRiMTI5YzdjZjE3OGE4ZjQzNDFiLnNldENvbnRlbnQoaHRtbF83ZjBiNTZmM2Q3ZmU0ZGU4YWE4MTUwZmI3Mzc0NmY2Nyk7CiAgICAgICAgICAgIAoKICAgICAgICAgICAgY2lyY2xlX2ZmZDkxMjA5M2QyOTRmMzRhZDdkM2NkODE1ZmRjOTFkLmJpbmRQb3B1cChwb3B1cF9iM2NkYjYyMTA1NTI0YjEyOWM3Y2YxNzhhOGY0MzQxYikKICAgICAgICAgICAgOwoKICAgICAgICAgICAgCiAgICAgICAgCiAgICAKCiAgICAgICAgICAgIHZhciBjaXJjbGVfZDcwNjI3MzA3YzFjNDVjMjhlMzQzNDY0ZmFhYmE5ZTAgPSBMLmNpcmNsZSgKICAgICAgICAgICAgICAgIFszMy43NTU2MzQzNTc2NjY1NjUsIC04NC4zODk1MjU3NDMwMDk3M10sCiAgICAgICAgICAgICAgICB7CiAgImJ1YmJsaW5nTW91c2VFdmVudHMiOiB0cnVlLAogICJjb2xvciI6ICIjMzM4OGZmIiwKICAiZGFzaEFycmF5IjogbnVsbCwKICAiZGFzaE9mZnNldCI6IG51bGwsCiAgImZpbGwiOiB0cnVlLAogICJmaWxsQ29sb3IiOiAiIzMzODhmZiIsCiAgImZpbGxPcGFjaXR5IjogMC4yLAogICJmaWxsUnVsZSI6ICJldmVub2RkIiwKICAibGluZUNhcCI6ICJyb3VuZCIsCiAgImxpbmVKb2luIjogInJvdW5kIiwKICAib3BhY2l0eSI6IDEuMCwKICAicmFkaXVzIjogMTAsCiAgInN0cm9rZSI6IHRydWUsCiAgIndlaWdodCI6IDMKfQogICAgICAgICAgICAgICAgKQogICAgICAgICAgICAgICAgLmFkZFRvKG1hcF8yNzQ1MzJlMGU4MDU0MzdhYWUyM2FiOWM5ZDcyYWNkMSk7CiAgICAgICAgICAgIAogICAgCiAgICAgICAgICAgIHZhciBwb3B1cF8yOGE3MDU5MDRlZGY0YzRjYTUzZTU0MWI5ZjkwMDY0MCA9IEwucG9wdXAoe21heFdpZHRoOiAnMTAwJScKICAgICAgICAgICAgCiAgICAgICAgICAgIH0pOwoKICAgICAgICAgICAgCiAgICAgICAgICAgICAgICB2YXIgaHRtbF8zMmQ1YTM1MDEzNjg0NjNlOWM5YWYxN2ZhNWQ2MGY3NSA9ICQoYDxkaXYgaWQ9Imh0bWxfMzJkNWEzNTAxMzY4NDYzZTljOWFmMTdmYTVkNjBmNzUiIHN0eWxlPSJ3aWR0aDogMTAwLjAlOyBoZWlnaHQ6IDEwMC4wJTsiPlRhcXVlcmlhIG9uIEJyb2FkPC9kaXY+YClbMF07CiAgICAgICAgICAgICAgICBwb3B1cF8yOGE3MDU5MDRlZGY0YzRjYTUzZTU0MWI5ZjkwMDY0MC5zZXRDb250ZW50KGh0bWxfMzJkNWEzNTAxMzY4NDYzZTljOWFmMTdmYTVkNjBmNzUpOwogICAgICAgICAgICAKCiAgICAgICAgICAgIGNpcmNsZV9kNzA2MjczMDdjMWM0NWMyOGUzNDM0NjRmYWFiYTllMC5iaW5kUG9wdXAocG9wdXBfMjhhNzA1OTA0ZWRmNGM0Y2E1M2U1NDFiOWY5MDA2NDApCiAgICAgICAgICAgIDsKCiAgICAgICAgICAgIAogICAgICAgIAogICAgCgogICAgICAgICAgICB2YXIgY2lyY2xlXzdlOGEzZmVhYzIyYjQ3OTFhZmU5NDk0OWRlNGIxNzE3ID0gTC5jaXJjbGUoCiAgICAgICAgICAgICAgICBbMzMuNzU4NTM4LCAtODQuMzkwNjY5XSwKICAgICAgICAgICAgICAgIHsKICAiYnViYmxpbmdNb3VzZUV2ZW50cyI6IHRydWUsCiAgImNvbG9yIjogIiMzMzg4ZmYiLAogICJkYXNoQXJyYXkiOiBudWxsLAogICJkYXNoT2Zmc2V0IjogbnVsbCwKICAiZmlsbCI6IHRydWUsCiAgImZpbGxDb2xvciI6ICIjMzM4OGZmIiwKICAiZmlsbE9wYWNpdHkiOiAwLjIsCiAgImZpbGxSdWxlIjogImV2ZW5vZGQiLAogICJsaW5lQ2FwIjogInJvdW5kIiwKICAibGluZUpvaW4iOiAicm91bmQiLAogICJvcGFjaXR5IjogMS4wLAogICJyYWRpdXMiOiAxMCwKICAic3Ryb2tlIjogdHJ1ZSwKICAid2VpZ2h0IjogMwp9CiAgICAgICAgICAgICAgICApCiAgICAgICAgICAgICAgICAuYWRkVG8obWFwXzI3NDUzMmUwZTgwNTQzN2FhZTIzYWI5YzlkNzJhY2QxKTsKICAgICAgICAgICAgCiAgICAKICAgICAgICAgICAgdmFyIHBvcHVwXzEyMGI3ZjJkNGFkNzRkZWE4NmYzNDhkZTUzMDk5YWE4ID0gTC5wb3B1cCh7bWF4V2lkdGg6ICcxMDAlJwogICAgICAgICAgICAKICAgICAgICAgICAgfSk7CgogICAgICAgICAgICAKICAgICAgICAgICAgICAgIHZhciBodG1sX2QzMzFiZmIzYjFmNjQ4M2ViZDliNDE0YzA5MGM1NTc5ID0gJChgPGRpdiBpZD0iaHRtbF9kMzMxYmZiM2IxZjY0ODNlYmQ5YjQxNGMwOTBjNTU3OSIgc3R5bGU9IndpZHRoOiAxMDAuMCU7IGhlaWdodDogMTAwLjAlOyI+VGVkJ3MgTW9udGFuYSBHcmlsbDwvZGl2PmApWzBdOwogICAgICAgICAgICAgICAgcG9wdXBfMTIwYjdmMmQ0YWQ3NGRlYTg2ZjM0OGRlNTMwOTlhYTguc2V0Q29udGVudChodG1sX2QzMzFiZmIzYjFmNjQ4M2ViZDliNDE0YzA5MGM1NTc5KTsKICAgICAgICAgICAgCgogICAgICAgICAgICBjaXJjbGVfN2U4YTNmZWFjMjJiNDc5MWFmZTk0OTQ5ZGU0YjE3MTcuYmluZFBvcHVwKHBvcHVwXzEyMGI3ZjJkNGFkNzRkZWE4NmYzNDhkZTUzMDk5YWE4KQogICAgICAgICAgICA7CgogICAgICAgICAgICAKICAgICAgICAKICAgIAoKICAgICAgICAgICAgdmFyIGNpcmNsZV8wYWRhMzBhNWYyNzg0ZjM3OTZiZjkzZGQ0MjYwNjg4YyA9IEwuY2lyY2xlKAogICAgICAgICAgICAgICAgWzMzLjc1ODcxODYzMDQ0Mjk4LCAtODQuMzkxNDU1MjU2Mjg3ODhdLAogICAgICAgICAgICAgICAgewogICJidWJibGluZ01vdXNlRXZlbnRzIjogdHJ1ZSwKICAiY29sb3IiOiAiIzMzODhmZiIsCiAgImRhc2hBcnJheSI6IG51bGwsCiAgImRhc2hPZmZzZXQiOiBudWxsLAogICJmaWxsIjogdHJ1ZSwKICAiZmlsbENvbG9yIjogIiMzMzg4ZmYiLAogICJmaWxsT3BhY2l0eSI6IDAuMiwKICAiZmlsbFJ1bGUiOiAiZXZlbm9kZCIsCiAgImxpbmVDYXAiOiAicm91bmQiLAogICJsaW5lSm9pbiI6ICJyb3VuZCIsCiAgIm9wYWNpdHkiOiAxLjAsCiAgInJhZGl1cyI6IDEwLAogICJzdHJva2UiOiB0cnVlLAogICJ3ZWlnaHQiOiAzCn0KICAgICAgICAgICAgICAgICkKICAgICAgICAgICAgICAgIC5hZGRUbyhtYXBfMjc0NTMyZTBlODA1NDM3YWFlMjNhYjljOWQ3MmFjZDEpOwogICAgICAgICAgICAKICAgIAogICAgICAgICAgICB2YXIgcG9wdXBfZDYxOTU3ZTU2MmM3NGVlMTg1NWRlYjcwMTFjMGVmMTcgPSBMLnBvcHVwKHttYXhXaWR0aDogJzEwMCUnCiAgICAgICAgICAgIAogICAgICAgICAgICB9KTsKCiAgICAgICAgICAgIAogICAgICAgICAgICAgICAgdmFyIGh0bWxfODBkMmQ1Y2E2OGNkNGEwYWJmMGNjMzM4NzY1MzRiNjYgPSAkKGA8ZGl2IGlkPSJodG1sXzgwZDJkNWNhNjhjZDRhMGFiZjBjYzMzODc2NTM0YjY2IiBzdHlsZT0id2lkdGg6IDEwMC4wJTsgaGVpZ2h0OiAxMDAuMCU7Ij5UaGUgVGFiZXJuYWNsZTwvZGl2PmApWzBdOwogICAgICAgICAgICAgICAgcG9wdXBfZDYxOTU3ZTU2MmM3NGVlMTg1NWRlYjcwMTFjMGVmMTcuc2V0Q29udGVudChodG1sXzgwZDJkNWNhNjhjZDRhMGFiZjBjYzMzODc2NTM0YjY2KTsKICAgICAgICAgICAgCgogICAgICAgICAgICBjaXJjbGVfMGFkYTMwYTVmMjc4NGYzNzk2YmY5M2RkNDI2MDY4OGMuYmluZFBvcHVwKHBvcHVwX2Q2MTk1N2U1NjJjNzRlZTE4NTVkZWI3MDExYzBlZjE3KQogICAgICAgICAgICA7CgogICAgICAgICAgICAKICAgICAgICAKICAgIAoKICAgICAgICAgICAgdmFyIGNpcmNsZV8zMjNlNDg2MTZjNTM0NTUzOGRlMGNmZjVjNGVjYWEzMyA9IEwuY2lyY2xlKAogICAgICAgICAgICAgICAgWzMzLjc1Njk1OTI0MDA0Mjc1NCwgLTg0LjM5MDA3MzEzMDU1MzI2XSwKICAgICAgICAgICAgICAgIHsKICAiYnViYmxpbmdNb3VzZUV2ZW50cyI6IHRydWUsCiAgImNvbG9yIjogIiMzMzg4ZmYiLAogICJkYXNoQXJyYXkiOiBudWxsLAogICJkYXNoT2Zmc2V0IjogbnVsbCwKICAiZmlsbCI6IHRydWUsCiAgImZpbGxDb2xvciI6ICIjMzM4OGZmIiwKICAiZmlsbE9wYWNpdHkiOiAwLjIsCiAgImZpbGxSdWxlIjogImV2ZW5vZGQiLAogICJsaW5lQ2FwIjogInJvdW5kIiwKICAibGluZUpvaW4iOiAicm91bmQiLAogICJvcGFjaXR5IjogMS4wLAogICJyYWRpdXMiOiAxMCwKICAic3Ryb2tlIjogdHJ1ZSwKICAid2VpZ2h0IjogMwp9CiAgICAgICAgICAgICAgICApCiAgICAgICAgICAgICAgICAuYWRkVG8obWFwXzI3NDUzMmUwZTgwNTQzN2FhZTIzYWI5YzlkNzJhY2QxKTsKICAgICAgICAgICAgCiAgICAKICAgICAgICAgICAgdmFyIHBvcHVwXzNjNTM5OGQyOGQ1YzQ5NjZiNDNiN2M5MjE5YzI3MGNkID0gTC5wb3B1cCh7bWF4V2lkdGg6ICcxMDAlJwogICAgICAgICAgICAKICAgICAgICAgICAgfSk7CgogICAgICAgICAgICAKICAgICAgICAgICAgICAgIHZhciBodG1sXzU2YmY0MjNhNjdjNTQ5Y2Y5NDQ1Zjg5ZjMxNDQ5ZDM4ID0gJChgPGRpdiBpZD0iaHRtbF81NmJmNDIzYTY3YzU0OWNmOTQ0NWY4OWYzMTQ0OWQzOCIgc3R5bGU9IndpZHRoOiAxMDAuMCU7IGhlaWdodDogMTAwLjAlOyI+U2xpY2UgRG93bnRvd248L2Rpdj5gKVswXTsKICAgICAgICAgICAgICAgIHBvcHVwXzNjNTM5OGQyOGQ1YzQ5NjZiNDNiN2M5MjE5YzI3MGNkLnNldENvbnRlbnQoaHRtbF81NmJmNDIzYTY3YzU0OWNmOTQ0NWY4OWYzMTQ0OWQzOCk7CiAgICAgICAgICAgIAoKICAgICAgICAgICAgY2lyY2xlXzMyM2U0ODYxNmM1MzQ1NTM4ZGUwY2ZmNWM0ZWNhYTMzLmJpbmRQb3B1cChwb3B1cF8zYzUzOThkMjhkNWM0OTY2YjQzYjdjOTIxOWMyNzBjZCkKICAgICAgICAgICAgOwoKICAgICAgICAgICAgCiAgICAgICAgCiAgICAKCiAgICAgICAgICAgIHZhciBjaXJjbGVfMzgxNjUyYmQ3MThiNDI5ZmI5MTkxNDVkY2YyNGI2OGIgPSBMLmNpcmNsZSgKICAgICAgICAgICAgICAgIFszMy43NTkwNjk5NDMyMzUsIC04NC4zODc1MzY0Nzg0MzldLAogICAgICAgICAgICAgICAgewogICJidWJibGluZ01vdXNlRXZlbnRzIjogdHJ1ZSwKICAiY29sb3IiOiAiIzMzODhmZiIsCiAgImRhc2hBcnJheSI6IG51bGwsCiAgImRhc2hPZmZzZXQiOiBudWxsLAogICJmaWxsIjogdHJ1ZSwKICAiZmlsbENvbG9yIjogIiMzMzg4ZmYiLAogICJmaWxsT3BhY2l0eSI6IDAuMiwKICAiZmlsbFJ1bGUiOiAiZXZlbm9kZCIsCiAgImxpbmVDYXAiOiAicm91bmQiLAogICJsaW5lSm9pbiI6ICJyb3VuZCIsCiAgIm9wYWNpdHkiOiAxLjAsCiAgInJhZGl1cyI6IDEwLAogICJzdHJva2UiOiB0cnVlLAogICJ3ZWlnaHQiOiAzCn0KICAgICAgICAgICAgICAgICkKICAgICAgICAgICAgICAgIC5hZGRUbyhtYXBfMjc0NTMyZTBlODA1NDM3YWFlMjNhYjljOWQ3MmFjZDEpOwogICAgICAgICAgICAKICAgIAogICAgICAgICAgICB2YXIgcG9wdXBfMjA0YjBmNTJlYWVmNDA5ODhlNmU1N2Q4YWE1NGM0ZDkgPSBMLnBvcHVwKHttYXhXaWR0aDogJzEwMCUnCiAgICAgICAgICAgIAogICAgICAgICAgICB9KTsKCiAgICAgICAgICAgIAogICAgICAgICAgICAgICAgdmFyIGh0bWxfMGRiN2JhZDIzOTI0NDg1MWEwZGFkMDFkZjhhYTVjNTYgPSAkKGA8ZGl2IGlkPSJodG1sXzBkYjdiYWQyMzkyNDQ4NTFhMGRhZDAxZGY4YWE1YzU2IiBzdHlsZT0id2lkdGg6IDEwMC4wJTsgaGVpZ2h0OiAxMDAuMCU7Ij5BbG1hIENvY2luYTwvZGl2PmApWzBdOwogICAgICAgICAgICAgICAgcG9wdXBfMjA0YjBmNTJlYWVmNDA5ODhlNmU1N2Q4YWE1NGM0ZDkuc2V0Q29udGVudChodG1sXzBkYjdiYWQyMzkyNDQ4NTFhMGRhZDAxZGY4YWE1YzU2KTsKICAgICAgICAgICAgCgogICAgICAgICAgICBjaXJjbGVfMzgxNjUyYmQ3MThiNDI5ZmI5MTkxNDVkY2YyNGI2OGIuYmluZFBvcHVwKHBvcHVwXzIwNGIwZjUyZWFlZjQwOTg4ZTZlNTdkOGFhNTRjNGQ5KQogICAgICAgICAgICA7CgogICAgICAgICAgICAKICAgICAgICAKICAgIAoKICAgICAgICAgICAgdmFyIGNpcmNsZV8yZTEyY2YwYjUzZTc0ODcyOTRjMWY3NzQ0ZDFlZTA0YiA9IEwuY2lyY2xlKAogICAgICAgICAgICAgICAgWzMzLjc1NzI1MDIzNzQxNTU2LCAtODQuMzg4NzcyOTExNTk4NV0sCiAgICAgICAgICAgICAgICB7CiAgImJ1YmJsaW5nTW91c2VFdmVudHMiOiB0cnVlLAogICJjb2xvciI6ICIjMzM4OGZmIiwKICAiZGFzaEFycmF5IjogbnVsbCwKICAiZGFzaE9mZnNldCI6IG51bGwsCiAgImZpbGwiOiB0cnVlLAogICJmaWxsQ29sb3IiOiAiIzMzODhmZiIsCiAgImZpbGxPcGFjaXR5IjogMC4yLAogICJmaWxsUnVsZSI6ICJldmVub2RkIiwKICAibGluZUNhcCI6ICJyb3VuZCIsCiAgImxpbmVKb2luIjogInJvdW5kIiwKICAib3BhY2l0eSI6IDEuMCwKICAicmFkaXVzIjogMTAsCiAgInN0cm9rZSI6IHRydWUsCiAgIndlaWdodCI6IDMKfQogICAgICAgICAgICAgICAgKQogICAgICAgICAgICAgICAgLmFkZFRvKG1hcF8yNzQ1MzJlMGU4MDU0MzdhYWUyM2FiOWM5ZDcyYWNkMSk7CiAgICAgICAgICAgIAogICAgCiAgICAgICAgICAgIHZhciBwb3B1cF84MjY0YmZlYjg4Mjc0NDY0YWY0YjNjOGEyMjM2NDc4YyA9IEwucG9wdXAoe21heFdpZHRoOiAnMTAwJScKICAgICAgICAgICAgCiAgICAgICAgICAgIH0pOwoKICAgICAgICAgICAgCiAgICAgICAgICAgICAgICB2YXIgaHRtbF9mNDMzZmI0MzI0NTc0YWJlYmE0ODY4NjMzZDFlMjExNCA9ICQoYDxkaXYgaWQ9Imh0bWxfZjQzM2ZiNDMyNDU3NGFiZWJhNDg2ODYzM2QxZTIxMTQiIHN0eWxlPSJ3aWR0aDogMTAwLjAlOyBoZWlnaHQ6IDEwMC4wJTsiPkR1bmtpbic8L2Rpdj5gKVswXTsKICAgICAgICAgICAgICAgIHBvcHVwXzgyNjRiZmViODgyNzQ0NjRhZjRiM2M4YTIyMzY0NzhjLnNldENvbnRlbnQoaHRtbF9mNDMzZmI0MzI0NTc0YWJlYmE0ODY4NjMzZDFlMjExNCk7CiAgICAgICAgICAgIAoKICAgICAgICAgICAgY2lyY2xlXzJlMTJjZjBiNTNlNzQ4NzI5NGMxZjc3NDRkMWVlMDRiLmJpbmRQb3B1cChwb3B1cF84MjY0YmZlYjg4Mjc0NDY0YWY0YjNjOGEyMjM2NDc4YykKICAgICAgICAgICAgOwoKICAgICAgICAgICAgCiAgICAgICAgCiAgICAKCiAgICAgICAgICAgIHZhciBjaXJjbGVfNTQyYjExODczZDZiNGJmMDhjNmI2MzYzOTVmMDZkMDQgPSBMLmNpcmNsZSgKICAgICAgICAgICAgICAgIFszMy43NTQzNTgyNjI1MTk5OCwgLTg0LjM4ODc5MTE2MzM3MDMzXSwKICAgICAgICAgICAgICAgIHsKICAiYnViYmxpbmdNb3VzZUV2ZW50cyI6IHRydWUsCiAgImNvbG9yIjogIiMzMzg4ZmYiLAogICJkYXNoQXJyYXkiOiBudWxsLAogICJkYXNoT2Zmc2V0IjogbnVsbCwKICAiZmlsbCI6IHRydWUsCiAgImZpbGxDb2xvciI6ICIjMzM4OGZmIiwKICAiZmlsbE9wYWNpdHkiOiAwLjIsCiAgImZpbGxSdWxlIjogImV2ZW5vZGQiLAogICJsaW5lQ2FwIjogInJvdW5kIiwKICAibGluZUpvaW4iOiAicm91bmQiLAogICJvcGFjaXR5IjogMS4wLAogICJyYWRpdXMiOiAxMCwKICAic3Ryb2tlIjogdHJ1ZSwKICAid2VpZ2h0IjogMwp9CiAgICAgICAgICAgICAgICApCiAgICAgICAgICAgICAgICAuYWRkVG8obWFwXzI3NDUzMmUwZTgwNTQzN2FhZTIzYWI5YzlkNzJhY2QxKTsKICAgICAgICAgICAgCiAgICAKICAgICAgICAgICAgdmFyIHBvcHVwX2E0ZDdhZTM2ZmEwODQxZmNiZmRhZDBjYTViNWIxZDVjID0gTC5wb3B1cCh7bWF4V2lkdGg6ICcxMDAlJwogICAgICAgICAgICAKICAgICAgICAgICAgfSk7CgogICAgICAgICAgICAKICAgICAgICAgICAgICAgIHZhciBodG1sX2E0NjFhZjRmYmJhMzRmOGU4MDZmNjdlZjBkNjA3M2ExID0gJChgPGRpdiBpZD0iaHRtbF9hNDYxYWY0ZmJiYTM0ZjhlODA2ZjY3ZWYwZDYwNzNhMSIgc3R5bGU9IndpZHRoOiAxMDAuMCU7IGhlaWdodDogMTAwLjAlOyI+Um9seSBQb2x5IFNhbmR3aWNoZXM8L2Rpdj5gKVswXTsKICAgICAgICAgICAgICAgIHBvcHVwX2E0ZDdhZTM2ZmEwODQxZmNiZmRhZDBjYTViNWIxZDVjLnNldENvbnRlbnQoaHRtbF9hNDYxYWY0ZmJiYTM0ZjhlODA2ZjY3ZWYwZDYwNzNhMSk7CiAgICAgICAgICAgIAoKICAgICAgICAgICAgY2lyY2xlXzU0MmIxMTg3M2Q2YjRiZjA4YzZiNjM2Mzk1ZjA2ZDA0LmJpbmRQb3B1cChwb3B1cF9hNGQ3YWUzNmZhMDg0MWZjYmZkYWQwY2E1YjViMWQ1YykKICAgICAgICAgICAgOwoKICAgICAgICAgICAgCiAgICAgICAgCiAgICAKCiAgICAgICAgICAgIHZhciBjaXJjbGVfOTkxNDk1ODM0ZjNhNDEwMGJlZDRlYWEwMzMxZjRmZjYgPSBMLmNpcmNsZSgKICAgICAgICAgICAgICAgIFszMy43NTYyODc2OTM5MDU3OCwgLTg0LjM5MTg4NTU3OTc1NjddLAogICAgICAgICAgICAgICAgewogICJidWJibGluZ01vdXNlRXZlbnRzIjogdHJ1ZSwKICAiY29sb3IiOiAiIzMzODhmZiIsCiAgImRhc2hBcnJheSI6IG51bGwsCiAgImRhc2hPZmZzZXQiOiBudWxsLAogICJmaWxsIjogdHJ1ZSwKICAiZmlsbENvbG9yIjogIiMzMzg4ZmYiLAogICJmaWxsT3BhY2l0eSI6IDAuMiwKICAiZmlsbFJ1bGUiOiAiZXZlbm9kZCIsCiAgImxpbmVDYXAiOiAicm91bmQiLAogICJsaW5lSm9pbiI6ICJyb3VuZCIsCiAgIm9wYWNpdHkiOiAxLjAsCiAgInJhZGl1cyI6IDEwLAogICJzdHJva2UiOiB0cnVlLAogICJ3ZWlnaHQiOiAzCn0KICAgICAgICAgICAgICAgICkKICAgICAgICAgICAgICAgIC5hZGRUbyhtYXBfMjc0NTMyZTBlODA1NDM3YWFlMjNhYjljOWQ3MmFjZDEpOwogICAgICAgICAgICAKICAgIAogICAgICAgICAgICB2YXIgcG9wdXBfZmExM2FjNmJiYThkNGJhNGFjOWVjMTBlOWMyNGQ0MDcgPSBMLnBvcHVwKHttYXhXaWR0aDogJzEwMCUnCiAgICAgICAgICAgIAogICAgICAgICAgICB9KTsKCiAgICAgICAgICAgIAogICAgICAgICAgICAgICAgdmFyIGh0bWxfZDU1ZDA2Zjg5MjNkNDBiYjljYjY4MzBjZmI0NTM4ODUgPSAkKGA8ZGl2IGlkPSJodG1sX2Q1NWQwNmY4OTIzZDQwYmI5Y2I2ODMwY2ZiNDUzODg1IiBzdHlsZT0id2lkdGg6IDEwMC4wJTsgaGVpZ2h0OiAxMDAuMCU7Ij5HZXQgRnJ1aXR5IENhZmU8L2Rpdj5gKVswXTsKICAgICAgICAgICAgICAgIHBvcHVwX2ZhMTNhYzZiYmE4ZDRiYTRhYzllYzEwZTljMjRkNDA3LnNldENvbnRlbnQoaHRtbF9kNTVkMDZmODkyM2Q0MGJiOWNiNjgzMGNmYjQ1Mzg4NSk7CiAgICAgICAgICAgIAoKICAgICAgICAgICAgY2lyY2xlXzk5MTQ5NTgzNGYzYTQxMDBiZWQ0ZWFhMDMzMWY0ZmY2LmJpbmRQb3B1cChwb3B1cF9mYTEzYWM2YmJhOGQ0YmE0YWM5ZWMxMGU5YzI0ZDQwNykKICAgICAgICAgICAgOwoKICAgICAgICAgICAgCiAgICAgICAgCiAgICAKCiAgICAgICAgICAgIHZhciBjaXJjbGVfMGEzOGE3MzM4ZWUyNGE5NDkzMDAyMzgwYmQ3YjZjMzcgPSBMLmNpcmNsZSgKICAgICAgICAgICAgICAgIFszMy43NTgyMDM0MTI0NDQ4MiwgLTg0LjM4ODA4ODY0MzY4MTg0XSwKICAgICAgICAgICAgICAgIHsKICAiYnViYmxpbmdNb3VzZUV2ZW50cyI6IHRydWUsCiAgImNvbG9yIjogIiMzMzg4ZmYiLAogICJkYXNoQXJyYXkiOiBudWxsLAogICJkYXNoT2Zmc2V0IjogbnVsbCwKICAiZmlsbCI6IHRydWUsCiAgImZpbGxDb2xvciI6ICIjMzM4OGZmIiwKICAiZmlsbE9wYWNpdHkiOiAwLjIsCiAgImZpbGxSdWxlIjogImV2ZW5vZGQiLAogICJsaW5lQ2FwIjogInJvdW5kIiwKICAibGluZUpvaW4iOiAicm91bmQiLAogICJvcGFjaXR5IjogMS4wLAogICJyYWRpdXMiOiAxMCwKICAic3Ryb2tlIjogdHJ1ZSwKICAid2VpZ2h0IjogMwp9CiAgICAgICAgICAgICAgICApCiAgICAgICAgICAgICAgICAuYWRkVG8obWFwXzI3NDUzMmUwZTgwNTQzN2FhZTIzYWI5YzlkNzJhY2QxKTsKICAgICAgICAgICAgCiAgICAKICAgICAgICAgICAgdmFyIHBvcHVwXzU3MmEzZDQ0NzY0ZjRjOTNiMmExNzgxNWQ5M2Q4ZmI3ID0gTC5wb3B1cCh7bWF4V2lkdGg6ICcxMDAlJwogICAgICAgICAgICAKICAgICAgICAgICAgfSk7CgogICAgICAgICAgICAKICAgICAgICAgICAgICAgIHZhciBodG1sXzU3NDAwOTdlODkxNTRlNjA4OGE5MmRkMzc2ZGUxZjJlID0gJChgPGRpdiBpZD0iaHRtbF81NzQwMDk3ZTg5MTU0ZTYwODhhOTJkZDM3NmRlMWYyZSIgc3R5bGU9IndpZHRoOiAxMDAuMCU7IGhlaWdodDogMTAwLjAlOyI+Q291cnR5YXJkIGJ5IE1hcnJpb3R0IEF0bGFudGEgRG93bnRvd248L2Rpdj5gKVswXTsKICAgICAgICAgICAgICAgIHBvcHVwXzU3MmEzZDQ0NzY0ZjRjOTNiMmExNzgxNWQ5M2Q4ZmI3LnNldENvbnRlbnQoaHRtbF81NzQwMDk3ZTg5MTU0ZTYwODhhOTJkZDM3NmRlMWYyZSk7CiAgICAgICAgICAgIAoKICAgICAgICAgICAgY2lyY2xlXzBhMzhhNzMzOGVlMjRhOTQ5MzAwMjM4MGJkN2I2YzM3LmJpbmRQb3B1cChwb3B1cF81NzJhM2Q0NDc2NGY0YzkzYjJhMTc4MTVkOTNkOGZiNykKICAgICAgICAgICAgOwoKICAgICAgICAgICAgCiAgICAgICAgCiAgICAKCiAgICAgICAgICAgIHZhciBjaXJjbGVfOGRkNWJkODBkNjc3NGQ1Njk0NjU3MjEzNTVkYjUyOWUgPSBMLmNpcmNsZSgKICAgICAgICAgICAgICAgIFszMy43NTg1OTc0NTc2ODU0OCwgLTg0LjM4NzU1MTY0NDg1NDk0XSwKICAgICAgICAgICAgICAgIHsKICAiYnViYmxpbmdNb3VzZUV2ZW50cyI6IHRydWUsCiAgImNvbG9yIjogIiMzMzg4ZmYiLAogICJkYXNoQXJyYXkiOiBudWxsLAogICJkYXNoT2Zmc2V0IjogbnVsbCwKICAiZmlsbCI6IHRydWUsCiAgImZpbGxDb2xvciI6ICIjMzM4OGZmIiwKICAiZmlsbE9wYWNpdHkiOiAwLjIsCiAgImZpbGxSdWxlIjogImV2ZW5vZGQiLAogICJsaW5lQ2FwIjogInJvdW5kIiwKICAibGluZUpvaW4iOiAicm91bmQiLAogICJvcGFjaXR5IjogMS4wLAogICJyYWRpdXMiOiAxMCwKICAic3Ryb2tlIjogdHJ1ZSwKICAid2VpZ2h0IjogMwp9CiAgICAgICAgICAgICAgICApCiAgICAgICAgICAgICAgICAuYWRkVG8obWFwXzI3NDUzMmUwZTgwNTQzN2FhZTIzYWI5YzlkNzJhY2QxKTsKICAgICAgICAgICAgCiAgICAKICAgICAgICAgICAgdmFyIHBvcHVwXzE2ODg1Mjk5M2IzNzQ3YWJiOGY1MzQzNWJkMTg0NGM1ID0gTC5wb3B1cCh7bWF4V2lkdGg6ICcxMDAlJwogICAgICAgICAgICAKICAgICAgICAgICAgfSk7CgogICAgICAgICAgICAKICAgICAgICAgICAgICAgIHZhciBodG1sXzEzNzA2NjVjYzljYzQ2MTBiZGZmOThlNmQ0Nzk1NmVmID0gJChgPGRpdiBpZD0iaHRtbF8xMzcwNjY1Y2M5Y2M0NjEwYmRmZjk4ZTZkNDc5NTZlZiIgc3R5bGU9IndpZHRoOiAxMDAuMCU7IGhlaWdodDogMTAwLjAlOyI+QXRsYW50YSBHcmlsbDwvZGl2PmApWzBdOwogICAgICAgICAgICAgICAgcG9wdXBfMTY4ODUyOTkzYjM3NDdhYmI4ZjUzNDM1YmQxODQ0YzUuc2V0Q29udGVudChodG1sXzEzNzA2NjVjYzljYzQ2MTBiZGZmOThlNmQ0Nzk1NmVmKTsKICAgICAgICAgICAgCgogICAgICAgICAgICBjaXJjbGVfOGRkNWJkODBkNjc3NGQ1Njk0NjU3MjEzNTVkYjUyOWUuYmluZFBvcHVwKHBvcHVwXzE2ODg1Mjk5M2IzNzQ3YWJiOGY1MzQzNWJkMTg0NGM1KQogICAgICAgICAgICA7CgogICAgICAgICAgICAKICAgICAgICAKICAgIAoKICAgICAgICAgICAgdmFyIGNpcmNsZV9hZjg0Y2EwOWVjZTA0Zjg5YTVmODhjNjAwNDkwYjQyMSA9IEwuY2lyY2xlKAogICAgICAgICAgICAgICAgWzMzLjc1ODY3NjA0MTAxMjE5LCAtODQuMzg3NzQzNTQ3ODYxNzVdLAogICAgICAgICAgICAgICAgewogICJidWJibGluZ01vdXNlRXZlbnRzIjogdHJ1ZSwKICAiY29sb3IiOiAiIzMzODhmZiIsCiAgImRhc2hBcnJheSI6IG51bGwsCiAgImRhc2hPZmZzZXQiOiBudWxsLAogICJmaWxsIjogdHJ1ZSwKICAiZmlsbENvbG9yIjogIiMzMzg4ZmYiLAogICJmaWxsT3BhY2l0eSI6IDAuMiwKICAiZmlsbFJ1bGUiOiAiZXZlbm9kZCIsCiAgImxpbmVDYXAiOiAicm91bmQiLAogICJsaW5lSm9pbiI6ICJyb3VuZCIsCiAgIm9wYWNpdHkiOiAxLjAsCiAgInJhZGl1cyI6IDEwLAogICJzdHJva2UiOiB0cnVlLAogICJ3ZWlnaHQiOiAzCn0KICAgICAgICAgICAgICAgICkKICAgICAgICAgICAgICAgIC5hZGRUbyhtYXBfMjc0NTMyZTBlODA1NDM3YWFlMjNhYjljOWQ3MmFjZDEpOwogICAgICAgICAgICAKICAgIAogICAgICAgICAgICB2YXIgcG9wdXBfNjMxYTg5NmI0OGEwNGY0NWEwZTVlZjJjZTA1OGNkMWQgPSBMLnBvcHVwKHttYXhXaWR0aDogJzEwMCUnCiAgICAgICAgICAgIAogICAgICAgICAgICB9KTsKCiAgICAgICAgICAgIAogICAgICAgICAgICAgICAgdmFyIGh0bWxfZWM4NjFhYmJiMzUzNGY0NGE2ZDRkMjdlNWVkMWE3MTMgPSAkKGA8ZGl2IGlkPSJodG1sX2VjODYxYWJiYjM1MzRmNDRhNmQ0ZDI3ZTVlZDFhNzEzIiBzdHlsZT0id2lkdGg6IDEwMC4wJTsgaGVpZ2h0OiAxMDAuMCU7Ij5Td2VldCBHZW9yZ2lhJ3MgSnVrZSBKb2ludDwvZGl2PmApWzBdOwogICAgICAgICAgICAgICAgcG9wdXBfNjMxYTg5NmI0OGEwNGY0NWEwZTVlZjJjZTA1OGNkMWQuc2V0Q29udGVudChodG1sX2VjODYxYWJiYjM1MzRmNDRhNmQ0ZDI3ZTVlZDFhNzEzKTsKICAgICAgICAgICAgCgogICAgICAgICAgICBjaXJjbGVfYWY4NGNhMDllY2UwNGY4OWE1Zjg4YzYwMDQ5MGI0MjEuYmluZFBvcHVwKHBvcHVwXzYzMWE4OTZiNDhhMDRmNDVhMGU1ZWYyY2UwNThjZDFkKQogICAgICAgICAgICA7CgogICAgICAgICAgICAKICAgICAgICAKICAgIAoKICAgICAgICAgICAgdmFyIGNpcmNsZV8zMTA0MjhmMjZlNGI0YTUwODc1NGY2ZGZiOTNhODE4NiA9IEwuY2lyY2xlKAogICAgICAgICAgICAgICAgWzMzLjc1NTkwOSwgLTg0LjM5MTI4OV0sCiAgICAgICAgICAgICAgICB7CiAgImJ1YmJsaW5nTW91c2VFdmVudHMiOiB0cnVlLAogICJjb2xvciI6ICIjMzM4OGZmIiwKICAiZGFzaEFycmF5IjogbnVsbCwKICAiZGFzaE9mZnNldCI6IG51bGwsCiAgImZpbGwiOiB0cnVlLAogICJmaWxsQ29sb3IiOiAiIzMzODhmZiIsCiAgImZpbGxPcGFjaXR5IjogMC4yLAogICJmaWxsUnVsZSI6ICJldmVub2RkIiwKICAibGluZUNhcCI6ICJyb3VuZCIsCiAgImxpbmVKb2luIjogInJvdW5kIiwKICAib3BhY2l0eSI6IDEuMCwKICAicmFkaXVzIjogMTAsCiAgInN0cm9rZSI6IHRydWUsCiAgIndlaWdodCI6IDMKfQogICAgICAgICAgICAgICAgKQogICAgICAgICAgICAgICAgLmFkZFRvKG1hcF8yNzQ1MzJlMGU4MDU0MzdhYWUyM2FiOWM5ZDcyYWNkMSk7CiAgICAgICAgICAgIAogICAgCiAgICAgICAgICAgIHZhciBwb3B1cF9iYzQ2YzYwODBlODQ0NjJiOWVkYmQ1MTNjNzgxMWE3ZCA9IEwucG9wdXAoe21heFdpZHRoOiAnMTAwJScKICAgICAgICAgICAgCiAgICAgICAgICAgIH0pOwoKICAgICAgICAgICAgCiAgICAgICAgICAgICAgICB2YXIgaHRtbF9jYzA3ZDIyMzVmZGI0NDc3YTdjZjdjMmViNDI5ZWUzOSA9ICQoYDxkaXYgaWQ9Imh0bWxfY2MwN2QyMjM1ZmRiNDQ3N2E3Y2Y3YzJlYjQyOWVlMzkiIHN0eWxlPSJ3aWR0aDogMTAwLjAlOyBoZWlnaHQ6IDEwMC4wJTsiPkplcnNleSBNaWtlJ3MgU3ViczwvZGl2PmApWzBdOwogICAgICAgICAgICAgICAgcG9wdXBfYmM0NmM2MDgwZTg0NDYyYjllZGJkNTEzYzc4MTFhN2Quc2V0Q29udGVudChodG1sX2NjMDdkMjIzNWZkYjQ0NzdhN2NmN2MyZWI0MjllZTM5KTsKICAgICAgICAgICAgCgogICAgICAgICAgICBjaXJjbGVfMzEwNDI4ZjI2ZTRiNGE1MDg3NTRmNmRmYjkzYTgxODYuYmluZFBvcHVwKHBvcHVwX2JjNDZjNjA4MGU4NDQ2MmI5ZWRiZDUxM2M3ODExYTdkKQogICAgICAgICAgICA7CgogICAgICAgICAgICAKICAgICAgICAKICAgIAoKICAgICAgICAgICAgdmFyIGNpcmNsZV9jZGM0NDI5ODM0YjU0NmNmYjkzMWUwZjI0OWEwYTA3NiA9IEwuY2lyY2xlKAogICAgICAgICAgICAgICAgWzMzLjc1NDYyMTc1NDkyNjEzNCwgLTg0LjM4ODE2ODQzNzU0MDUzXSwKICAgICAgICAgICAgICAgIHsKICAiYnViYmxpbmdNb3VzZUV2ZW50cyI6IHRydWUsCiAgImNvbG9yIjogIiMzMzg4ZmYiLAogICJkYXNoQXJyYXkiOiBudWxsLAogICJkYXNoT2Zmc2V0IjogbnVsbCwKICAiZmlsbCI6IHRydWUsCiAgImZpbGxDb2xvciI6ICIjMzM4OGZmIiwKICAiZmlsbE9wYWNpdHkiOiAwLjIsCiAgImZpbGxSdWxlIjogImV2ZW5vZGQiLAogICJsaW5lQ2FwIjogInJvdW5kIiwKICAibGluZUpvaW4iOiAicm91bmQiLAogICJvcGFjaXR5IjogMS4wLAogICJyYWRpdXMiOiAxMCwKICAic3Ryb2tlIjogdHJ1ZSwKICAid2VpZ2h0IjogMwp9CiAgICAgICAgICAgICAgICApCiAgICAgICAgICAgICAgICAuYWRkVG8obWFwXzI3NDUzMmUwZTgwNTQzN2FhZTIzYWI5YzlkNzJhY2QxKTsKICAgICAgICAgICAgCiAgICAKICAgICAgICAgICAgdmFyIHBvcHVwX2VkNTBiNzQzM2I2ZjQ1NjA5YTdkZmFjZjM4N2RiNGI4ID0gTC5wb3B1cCh7bWF4V2lkdGg6ICcxMDAlJwogICAgICAgICAgICAKICAgICAgICAgICAgfSk7CgogICAgICAgICAgICAKICAgICAgICAgICAgICAgIHZhciBodG1sXzBhOWZjMmMxOTQwZDQ2ZDY4MmE2ZmYwMGJhOTYwNmVkID0gJChgPGRpdiBpZD0iaHRtbF8wYTlmYzJjMTk0MGQ0NmQ2ODJhNmZmMDBiYTk2MDZlZCIgc3R5bGU9IndpZHRoOiAxMDAuMCU7IGhlaWdodDogMTAwLjAlOyI+U2Vuc2F0aW9uYWwgU3ViczwvZGl2PmApWzBdOwogICAgICAgICAgICAgICAgcG9wdXBfZWQ1MGI3NDMzYjZmNDU2MDlhN2RmYWNmMzg3ZGI0Yjguc2V0Q29udGVudChodG1sXzBhOWZjMmMxOTQwZDQ2ZDY4MmE2ZmYwMGJhOTYwNmVkKTsKICAgICAgICAgICAgCgogICAgICAgICAgICBjaXJjbGVfY2RjNDQyOTgzNGI1NDZjZmI5MzFlMGYyNDlhMGEwNzYuYmluZFBvcHVwKHBvcHVwX2VkNTBiNzQzM2I2ZjQ1NjA5YTdkZmFjZjM4N2RiNGI4KQogICAgICAgICAgICA7CgogICAgICAgICAgICAKICAgICAgICAKICAgIAoKICAgICAgICAgICAgdmFyIGNpcmNsZV9jOTRiNTVjNWI3Zjk0ZDZiYTI1OWIzYzJiZTNkM2FkMyA9IEwuY2lyY2xlKAogICAgICAgICAgICAgICAgWzMzLjc1NDMxNzQ1NjY5MTM1LCAtODQuMzg4NDIyNTQ5NTE2NjNdLAogICAgICAgICAgICAgICAgewogICJidWJibGluZ01vdXNlRXZlbnRzIjogdHJ1ZSwKICAiY29sb3IiOiAiIzMzODhmZiIsCiAgImRhc2hBcnJheSI6IG51bGwsCiAgImRhc2hPZmZzZXQiOiBudWxsLAogICJmaWxsIjogdHJ1ZSwKICAiZmlsbENvbG9yIjogIiMzMzg4ZmYiLAogICJmaWxsT3BhY2l0eSI6IDAuMiwKICAiZmlsbFJ1bGUiOiAiZXZlbm9kZCIsCiAgImxpbmVDYXAiOiAicm91bmQiLAogICJsaW5lSm9pbiI6ICJyb3VuZCIsCiAgIm9wYWNpdHkiOiAxLjAsCiAgInJhZGl1cyI6IDEwLAogICJzdHJva2UiOiB0cnVlLAogICJ3ZWlnaHQiOiAzCn0KICAgICAgICAgICAgICAgICkKICAgICAgICAgICAgICAgIC5hZGRUbyhtYXBfMjc0NTMyZTBlODA1NDM3YWFlMjNhYjljOWQ3MmFjZDEpOwogICAgICAgICAgICAKICAgIAogICAgICAgICAgICB2YXIgcG9wdXBfZGU2ZmZiMWVlZmI2NDRiZjkwOTZhMDFlMDZkYjRlMmUgPSBMLnBvcHVwKHttYXhXaWR0aDogJzEwMCUnCiAgICAgICAgICAgIAogICAgICAgICAgICB9KTsKCiAgICAgICAgICAgIAogICAgICAgICAgICAgICAgdmFyIGh0bWxfNDM3ZjcyMzU1OWUwNGUxNmE5M2RiOTMyNzU4ZmUwY2QgPSAkKGA8ZGl2IGlkPSJodG1sXzQzN2Y3MjM1NTllMDRlMTZhOTNkYjkzMjc1OGZlMGNkIiBzdHlsZT0id2lkdGg6IDEwMC4wJTsgaGVpZ2h0OiAxMDAuMCU7Ij5LdW5nIEZ1IFRlYTwvZGl2PmApWzBdOwogICAgICAgICAgICAgICAgcG9wdXBfZGU2ZmZiMWVlZmI2NDRiZjkwOTZhMDFlMDZkYjRlMmUuc2V0Q29udGVudChodG1sXzQzN2Y3MjM1NTllMDRlMTZhOTNkYjkzMjc1OGZlMGNkKTsKICAgICAgICAgICAgCgogICAgICAgICAgICBjaXJjbGVfYzk0YjU1YzViN2Y5NGQ2YmEyNTliM2MyYmUzZDNhZDMuYmluZFBvcHVwKHBvcHVwX2RlNmZmYjFlZWZiNjQ0YmY5MDk2YTAxZTA2ZGI0ZTJlKQogICAgICAgICAgICA7CgogICAgICAgICAgICAKICAgICAgICAKICAgIAoKICAgICAgICAgICAgdmFyIGNpcmNsZV8xOWMyYzZmYzFlOTE0M2ExODNmMGUzZThkODUxNjIzZSA9IEwuY2lyY2xlKAogICAgICAgICAgICAgICAgWzMzLjc1ODE5LCAtODQuMzkyNzc5XSwKICAgICAgICAgICAgICAgIHsKICAiYnViYmxpbmdNb3VzZUV2ZW50cyI6IHRydWUsCiAgImNvbG9yIjogIiMzMzg4ZmYiLAogICJkYXNoQXJyYXkiOiBudWxsLAogICJkYXNoT2Zmc2V0IjogbnVsbCwKICAiZmlsbCI6IHRydWUsCiAgImZpbGxDb2xvciI6ICIjMzM4OGZmIiwKICAiZmlsbE9wYWNpdHkiOiAwLjIsCiAgImZpbGxSdWxlIjogImV2ZW5vZGQiLAogICJsaW5lQ2FwIjogInJvdW5kIiwKICAibGluZUpvaW4iOiAicm91bmQiLAogICJvcGFjaXR5IjogMS4wLAogICJyYWRpdXMiOiAxMCwKICAic3Ryb2tlIjogdHJ1ZSwKICAid2VpZ2h0IjogMwp9CiAgICAgICAgICAgICAgICApCiAgICAgICAgICAgICAgICAuYWRkVG8obWFwXzI3NDUzMmUwZTgwNTQzN2FhZTIzYWI5YzlkNzJhY2QxKTsKICAgICAgICAgICAgCiAgICAKICAgICAgICAgICAgdmFyIHBvcHVwX2IzZDZmODBhMGRhMTQzN2Q5ZGQ2MGYwMGZmYzg5YWEzID0gTC5wb3B1cCh7bWF4V2lkdGg6ICcxMDAlJwogICAgICAgICAgICAKICAgICAgICAgICAgfSk7CgogICAgICAgICAgICAKICAgICAgICAgICAgICAgIHZhciBodG1sXzY0NmU5MzU1YWVmNDQ0OGY5NDYzOTRkM2QzNjA0NjRkID0gJChgPGRpdiBpZD0iaHRtbF82NDZlOTM1NWFlZjQ0NDhmOTQ2Mzk0ZDNkMzYwNDY0ZCIgc3R5bGU9IndpZHRoOiAxMDAuMCU7IGhlaWdodDogMTAwLjAlOyI+UGFyayBCYXI8L2Rpdj5gKVswXTsKICAgICAgICAgICAgICAgIHBvcHVwX2IzZDZmODBhMGRhMTQzN2Q5ZGQ2MGYwMGZmYzg5YWEzLnNldENvbnRlbnQoaHRtbF82NDZlOTM1NWFlZjQ0NDhmOTQ2Mzk0ZDNkMzYwNDY0ZCk7CiAgICAgICAgICAgIAoKICAgICAgICAgICAgY2lyY2xlXzE5YzJjNmZjMWU5MTQzYTE4M2YwZTNlOGQ4NTE2MjNlLmJpbmRQb3B1cChwb3B1cF9iM2Q2ZjgwYTBkYTE0MzdkOWRkNjBmMDBmZmM4OWFhMykKICAgICAgICAgICAgOwoKICAgICAgICAgICAgCiAgICAgICAgCiAgICAKCiAgICAgICAgICAgIHZhciBjaXJjbGVfNTVmZmU3NjkwMTMzNDE5YTljZDg0ZTQ0ZGI2MjNiYmYgPSBMLmNpcmNsZSgKICAgICAgICAgICAgICAgIFszMy43NTY1ODgsIC04NC4zODgwOTVdLAogICAgICAgICAgICAgICAgewogICJidWJibGluZ01vdXNlRXZlbnRzIjogdHJ1ZSwKICAiY29sb3IiOiAiIzMzODhmZiIsCiAgImRhc2hBcnJheSI6IG51bGwsCiAgImRhc2hPZmZzZXQiOiBudWxsLAogICJmaWxsIjogdHJ1ZSwKICAiZmlsbENvbG9yIjogIiMzMzg4ZmYiLAogICJmaWxsT3BhY2l0eSI6IDAuMiwKICAiZmlsbFJ1bGUiOiAiZXZlbm9kZCIsCiAgImxpbmVDYXAiOiAicm91bmQiLAogICJsaW5lSm9pbiI6ICJyb3VuZCIsCiAgIm9wYWNpdHkiOiAxLjAsCiAgInJhZGl1cyI6IDEwLAogICJzdHJva2UiOiB0cnVlLAogICJ3ZWlnaHQiOiAzCn0KICAgICAgICAgICAgICAgICkKICAgICAgICAgICAgICAgIC5hZGRUbyhtYXBfMjc0NTMyZTBlODA1NDM3YWFlMjNhYjljOWQ3MmFjZDEpOwogICAgICAgICAgICAKICAgIAogICAgICAgICAgICB2YXIgcG9wdXBfYzEzNzY5OTZlZmVmNGY2NDgwMzdlZGYzYzI5MWI1OGUgPSBMLnBvcHVwKHttYXhXaWR0aDogJzEwMCUnCiAgICAgICAgICAgIAogICAgICAgICAgICB9KTsKCiAgICAgICAgICAgIAogICAgICAgICAgICAgICAgdmFyIGh0bWxfYTIwMjk4NWFlNjM5NDViZjhiMTI2NmU3NjA1NzllY2IgPSAkKGA8ZGl2IGlkPSJodG1sX2EyMDI5ODVhZTYzOTQ1YmY4YjEyNjZlNzYwNTc5ZWNiIiBzdHlsZT0id2lkdGg6IDEwMC4wJTsgaGVpZ2h0OiAxMDAuMCU7Ij5SaXNpbmcgUm9sbCBHb3VybWV0PC9kaXY+YClbMF07CiAgICAgICAgICAgICAgICBwb3B1cF9jMTM3Njk5NmVmZWY0ZjY0ODAzN2VkZjNjMjkxYjU4ZS5zZXRDb250ZW50KGh0bWxfYTIwMjk4NWFlNjM5NDViZjhiMTI2NmU3NjA1NzllY2IpOwogICAgICAgICAgICAKCiAgICAgICAgICAgIGNpcmNsZV81NWZmZTc2OTAxMzM0MTlhOWNkODRlNDRkYjYyM2JiZi5iaW5kUG9wdXAocG9wdXBfYzEzNzY5OTZlZmVmNGY2NDgwMzdlZGYzYzI5MWI1OGUpCiAgICAgICAgICAgIDsKCiAgICAgICAgICAgIAogICAgICAgIAogICAgCgogICAgICAgICAgICB2YXIgY2lyY2xlX2EwODAxZWQxMTYzODQ2OTc4MDA4MGYwNDg2ZTY5YzRjID0gTC5jaXJjbGUoCiAgICAgICAgICAgICAgICBbMzMuNzU5NTc1MTA5MjkzNzEsIC04NC4zODY5MDYzMjEyOTg5N10sCiAgICAgICAgICAgICAgICB7CiAgImJ1YmJsaW5nTW91c2VFdmVudHMiOiB0cnVlLAogICJjb2xvciI6ICIjMzM4OGZmIiwKICAiZGFzaEFycmF5IjogbnVsbCwKICAiZGFzaE9mZnNldCI6IG51bGwsCiAgImZpbGwiOiB0cnVlLAogICJmaWxsQ29sb3IiOiAiIzMzODhmZiIsCiAgImZpbGxPcGFjaXR5IjogMC4yLAogICJmaWxsUnVsZSI6ICJldmVub2RkIiwKICAibGluZUNhcCI6ICJyb3VuZCIsCiAgImxpbmVKb2luIjogInJvdW5kIiwKICAib3BhY2l0eSI6IDEuMCwKICAicmFkaXVzIjogMTAsCiAgInN0cm9rZSI6IHRydWUsCiAgIndlaWdodCI6IDMKfQogICAgICAgICAgICAgICAgKQogICAgICAgICAgICAgICAgLmFkZFRvKG1hcF8yNzQ1MzJlMGU4MDU0MzdhYWUyM2FiOWM5ZDcyYWNkMSk7CiAgICAgICAgICAgIAogICAgCiAgICAgICAgICAgIHZhciBwb3B1cF8xY2RjZGMxODgzNTg0NjNhYjViM2JkODQ4NDI2ZjU2MSA9IEwucG9wdXAoe21heFdpZHRoOiAnMTAwJScKICAgICAgICAgICAgCiAgICAgICAgICAgIH0pOwoKICAgICAgICAgICAgCiAgICAgICAgICAgICAgICB2YXIgaHRtbF81YTA2MTM3NmFjYzM0ZDhiOWMyMGE5Y2UyYjgwOTA3ZSA9ICQoYDxkaXYgaWQ9Imh0bWxfNWEwNjEzNzZhY2MzNGQ4YjljMjBhOWNlMmI4MDkwN2UiIHN0eWxlPSJ3aWR0aDogMTAwLjAlOyBoZWlnaHQ6IDEwMC4wJTsiPlJlZCBQaG9uZSBCb290aDwvZGl2PmApWzBdOwogICAgICAgICAgICAgICAgcG9wdXBfMWNkY2RjMTg4MzU4NDYzYWI1YjNiZDg0ODQyNmY1NjEuc2V0Q29udGVudChodG1sXzVhMDYxMzc2YWNjMzRkOGI5YzIwYTljZTJiODA5MDdlKTsKICAgICAgICAgICAgCgogICAgICAgICAgICBjaXJjbGVfYTA4MDFlZDExNjM4NDY5NzgwMDgwZjA0ODZlNjljNGMuYmluZFBvcHVwKHBvcHVwXzFjZGNkYzE4ODM1ODQ2M2FiNWIzYmQ4NDg0MjZmNTYxKQogICAgICAgICAgICA7CgogICAgICAgICAgICAKICAgICAgICAKICAgIAoKICAgICAgICAgICAgdmFyIGNpcmNsZV9hMWI5OTI5NzI5YTQ0NTNjYTJmYTY2NDI0YWU5MmU5MCA9IEwuY2lyY2xlKAogICAgICAgICAgICAgICAgWzMzLjc1NzAxOTgyMjg2MjcxLCAtODQuMzkzMDQxMjEyMTkyNjZdLAogICAgICAgICAgICAgICAgewogICJidWJibGluZ01vdXNlRXZlbnRzIjogdHJ1ZSwKICAiY29sb3IiOiAiIzMzODhmZiIsCiAgImRhc2hBcnJheSI6IG51bGwsCiAgImRhc2hPZmZzZXQiOiBudWxsLAogICJmaWxsIjogdHJ1ZSwKICAiZmlsbENvbG9yIjogIiMzMzg4ZmYiLAogICJmaWxsT3BhY2l0eSI6IDAuMiwKICAiZmlsbFJ1bGUiOiAiZXZlbm9kZCIsCiAgImxpbmVDYXAiOiAicm91bmQiLAogICJsaW5lSm9pbiI6ICJyb3VuZCIsCiAgIm9wYWNpdHkiOiAxLjAsCiAgInJhZGl1cyI6IDEwLAogICJzdHJva2UiOiB0cnVlLAogICJ3ZWlnaHQiOiAzCn0KICAgICAgICAgICAgICAgICkKICAgICAgICAgICAgICAgIC5hZGRUbyhtYXBfMjc0NTMyZTBlODA1NDM3YWFlMjNhYjljOWQ3MmFjZDEpOwogICAgICAgICAgICAKICAgIAogICAgICAgICAgICB2YXIgcG9wdXBfOGE0MTQ4YzMxODFiNGRlY2IwYTc5MjkyY2JhYWM4Y2YgPSBMLnBvcHVwKHttYXhXaWR0aDogJzEwMCUnCiAgICAgICAgICAgIAogICAgICAgICAgICB9KTsKCiAgICAgICAgICAgIAogICAgICAgICAgICAgICAgdmFyIGh0bWxfMjRlODQwNDE2ZTY2NDJkMzliOGFmNjA0MDY3YWI0MTEgPSAkKGA8ZGl2IGlkPSJodG1sXzI0ZTg0MDQxNmU2NjQyZDM5YjhhZjYwNDA2N2FiNDExIiBzdHlsZT0id2lkdGg6IDEwMC4wJTsgaGVpZ2h0OiAxMDAuMCU7Ij5HbGVubiBIb3RlbCwgQXV0b2dyYXBoIENvbGxlY3Rpb248L2Rpdj5gKVswXTsKICAgICAgICAgICAgICAgIHBvcHVwXzhhNDE0OGMzMTgxYjRkZWNiMGE3OTI5MmNiYWFjOGNmLnNldENvbnRlbnQoaHRtbF8yNGU4NDA0MTZlNjY0MmQzOWI4YWY2MDQwNjdhYjQxMSk7CiAgICAgICAgICAgIAoKICAgICAgICAgICAgY2lyY2xlX2ExYjk5Mjk3MjlhNDQ1M2NhMmZhNjY0MjRhZTkyZTkwLmJpbmRQb3B1cChwb3B1cF84YTQxNDhjMzE4MWI0ZGVjYjBhNzkyOTJjYmFhYzhjZikKICAgICAgICAgICAgOwoKICAgICAgICAgICAgCiAgICAgICAgCiAgICAKCiAgICAgICAgICAgIHZhciBjaXJjbGVfMmM5YjdiNGYzOThjNGY5ZDljMTAxOTc0NDg1N2MzNzIgPSBMLmNpcmNsZSgKICAgICAgICAgICAgICAgIFszMy43NTgyMTIyMDg1ODY2NSwgLTg0LjM4NzI3NTk2MjYyNTg5XSwKICAgICAgICAgICAgICAgIHsKICAiYnViYmxpbmdNb3VzZUV2ZW50cyI6IHRydWUsCiAgImNvbG9yIjogIiMzMzg4ZmYiLAogICJkYXNoQXJyYXkiOiBudWxsLAogICJkYXNoT2Zmc2V0IjogbnVsbCwKICAiZmlsbCI6IHRydWUsCiAgImZpbGxDb2xvciI6ICIjMzM4OGZmIiwKICAiZmlsbE9wYWNpdHkiOiAwLjIsCiAgImZpbGxSdWxlIjogImV2ZW5vZGQiLAogICJsaW5lQ2FwIjogInJvdW5kIiwKICAibGluZUpvaW4iOiAicm91bmQiLAogICJvcGFjaXR5IjogMS4wLAogICJyYWRpdXMiOiAxMCwKICAic3Ryb2tlIjogdHJ1ZSwKICAid2VpZ2h0IjogMwp9CiAgICAgICAgICAgICAgICApCiAgICAgICAgICAgICAgICAuYWRkVG8obWFwXzI3NDUzMmUwZTgwNTQzN2FhZTIzYWI5YzlkNzJhY2QxKTsKICAgICAgICAgICAgCiAgICAKICAgICAgICAgICAgdmFyIHBvcHVwX2M4OWUzNGYxMGNkNDQ2NDc4M2UyY2I4NTQ4NjhjZjU1ID0gTC5wb3B1cCh7bWF4V2lkdGg6ICcxMDAlJwogICAgICAgICAgICAKICAgICAgICAgICAgfSk7CgogICAgICAgICAgICAKICAgICAgICAgICAgICAgIHZhciBodG1sXzRmZmMzOGUxNTBiMDRkOTk5OWZlNTVjYTU2MmIwNTBiID0gJChgPGRpdiBpZD0iaHRtbF80ZmZjMzhlMTUwYjA0ZDk5OTlmZTU1Y2E1NjJiMDUwYiIgc3R5bGU9IndpZHRoOiAxMDAuMCU7IGhlaWdodDogMTAwLjAlOyI+R2VvcmdpYS1QYWNpZmljIENlbnRlcjwvZGl2PmApWzBdOwogICAgICAgICAgICAgICAgcG9wdXBfYzg5ZTM0ZjEwY2Q0NDY0NzgzZTJjYjg1NDg2OGNmNTUuc2V0Q29udGVudChodG1sXzRmZmMzOGUxNTBiMDRkOTk5OWZlNTVjYTU2MmIwNTBiKTsKICAgICAgICAgICAgCgogICAgICAgICAgICBjaXJjbGVfMmM5YjdiNGYzOThjNGY5ZDljMTAxOTc0NDg1N2MzNzIuYmluZFBvcHVwKHBvcHVwX2M4OWUzNGYxMGNkNDQ2NDc4M2UyY2I4NTQ4NjhjZjU1KQogICAgICAgICAgICA7CgogICAgICAgICAgICAKICAgICAgICAKICAgIAoKICAgICAgICAgICAgdmFyIGNpcmNsZV81OGE0ODM4ZWFlZjY0YjA1YWNhMTZiNjQ2ZGFkZjUzYyA9IEwuY2lyY2xlKAogICAgICAgICAgICAgICAgWzMzLjc1OTQ3ODAzNTk2NTkxLCAtODQuMzg4NTc5NzY5ODM4NzZdLAogICAgICAgICAgICAgICAgewogICJidWJibGluZ01vdXNlRXZlbnRzIjogdHJ1ZSwKICAiY29sb3IiOiAiIzMzODhmZiIsCiAgImRhc2hBcnJheSI6IG51bGwsCiAgImRhc2hPZmZzZXQiOiBudWxsLAogICJmaWxsIjogdHJ1ZSwKICAiZmlsbENvbG9yIjogIiMzMzg4ZmYiLAogICJmaWxsT3BhY2l0eSI6IDAuMiwKICAiZmlsbFJ1bGUiOiAiZXZlbm9kZCIsCiAgImxpbmVDYXAiOiAicm91bmQiLAogICJsaW5lSm9pbiI6ICJyb3VuZCIsCiAgIm9wYWNpdHkiOiAxLjAsCiAgInJhZGl1cyI6IDEwLAogICJzdHJva2UiOiB0cnVlLAogICJ3ZWlnaHQiOiAzCn0KICAgICAgICAgICAgICAgICkKICAgICAgICAgICAgICAgIC5hZGRUbyhtYXBfMjc0NTMyZTBlODA1NDM3YWFlMjNhYjljOWQ3MmFjZDEpOwogICAgICAgICAgICAKICAgIAogICAgICAgICAgICB2YXIgcG9wdXBfNzBhNWFiNDFlYTgxNDM4YzhmZjI0ZWI4NWE0Y2IyNDggPSBMLnBvcHVwKHttYXhXaWR0aDogJzEwMCUnCiAgICAgICAgICAgIAogICAgICAgICAgICB9KTsKCiAgICAgICAgICAgIAogICAgICAgICAgICAgICAgdmFyIGh0bWxfNmJmMDkxY2RjZWJkNDU3ZjkzMjI3YmM2YzA5NTAxMTcgPSAkKGA8ZGl2IGlkPSJodG1sXzZiZjA5MWNkY2ViZDQ1N2Y5MzIyN2JjNmMwOTUwMTE3IiBzdHlsZT0id2lkdGg6IDEwMC4wJTsgaGVpZ2h0OiAxMDAuMCU7Ij5TdW4gRGlhbCBSZXN0YXVyYW50LCBCYXIgJiBWaWV3PC9kaXY+YClbMF07CiAgICAgICAgICAgICAgICBwb3B1cF83MGE1YWI0MWVhODE0MzhjOGZmMjRlYjg1YTRjYjI0OC5zZXRDb250ZW50KGh0bWxfNmJmMDkxY2RjZWJkNDU3ZjkzMjI3YmM2YzA5NTAxMTcpOwogICAgICAgICAgICAKCiAgICAgICAgICAgIGNpcmNsZV81OGE0ODM4ZWFlZjY0YjA1YWNhMTZiNjQ2ZGFkZjUzYy5iaW5kUG9wdXAocG9wdXBfNzBhNWFiNDFlYTgxNDM4YzhmZjI0ZWI4NWE0Y2IyNDgpCiAgICAgICAgICAgIDsKCiAgICAgICAgICAgIAogICAgICAgIAogICAgCgogICAgICAgICAgICB2YXIgY2lyY2xlXzRmMmNjMjkyODI5ZTQxMTZiODE4MjFkNTYzZGJmM2QzID0gTC5jaXJjbGUoCiAgICAgICAgICAgICAgICBbMzMuNzUxNzE5NTIxNjk2OTUsIC04NC4zODk3Mzg3Mzc4MTc4Ml0sCiAgICAgICAgICAgICAgICB7CiAgImJ1YmJsaW5nTW91c2VFdmVudHMiOiB0cnVlLAogICJjb2xvciI6ICIjMzM4OGZmIiwKICAiZGFzaEFycmF5IjogbnVsbCwKICAiZGFzaE9mZnNldCI6IG51bGwsCiAgImZpbGwiOiB0cnVlLAogICJmaWxsQ29sb3IiOiAiIzMzODhmZiIsCiAgImZpbGxPcGFjaXR5IjogMC4yLAogICJmaWxsUnVsZSI6ICJldmVub2RkIiwKICAibGluZUNhcCI6ICJyb3VuZCIsCiAgImxpbmVKb2luIjogInJvdW5kIiwKICAib3BhY2l0eSI6IDEuMCwKICAicmFkaXVzIjogMTAsCiAgInN0cm9rZSI6IHRydWUsCiAgIndlaWdodCI6IDMKfQogICAgICAgICAgICAgICAgKQogICAgICAgICAgICAgICAgLmFkZFRvKG1hcF8yNzQ1MzJlMGU4MDU0MzdhYWUyM2FiOWM5ZDcyYWNkMSk7CiAgICAgICAgICAgIAogICAgCiAgICAgICAgICAgIHZhciBwb3B1cF85OTIwMmY5MWVmOTc0NGM0OGI4NDBhYjYyY2JmMWNjYyA9IEwucG9wdXAoe21heFdpZHRoOiAnMTAwJScKICAgICAgICAgICAgCiAgICAgICAgICAgIH0pOwoKICAgICAgICAgICAgCiAgICAgICAgICAgICAgICB2YXIgaHRtbF81NjRhYzBkYmU4Y2E0MGY5YTg3M2Q5NWI4N2UzZjNiYiA9ICQoYDxkaXYgaWQ9Imh0bWxfNTY0YWMwZGJlOGNhNDBmOWE4NzNkOTViODdlM2YzYmIiIHN0eWxlPSJ3aWR0aDogMTAwLjAlOyBoZWlnaHQ6IDEwMC4wJTsiPlRoZSBNYXNxdWVyYWRlPC9kaXY+YClbMF07CiAgICAgICAgICAgICAgICBwb3B1cF85OTIwMmY5MWVmOTc0NGM0OGI4NDBhYjYyY2JmMWNjYy5zZXRDb250ZW50KGh0bWxfNTY0YWMwZGJlOGNhNDBmOWE4NzNkOTViODdlM2YzYmIpOwogICAgICAgICAgICAKCiAgICAgICAgICAgIGNpcmNsZV80ZjJjYzI5MjgyOWU0MTE2YjgxODIxZDU2M2RiZjNkMy5iaW5kUG9wdXAocG9wdXBfOTkyMDJmOTFlZjk3NDRjNDhiODQwYWI2MmNiZjFjY2MpCiAgICAgICAgICAgIDsKCiAgICAgICAgICAgIAogICAgICAgIAogICAgCgogICAgICAgICAgICB2YXIgY2lyY2xlXzk3NTEzN2VmZmZlNzQ2NzhhZTkyMjNmYzM4YThmYTdhID0gTC5jaXJjbGUoCiAgICAgICAgICAgICAgICBbMzMuNzU3MTA4MzQxMjI5MzcsIC04NC4zOTI3NjYwMDgzMDM1NV0sCiAgICAgICAgICAgICAgICB7CiAgImJ1YmJsaW5nTW91c2VFdmVudHMiOiB0cnVlLAogICJjb2xvciI6ICIjMzM4OGZmIiwKICAiZGFzaEFycmF5IjogbnVsbCwKICAiZGFzaE9mZnNldCI6IG51bGwsCiAgImZpbGwiOiB0cnVlLAogICJmaWxsQ29sb3IiOiAiIzMzODhmZiIsCiAgImZpbGxPcGFjaXR5IjogMC4yLAogICJmaWxsUnVsZSI6ICJldmVub2RkIiwKICAibGluZUNhcCI6ICJyb3VuZCIsCiAgImxpbmVKb2luIjogInJvdW5kIiwKICAib3BhY2l0eSI6IDEuMCwKICAicmFkaXVzIjogMTAsCiAgInN0cm9rZSI6IHRydWUsCiAgIndlaWdodCI6IDMKfQogICAgICAgICAgICAgICAgKQogICAgICAgICAgICAgICAgLmFkZFRvKG1hcF8yNzQ1MzJlMGU4MDU0MzdhYWUyM2FiOWM5ZDcyYWNkMSk7CiAgICAgICAgICAgIAogICAgCiAgICAgICAgICAgIHZhciBwb3B1cF8wYzI1ZjBjNTBjMzE0NDBmOThiMzZkZDQ4ZmUzYWQ1YSA9IEwucG9wdXAoe21heFdpZHRoOiAnMTAwJScKICAgICAgICAgICAgCiAgICAgICAgICAgIH0pOwoKICAgICAgICAgICAgCiAgICAgICAgICAgICAgICB2YXIgaHRtbF8wYWRmMmY1NDEwM2Q0NGQxYTA4NmNjYmVhZjQxOGIyMiA9ICQoYDxkaXYgaWQ9Imh0bWxfMGFkZjJmNTQxMDNkNDRkMWEwODZjY2JlYWY0MThiMjIiIHN0eWxlPSJ3aWR0aDogMTAwLjAlOyBoZWlnaHQ6IDEwMC4wJTsiPkdsZW5uJ3MgS2l0Y2hlbjwvZGl2PmApWzBdOwogICAgICAgICAgICAgICAgcG9wdXBfMGMyNWYwYzUwYzMxNDQwZjk4YjM2ZGQ0OGZlM2FkNWEuc2V0Q29udGVudChodG1sXzBhZGYyZjU0MTAzZDQ0ZDFhMDg2Y2NiZWFmNDE4YjIyKTsKICAgICAgICAgICAgCgogICAgICAgICAgICBjaXJjbGVfOTc1MTM3ZWZmZmU3NDY3OGFlOTIyM2ZjMzhhOGZhN2EuYmluZFBvcHVwKHBvcHVwXzBjMjVmMGM1MGMzMTQ0MGY5OGIzNmRkNDhmZTNhZDVhKQogICAgICAgICAgICA7CgogICAgICAgICAgICAKICAgICAgICAKICAgIAoKICAgICAgICAgICAgdmFyIGNpcmNsZV9mNzYzM2U0MWY3OGU0NjllYmQyOTU0MzU5YTA1MmNlNCA9IEwuY2lyY2xlKAogICAgICAgICAgICAgICAgWzMzLjc1ODg2NTI2MzE3MjU1LCAtODQuMzkxOTYyOTE5ODQ3NjNdLAogICAgICAgICAgICAgICAgewogICJidWJibGluZ01vdXNlRXZlbnRzIjogdHJ1ZSwKICAiY29sb3IiOiAiIzMzODhmZiIsCiAgImRhc2hBcnJheSI6IG51bGwsCiAgImRhc2hPZmZzZXQiOiBudWxsLAogICJmaWxsIjogdHJ1ZSwKICAiZmlsbENvbG9yIjogIiMzMzg4ZmYiLAogICJmaWxsT3BhY2l0eSI6IDAuMiwKICAiZmlsbFJ1bGUiOiAiZXZlbm9kZCIsCiAgImxpbmVDYXAiOiAicm91bmQiLAogICJsaW5lSm9pbiI6ICJyb3VuZCIsCiAgIm9wYWNpdHkiOiAxLjAsCiAgInJhZGl1cyI6IDEwLAogICJzdHJva2UiOiB0cnVlLAogICJ3ZWlnaHQiOiAzCn0KICAgICAgICAgICAgICAgICkKICAgICAgICAgICAgICAgIC5hZGRUbyhtYXBfMjc0NTMyZTBlODA1NDM3YWFlMjNhYjljOWQ3MmFjZDEpOwogICAgICAgICAgICAKICAgIAogICAgICAgICAgICB2YXIgcG9wdXBfN2VlNzM1ZGU3ZTBhNGZiMmEwNjkyYTkzYTBkN2M0MjQgPSBMLnBvcHVwKHttYXhXaWR0aDogJzEwMCUnCiAgICAgICAgICAgIAogICAgICAgICAgICB9KTsKCiAgICAgICAgICAgIAogICAgICAgICAgICAgICAgdmFyIGh0bWxfNGUxMjhhMmUyYjc5NDQ0NWJhOTg4NDczZDEyZWFkMDAgPSAkKGA8ZGl2IGlkPSJodG1sXzRlMTI4YTJlMmI3OTQ0NDViYTk4ODQ3M2QxMmVhZDAwIiBzdHlsZT0id2lkdGg6IDEwMC4wJTsgaGVpZ2h0OiAxMDAuMCU7Ij5Ta3lWaWV3IEF0bGFudGE8L2Rpdj5gKVswXTsKICAgICAgICAgICAgICAgIHBvcHVwXzdlZTczNWRlN2UwYTRmYjJhMDY5MmE5M2EwZDdjNDI0LnNldENvbnRlbnQoaHRtbF80ZTEyOGEyZTJiNzk0NDQ1YmE5ODg0NzNkMTJlYWQwMCk7CiAgICAgICAgICAgIAoKICAgICAgICAgICAgY2lyY2xlX2Y3NjMzZTQxZjc4ZTQ2OWViZDI5NTQzNTlhMDUyY2U0LmJpbmRQb3B1cChwb3B1cF83ZWU3MzVkZTdlMGE0ZmIyYTA2OTJhOTNhMGQ3YzQyNCkKICAgICAgICAgICAgOwoKICAgICAgICAgICAgCiAgICAgICAgCiAgICAKCiAgICAgICAgICAgIHZhciBjaXJjbGVfNDUwNjNlNmU2MGI5NGE3OGFmMmQzNTZiODdiZTRmODMgPSBMLmNpcmNsZSgKICAgICAgICAgICAgICAgIFszMy43NTk2NjQ5MTM1OTA5MiwgLTg0LjM4ODQ3NDA2NTQ2MTY1XSwKICAgICAgICAgICAgICAgIHsKICAiYnViYmxpbmdNb3VzZUV2ZW50cyI6IHRydWUsCiAgImNvbG9yIjogIiMzMzg4ZmYiLAogICJkYXNoQXJyYXkiOiBudWxsLAogICJkYXNoT2Zmc2V0IjogbnVsbCwKICAiZmlsbCI6IHRydWUsCiAgImZpbGxDb2xvciI6ICIjMzM4OGZmIiwKICAiZmlsbE9wYWNpdHkiOiAwLjIsCiAgImZpbGxSdWxlIjogImV2ZW5vZGQiLAogICJsaW5lQ2FwIjogInJvdW5kIiwKICAibGluZUpvaW4iOiAicm91bmQiLAogICJvcGFjaXR5IjogMS4wLAogICJyYWRpdXMiOiAxMCwKICAic3Ryb2tlIjogdHJ1ZSwKICAid2VpZ2h0IjogMwp9CiAgICAgICAgICAgICAgICApCiAgICAgICAgICAgICAgICAuYWRkVG8obWFwXzI3NDUzMmUwZTgwNTQzN2FhZTIzYWI5YzlkNzJhY2QxKTsKICAgICAgICAgICAgCiAgICAKICAgICAgICAgICAgdmFyIHBvcHVwXzM4NGUwMTViNTViZjQ4MTk5NjJmMTliNjVjYjJmNzE2ID0gTC5wb3B1cCh7bWF4V2lkdGg6ICcxMDAlJwogICAgICAgICAgICAKICAgICAgICAgICAgfSk7CgogICAgICAgICAgICAKICAgICAgICAgICAgICAgIHZhciBodG1sXzE1Y2IwMjdlNDRiMjRlZjU4MTQ4Y2NkYjgzYjQ5ZTk1ID0gJChgPGRpdiBpZD0iaHRtbF8xNWNiMDI3ZTQ0YjI0ZWY1ODE0OGNjZGI4M2I0OWU5NSIgc3R5bGU9IndpZHRoOiAxMDAuMCU7IGhlaWdodDogMTAwLjAlOyI+UGl0dHlwYXQncyBQb3JjaDwvZGl2PmApWzBdOwogICAgICAgICAgICAgICAgcG9wdXBfMzg0ZTAxNWI1NWJmNDgxOTk2MmYxOWI2NWNiMmY3MTYuc2V0Q29udGVudChodG1sXzE1Y2IwMjdlNDRiMjRlZjU4MTQ4Y2NkYjgzYjQ5ZTk1KTsKICAgICAgICAgICAgCgogICAgICAgICAgICBjaXJjbGVfNDUwNjNlNmU2MGI5NGE3OGFmMmQzNTZiODdiZTRmODMuYmluZFBvcHVwKHBvcHVwXzM4NGUwMTViNTViZjQ4MTk5NjJmMTliNjVjYjJmNzE2KQogICAgICAgICAgICA7CgogICAgICAgICAgICAKICAgICAgICAKICAgIAoKICAgICAgICAgICAgdmFyIGNpcmNsZV9jODM1MzFiZDUzZGE0NTJhODZkNmZiZjk2N2I5NDdiMSA9IEwuY2lyY2xlKAogICAgICAgICAgICAgICAgWzMzLjc1OTU4OTA4NDU1NjI4LCAtODQuMzg4MzY2MDExNTIzODRdLAogICAgICAgICAgICAgICAgewogICJidWJibGluZ01vdXNlRXZlbnRzIjogdHJ1ZSwKICAiY29sb3IiOiAiIzMzODhmZiIsCiAgImRhc2hBcnJheSI6IG51bGwsCiAgImRhc2hPZmZzZXQiOiBudWxsLAogICJmaWxsIjogdHJ1ZSwKICAiZmlsbENvbG9yIjogIiMzMzg4ZmYiLAogICJmaWxsT3BhY2l0eSI6IDAuMiwKICAiZmlsbFJ1bGUiOiAiZXZlbm9kZCIsCiAgImxpbmVDYXAiOiAicm91bmQiLAogICJsaW5lSm9pbiI6ICJyb3VuZCIsCiAgIm9wYWNpdHkiOiAxLjAsCiAgInJhZGl1cyI6IDEwLAogICJzdHJva2UiOiB0cnVlLAogICJ3ZWlnaHQiOiAzCn0KICAgICAgICAgICAgICAgICkKICAgICAgICAgICAgICAgIC5hZGRUbyhtYXBfMjc0NTMyZTBlODA1NDM3YWFlMjNhYjljOWQ3MmFjZDEpOwogICAgICAgICAgICAKICAgIAogICAgICAgICAgICB2YXIgcG9wdXBfY2JhZjFjNjk2ZmFhNGY0OGI1ZDFiZWRjM2I5ZGQwZjEgPSBMLnBvcHVwKHttYXhXaWR0aDogJzEwMCUnCiAgICAgICAgICAgIAogICAgICAgICAgICB9KTsKCiAgICAgICAgICAgIAogICAgICAgICAgICAgICAgdmFyIGh0bWxfY2Q3ZmEwZDk4NGQyNDIyYWI1NWNhYzEzYjI1MjI3NjkgPSAkKGA8ZGl2IGlkPSJodG1sX2NkN2ZhMGQ5ODRkMjQyMmFiNTVjYWMxM2IyNTIyNzY5IiBzdHlsZT0id2lkdGg6IDEwMC4wJTsgaGVpZ2h0OiAxMDAuMCU7Ij5UaGUgV2VzdGluIExvYmJ5IEJhcjwvZGl2PmApWzBdOwogICAgICAgICAgICAgICAgcG9wdXBfY2JhZjFjNjk2ZmFhNGY0OGI1ZDFiZWRjM2I5ZGQwZjEuc2V0Q29udGVudChodG1sX2NkN2ZhMGQ5ODRkMjQyMmFiNTVjYWMxM2IyNTIyNzY5KTsKICAgICAgICAgICAgCgogICAgICAgICAgICBjaXJjbGVfYzgzNTMxYmQ1M2RhNDUyYTg2ZDZmYmY5NjdiOTQ3YjEuYmluZFBvcHVwKHBvcHVwX2NiYWYxYzY5NmZhYTRmNDhiNWQxYmVkYzNiOWRkMGYxKQogICAgICAgICAgICA7CgogICAgICAgICAgICAKICAgICAgICAKICAgIAoKICAgICAgICAgICAgdmFyIGNpcmNsZV8xZWYyYTA3NGY0ZGE0NDczOWJmMWJlNDQ0MWExNGQxZiA9IEwuY2lyY2xlKAogICAgICAgICAgICAgICAgWzMzLjc1OTQxMTEsIC04NC4zODc5MTddLAogICAgICAgICAgICAgICAgewogICJidWJibGluZ01vdXNlRXZlbnRzIjogdHJ1ZSwKICAiY29sb3IiOiAiIzMzODhmZiIsCiAgImRhc2hBcnJheSI6IG51bGwsCiAgImRhc2hPZmZzZXQiOiBudWxsLAogICJmaWxsIjogdHJ1ZSwKICAiZmlsbENvbG9yIjogIiMzMzg4ZmYiLAogICJmaWxsT3BhY2l0eSI6IDAuMiwKICAiZmlsbFJ1bGUiOiAiZXZlbm9kZCIsCiAgImxpbmVDYXAiOiAicm91bmQiLAogICJsaW5lSm9pbiI6ICJyb3VuZCIsCiAgIm9wYWNpdHkiOiAxLjAsCiAgInJhZGl1cyI6IDEwLAogICJzdHJva2UiOiB0cnVlLAogICJ3ZWlnaHQiOiAzCn0KICAgICAgICAgICAgICAgICkKICAgICAgICAgICAgICAgIC5hZGRUbyhtYXBfMjc0NTMyZTBlODA1NDM3YWFlMjNhYjljOWQ3MmFjZDEpOwogICAgICAgICAgICAKICAgIAogICAgICAgICAgICB2YXIgcG9wdXBfNzJkZDAzMTkwMDY3NDNiOGI0NjQ5YTg5MDAzMjgyZGEgPSBMLnBvcHVwKHttYXhXaWR0aDogJzEwMCUnCiAgICAgICAgICAgIAogICAgICAgICAgICB9KTsKCiAgICAgICAgICAgIAogICAgICAgICAgICAgICAgdmFyIGh0bWxfZTczNjZkMmRiMDVjNGUyZGFkMjViODM5MGI0ZmZmYWIgPSAkKGA8ZGl2IGlkPSJodG1sX2U3MzY2ZDJkYjA1YzRlMmRhZDI1YjgzOTBiNGZmZmFiIiBzdHlsZT0id2lkdGg6IDEwMC4wJTsgaGVpZ2h0OiAxMDAuMCU7Ij5UaGUgV2VzdGluIFBlYWNodHJlZSBQbGF6YTwvZGl2PmApWzBdOwogICAgICAgICAgICAgICAgcG9wdXBfNzJkZDAzMTkwMDY3NDNiOGI0NjQ5YTg5MDAzMjgyZGEuc2V0Q29udGVudChodG1sX2U3MzY2ZDJkYjA1YzRlMmRhZDI1YjgzOTBiNGZmZmFiKTsKICAgICAgICAgICAgCgogICAgICAgICAgICBjaXJjbGVfMWVmMmEwNzRmNGRhNDQ3MzliZjFiZTQ0NDFhMTRkMWYuYmluZFBvcHVwKHBvcHVwXzcyZGQwMzE5MDA2NzQzYjhiNDY0OWE4OTAwMzI4MmRhKQogICAgICAgICAgICA7CgogICAgICAgICAgICAKICAgICAgICAKICAgIAoKICAgICAgICAgICAgdmFyIGNpcmNsZV9kYjA4YTBkNDE4NGI0MmVjOGQwNzliMzY3NzA2ZTllMiA9IEwuY2lyY2xlKAogICAgICAgICAgICAgICAgWzMzLjc1MTQ3ODc5Mjc3NDk3NSwgLTg0LjM4ODIyNDM3NDE3MjY1XSwKICAgICAgICAgICAgICAgIHsKICAiYnViYmxpbmdNb3VzZUV2ZW50cyI6IHRydWUsCiAgImNvbG9yIjogIiMzMzg4ZmYiLAogICJkYXNoQXJyYXkiOiBudWxsLAogICJkYXNoT2Zmc2V0IjogbnVsbCwKICAiZmlsbCI6IHRydWUsCiAgImZpbGxDb2xvciI6ICIjMzM4OGZmIiwKICAiZmlsbE9wYWNpdHkiOiAwLjIsCiAgImZpbGxSdWxlIjogImV2ZW5vZGQiLAogICJsaW5lQ2FwIjogInJvdW5kIiwKICAibGluZUpvaW4iOiAicm91bmQiLAogICJvcGFjaXR5IjogMS4wLAogICJyYWRpdXMiOiAxMCwKICAic3Ryb2tlIjogdHJ1ZSwKICAid2VpZ2h0IjogMwp9CiAgICAgICAgICAgICAgICApCiAgICAgICAgICAgICAgICAuYWRkVG8obWFwXzI3NDUzMmUwZTgwNTQzN2FhZTIzYWI5YzlkNzJhY2QxKTsKICAgICAgICAgICAgCiAgICAKICAgICAgICAgICAgdmFyIHBvcHVwX2YzOGNmMDFjNzAzMTQxYTZhMTQxMjI2YTIzMjcyMTI4ID0gTC5wb3B1cCh7bWF4V2lkdGg6ICcxMDAlJwogICAgICAgICAgICAKICAgICAgICAgICAgfSk7CgogICAgICAgICAgICAKICAgICAgICAgICAgICAgIHZhciBodG1sX2RiNDM3OTVmNDY4YzQwNDc5YjJlNWMzNmEwZDgwMTI2ID0gJChgPGRpdiBpZD0iaHRtbF9kYjQzNzk1ZjQ2OGM0MDQ3OWIyZTVjMzZhMGQ4MDEyNiIgc3R5bGU9IndpZHRoOiAxMDAuMCU7IGhlaWdodDogMTAwLjAlOyI+R2VvcmdpYSBSYWlscm9hZCBGcmVpZ2h0IERlcG90PC9kaXY+YClbMF07CiAgICAgICAgICAgICAgICBwb3B1cF9mMzhjZjAxYzcwMzE0MWE2YTE0MTIyNmEyMzI3MjEyOC5zZXRDb250ZW50KGh0bWxfZGI0Mzc5NWY0NjhjNDA0NzliMmU1YzM2YTBkODAxMjYpOwogICAgICAgICAgICAKCiAgICAgICAgICAgIGNpcmNsZV9kYjA4YTBkNDE4NGI0MmVjOGQwNzliMzY3NzA2ZTllMi5iaW5kUG9wdXAocG9wdXBfZjM4Y2YwMWM3MDMxNDFhNmExNDEyMjZhMjMyNzIxMjgpCiAgICAgICAgICAgIDsKCiAgICAgICAgICAgIAogICAgICAgIAogICAgCgogICAgICAgICAgICB2YXIgY2lyY2xlX2EyOWY0ZDM3MGM0MjQyMGRhNjRiZDNhODVhZDJhNzg5ID0gTC5jaXJjbGUoCiAgICAgICAgICAgICAgICBbMzMuNzU5MTE1ODUwMDU3NjMsIC04NC4zODc2NDE1MjUyODU5M10sCiAgICAgICAgICAgICAgICB7CiAgImJ1YmJsaW5nTW91c2VFdmVudHMiOiB0cnVlLAogICJjb2xvciI6ICIjMzM4OGZmIiwKICAiZGFzaEFycmF5IjogbnVsbCwKICAiZGFzaE9mZnNldCI6IG51bGwsCiAgImZpbGwiOiB0cnVlLAogICJmaWxsQ29sb3IiOiAiIzMzODhmZiIsCiAgImZpbGxPcGFjaXR5IjogMC4yLAogICJmaWxsUnVsZSI6ICJldmVub2RkIiwKICAibGluZUNhcCI6ICJyb3VuZCIsCiAgImxpbmVKb2luIjogInJvdW5kIiwKICAib3BhY2l0eSI6IDEuMCwKICAicmFkaXVzIjogMTAsCiAgInN0cm9rZSI6IHRydWUsCiAgIndlaWdodCI6IDMKfQogICAgICAgICAgICAgICAgKQogICAgICAgICAgICAgICAgLmFkZFRvKG1hcF8yNzQ1MzJlMGU4MDU0MzdhYWUyM2FiOWM5ZDcyYWNkMSk7CiAgICAgICAgICAgIAogICAgCiAgICAgICAgICAgIHZhciBwb3B1cF8yYjY3NTZjOWYyNTM0MWUzOTNhZGIzYjNiZWZhZjUxZiA9IEwucG9wdXAoe21heFdpZHRoOiAnMTAwJScKICAgICAgICAgICAgCiAgICAgICAgICAgIH0pOwoKICAgICAgICAgICAgCiAgICAgICAgICAgICAgICB2YXIgaHRtbF9kZmFmNWJmYjRkYzM0YjM4ODJjN2ZmM2M4NGY4Y2JiZCA9ICQoYDxkaXYgaWQ9Imh0bWxfZGZhZjViZmI0ZGMzNGIzODgyYzdmZjNjODRmOGNiYmQiIHN0eWxlPSJ3aWR0aDogMTAwLjAlOyBoZWlnaHQ6IDEwMC4wJTsiPk1lZWhhbidzIFB1YmxpYyBIb3VzZTwvZGl2PmApWzBdOwogICAgICAgICAgICAgICAgcG9wdXBfMmI2NzU2YzlmMjUzNDFlMzkzYWRiM2IzYmVmYWY1MWYuc2V0Q29udGVudChodG1sX2RmYWY1YmZiNGRjMzRiMzg4MmM3ZmYzYzg0ZjhjYmJkKTsKICAgICAgICAgICAgCgogICAgICAgICAgICBjaXJjbGVfYTI5ZjRkMzcwYzQyNDIwZGE2NGJkM2E4NWFkMmE3ODkuYmluZFBvcHVwKHBvcHVwXzJiNjc1NmM5ZjI1MzQxZTM5M2FkYjNiM2JlZmFmNTFmKQogICAgICAgICAgICA7CgogICAgICAgICAgICAKICAgICAgICAKICAgIAoKICAgICAgICAgICAgdmFyIGNpcmNsZV8zMjBmMTcwZjE2NzI0MDIyYjg2MDhmYjdiODRiMmUzZSA9IEwuY2lyY2xlKAogICAgICAgICAgICAgICAgWzMzLjc1OTU2NTEyNzY3Mjk2LCAtODQuMzg2MDg3Njc2MDM0MDVdLAogICAgICAgICAgICAgICAgewogICJidWJibGluZ01vdXNlRXZlbnRzIjogdHJ1ZSwKICAiY29sb3IiOiAiIzMzODhmZiIsCiAgImRhc2hBcnJheSI6IG51bGwsCiAgImRhc2hPZmZzZXQiOiBudWxsLAogICJmaWxsIjogdHJ1ZSwKICAiZmlsbENvbG9yIjogIiMzMzg4ZmYiLAogICJmaWxsT3BhY2l0eSI6IDAuMiwKICAiZmlsbFJ1bGUiOiAiZXZlbm9kZCIsCiAgImxpbmVDYXAiOiAicm91bmQiLAogICJsaW5lSm9pbiI6ICJyb3VuZCIsCiAgIm9wYWNpdHkiOiAxLjAsCiAgInJhZGl1cyI6IDEwLAogICJzdHJva2UiOiB0cnVlLAogICJ3ZWlnaHQiOiAzCn0KICAgICAgICAgICAgICAgICkKICAgICAgICAgICAgICAgIC5hZGRUbyhtYXBfMjc0NTMyZTBlODA1NDM3YWFlMjNhYjljOWQ3MmFjZDEpOwogICAgICAgICAgICAKICAgIAogICAgICAgICAgICB2YXIgcG9wdXBfM2U4ZmY4OWY5YzM3NDFhYTlmN2I1NWU3NzVkN2I3YzUgPSBMLnBvcHVwKHttYXhXaWR0aDogJzEwMCUnCiAgICAgICAgICAgIAogICAgICAgICAgICB9KTsKCiAgICAgICAgICAgIAogICAgICAgICAgICAgICAgdmFyIGh0bWxfMGZjMjE4OWFlODRhNDgzZmJhYjE0NTFjZjZjYjAwNDMgPSAkKGA8ZGl2IGlkPSJodG1sXzBmYzIxODlhZTg0YTQ4M2ZiYWIxNDUxY2Y2Y2IwMDQzIiBzdHlsZT0id2lkdGg6IDEwMC4wJTsgaGVpZ2h0OiAxMDAuMCU7Ij5Ic3UncyBHb3VybWV0PC9kaXY+YClbMF07CiAgICAgICAgICAgICAgICBwb3B1cF8zZThmZjg5ZjljMzc0MWFhOWY3YjU1ZTc3NWQ3YjdjNS5zZXRDb250ZW50KGh0bWxfMGZjMjE4OWFlODRhNDgzZmJhYjE0NTFjZjZjYjAwNDMpOwogICAgICAgICAgICAKCiAgICAgICAgICAgIGNpcmNsZV8zMjBmMTcwZjE2NzI0MDIyYjg2MDhmYjdiODRiMmUzZS5iaW5kUG9wdXAocG9wdXBfM2U4ZmY4OWY5YzM3NDFhYTlmN2I1NWU3NzVkN2I3YzUpCiAgICAgICAgICAgIDsKCiAgICAgICAgICAgIAogICAgICAgIAogICAgCgogICAgICAgICAgICB2YXIgY2lyY2xlXzI5OGZmNmYzMjdiNjQyMzViMzgwOTQ4ODcwOWQ5ZmZjID0gTC5jaXJjbGUoCiAgICAgICAgICAgICAgICBbMzMuNzUyNzY4NiwgLTg0LjM4NTYyNzFdLAogICAgICAgICAgICAgICAgewogICJidWJibGluZ01vdXNlRXZlbnRzIjogdHJ1ZSwKICAiY29sb3IiOiAiIzMzODhmZiIsCiAgImRhc2hBcnJheSI6IG51bGwsCiAgImRhc2hPZmZzZXQiOiBudWxsLAogICJmaWxsIjogdHJ1ZSwKICAiZmlsbENvbG9yIjogIiMzMzg4ZmYiLAogICJmaWxsT3BhY2l0eSI6IDAuMiwKICAiZmlsbFJ1bGUiOiAiZXZlbm9kZCIsCiAgImxpbmVDYXAiOiAicm91bmQiLAogICJsaW5lSm9pbiI6ICJyb3VuZCIsCiAgIm9wYWNpdHkiOiAxLjAsCiAgInJhZGl1cyI6IDEwLAogICJzdHJva2UiOiB0cnVlLAogICJ3ZWlnaHQiOiAzCn0KICAgICAgICAgICAgICAgICkKICAgICAgICAgICAgICAgIC5hZGRUbyhtYXBfMjc0NTMyZTBlODA1NDM3YWFlMjNhYjljOWQ3MmFjZDEpOwogICAgICAgICAgICAKICAgIAogICAgICAgICAgICB2YXIgcG9wdXBfYTcwNzgxNzJiZDIyNDgyM2JlMjhkMzU0NTg1NzFjYzkgPSBMLnBvcHVwKHttYXhXaWR0aDogJzEwMCUnCiAgICAgICAgICAgIAogICAgICAgICAgICB9KTsKCiAgICAgICAgICAgIAogICAgICAgICAgICAgICAgdmFyIGh0bWxfZGJhM2JiZGY3ODM5NDMxZWJmOGRkZWVmZDE2MjY3YmUgPSAkKGA8ZGl2IGlkPSJodG1sX2RiYTNiYmRmNzgzOTQzMWViZjhkZGVlZmQxNjI2N2JlIiBzdHlsZT0id2lkdGg6IDEwMC4wJTsgaGVpZ2h0OiAxMDAuMCU7Ij5DaGljay1maWwtQTwvZGl2PmApWzBdOwogICAgICAgICAgICAgICAgcG9wdXBfYTcwNzgxNzJiZDIyNDgyM2JlMjhkMzU0NTg1NzFjYzkuc2V0Q29udGVudChodG1sX2RiYTNiYmRmNzgzOTQzMWViZjhkZGVlZmQxNjI2N2JlKTsKICAgICAgICAgICAgCgogICAgICAgICAgICBjaXJjbGVfMjk4ZmY2ZjMyN2I2NDIzNWIzODA5NDg4NzA5ZDlmZmMuYmluZFBvcHVwKHBvcHVwX2E3MDc4MTcyYmQyMjQ4MjNiZTI4ZDM1NDU4NTcxY2M5KQogICAgICAgICAgICA7CgogICAgICAgICAgICAKICAgICAgICAKICAgIAoKICAgICAgICAgICAgdmFyIGNpcmNsZV8yN2JjN2EzMmUyNTM0OWUzODU5OWJlYjlhYWMwNWQ3ZSA9IEwuY2lyY2xlKAogICAgICAgICAgICAgICAgWzMzLjc1OTgxNjMsIC04NC4zODc0NDk5XSwKICAgICAgICAgICAgICAgIHsKICAiYnViYmxpbmdNb3VzZUV2ZW50cyI6IHRydWUsCiAgImNvbG9yIjogIiMzMzg4ZmYiLAogICJkYXNoQXJyYXkiOiBudWxsLAogICJkYXNoT2Zmc2V0IjogbnVsbCwKICAiZmlsbCI6IHRydWUsCiAgImZpbGxDb2xvciI6ICIjMzM4OGZmIiwKICAiZmlsbE9wYWNpdHkiOiAwLjIsCiAgImZpbGxSdWxlIjogImV2ZW5vZGQiLAogICJsaW5lQ2FwIjogInJvdW5kIiwKICAibGluZUpvaW4iOiAicm91bmQiLAogICJvcGFjaXR5IjogMS4wLAogICJyYWRpdXMiOiAxMCwKICAic3Ryb2tlIjogdHJ1ZSwKICAid2VpZ2h0IjogMwp9CiAgICAgICAgICAgICAgICApCiAgICAgICAgICAgICAgICAuYWRkVG8obWFwXzI3NDUzMmUwZTgwNTQzN2FhZTIzYWI5YzlkNzJhY2QxKTsKICAgICAgICAgICAgCiAgICAKICAgICAgICAgICAgdmFyIHBvcHVwX2M5OTkzN2FhNmRiZDQ1NjNiMmMwZGI1Yzk5MTdkNzQwID0gTC5wb3B1cCh7bWF4V2lkdGg6ICcxMDAlJwogICAgICAgICAgICAKICAgICAgICAgICAgfSk7CgogICAgICAgICAgICAKICAgICAgICAgICAgICAgIHZhciBodG1sXzRhMGRjMDNmYjNkZTQ0YTlhZDgxMTJlNGEzN2U0ZjQzID0gJChgPGRpdiBpZD0iaHRtbF80YTBkYzAzZmIzZGU0NGE5YWQ4MTEyZTRhMzdlNGY0MyIgc3R5bGU9IndpZHRoOiAxMDAuMCU7IGhlaWdodDogMTAwLjAlOyI+SGFyZCBSb2NrIENhZmUgQXRsYW50YTwvZGl2PmApWzBdOwogICAgICAgICAgICAgICAgcG9wdXBfYzk5OTM3YWE2ZGJkNDU2M2IyYzBkYjVjOTkxN2Q3NDAuc2V0Q29udGVudChodG1sXzRhMGRjMDNmYjNkZTQ0YTlhZDgxMTJlNGEzN2U0ZjQzKTsKICAgICAgICAgICAgCgogICAgICAgICAgICBjaXJjbGVfMjdiYzdhMzJlMjUzNDllMzg1OTliZWI5YWFjMDVkN2UuYmluZFBvcHVwKHBvcHVwX2M5OTkzN2FhNmRiZDQ1NjNiMmMwZGI1Yzk5MTdkNzQwKQogICAgICAgICAgICA7CgogICAgICAgICAgICAKICAgICAgICAKICAgIAoKICAgICAgICAgICAgdmFyIGNpcmNsZV84MmYyMjcyZmI5YTU0YTkyOTg3YmRkYzMzN2RlZmVjMiA9IEwuY2lyY2xlKAogICAgICAgICAgICAgICAgWzMzLjc1ODU5NDYwMDIwMTIxNCwgLTg0LjM4NzU1ODc3MTE4ODg5XSwKICAgICAgICAgICAgICAgIHsKICAiYnViYmxpbmdNb3VzZUV2ZW50cyI6IHRydWUsCiAgImNvbG9yIjogIiMzMzg4ZmYiLAogICJkYXNoQXJyYXkiOiBudWxsLAogICJkYXNoT2Zmc2V0IjogbnVsbCwKICAiZmlsbCI6IHRydWUsCiAgImZpbGxDb2xvciI6ICIjMzM4OGZmIiwKICAiZmlsbE9wYWNpdHkiOiAwLjIsCiAgImZpbGxSdWxlIjogImV2ZW5vZGQiLAogICJsaW5lQ2FwIjogInJvdW5kIiwKICAibGluZUpvaW4iOiAicm91bmQiLAogICJvcGFjaXR5IjogMS4wLAogICJyYWRpdXMiOiAxMCwKICAic3Ryb2tlIjogdHJ1ZSwKICAid2VpZ2h0IjogMwp9CiAgICAgICAgICAgICAgICApCiAgICAgICAgICAgICAgICAuYWRkVG8obWFwXzI3NDUzMmUwZTgwNTQzN2FhZTIzYWI5YzlkNzJhY2QxKTsKICAgICAgICAgICAgCiAgICAKICAgICAgICAgICAgdmFyIHBvcHVwXzMwMzZkMmQxMzdmYTQ3ODRiZWJhZjU3YjgwYzA1ODMzID0gTC5wb3B1cCh7bWF4V2lkdGg6ICcxMDAlJwogICAgICAgICAgICAKICAgICAgICAgICAgfSk7CgogICAgICAgICAgICAKICAgICAgICAgICAgICAgIHZhciBodG1sXzQ0Y2UwMzA4ODMwNjRiYWI5MDkyNjAyYWI0ZDNkMjgwID0gJChgPGRpdiBpZD0iaHRtbF80NGNlMDMwODgzMDY0YmFiOTA5MjYwMmFiNGQzZDI4MCIgc3R5bGU9IndpZHRoOiAxMDAuMCU7IGhlaWdodDogMTAwLjAlOyI+THVtZW48L2Rpdj5gKVswXTsKICAgICAgICAgICAgICAgIHBvcHVwXzMwMzZkMmQxMzdmYTQ3ODRiZWJhZjU3YjgwYzA1ODMzLnNldENvbnRlbnQoaHRtbF80NGNlMDMwODgzMDY0YmFiOTA5MjYwMmFiNGQzZDI4MCk7CiAgICAgICAgICAgIAoKICAgICAgICAgICAgY2lyY2xlXzgyZjIyNzJmYjlhNTRhOTI5ODdiZGRjMzM3ZGVmZWMyLmJpbmRQb3B1cChwb3B1cF8zMDM2ZDJkMTM3ZmE0Nzg0YmViYWY1N2I4MGMwNTgzMykKICAgICAgICAgICAgOwoKICAgICAgICAgICAgCiAgICAgICAgCiAgICAKCiAgICAgICAgICAgIHZhciBjaXJjbGVfZTFmZDAxNTcxODIwNDA1ZDg0MDBhYWQ1MjIyZDliMWUgPSBMLmNpcmNsZSgKICAgICAgICAgICAgICAgIFszMy43NTg4NCwgLTg0LjM4NjA2OF0sCiAgICAgICAgICAgICAgICB7CiAgImJ1YmJsaW5nTW91c2VFdmVudHMiOiB0cnVlLAogICJjb2xvciI6ICIjMzM4OGZmIiwKICAiZGFzaEFycmF5IjogbnVsbCwKICAiZGFzaE9mZnNldCI6IG51bGwsCiAgImZpbGwiOiB0cnVlLAogICJmaWxsQ29sb3IiOiAiIzMzODhmZiIsCiAgImZpbGxPcGFjaXR5IjogMC4yLAogICJmaWxsUnVsZSI6ICJldmVub2RkIiwKICAibGluZUNhcCI6ICJyb3VuZCIsCiAgImxpbmVKb2luIjogInJvdW5kIiwKICAib3BhY2l0eSI6IDEuMCwKICAicmFkaXVzIjogMTAsCiAgInN0cm9rZSI6IHRydWUsCiAgIndlaWdodCI6IDMKfQogICAgICAgICAgICAgICAgKQogICAgICAgICAgICAgICAgLmFkZFRvKG1hcF8yNzQ1MzJlMGU4MDU0MzdhYWUyM2FiOWM5ZDcyYWNkMSk7CiAgICAgICAgICAgIAogICAgCiAgICAgICAgICAgIHZhciBwb3B1cF82MDJjMDUwYzkzYWI0NjNiYmI5YzFmZjIyNmFmYWYxOCA9IEwucG9wdXAoe21heFdpZHRoOiAnMTAwJScKICAgICAgICAgICAgCiAgICAgICAgICAgIH0pOwoKICAgICAgICAgICAgCiAgICAgICAgICAgICAgICB2YXIgaHRtbF9jMTgwOWQ1ZTQ2MjY0MzAzODMwNjJkZTQyZDdiMjdiMyA9ICQoYDxkaXYgaWQ9Imh0bWxfYzE4MDlkNWU0NjI2NDMwMzgzMDYyZGU0MmQ3YjI3YjMiIHN0eWxlPSJ3aWR0aDogMTAwLjAlOyBoZWlnaHQ6IDEwMC4wJTsiPkFnYXRoYSdzOiBBIFRhc3RlIE9mIE15c3Rlcnk8L2Rpdj5gKVswXTsKICAgICAgICAgICAgICAgIHBvcHVwXzYwMmMwNTBjOTNhYjQ2M2JiYjljMWZmMjI2YWZhZjE4LnNldENvbnRlbnQoaHRtbF9jMTgwOWQ1ZTQ2MjY0MzAzODMwNjJkZTQyZDdiMjdiMyk7CiAgICAgICAgICAgIAoKICAgICAgICAgICAgY2lyY2xlX2UxZmQwMTU3MTgyMDQwNWQ4NDAwYWFkNTIyMmQ5YjFlLmJpbmRQb3B1cChwb3B1cF82MDJjMDUwYzkzYWI0NjNiYmI5YzFmZjIyNmFmYWYxOCkKICAgICAgICAgICAgOwoKICAgICAgICAgICAgCiAgICAgICAgCiAgICAKCiAgICAgICAgICAgIHZhciBjaXJjbGVfZTlhN2JjMDFhM2RiNDIzMTkxOTE2NDU0ZmJlMTIxZjAgPSBMLmNpcmNsZSgKICAgICAgICAgICAgICAgIFszMy43NTkwNTgxMDE1NTAxNCwgLTg0LjM4NzUzNjY3ODUzMTE4XSwKICAgICAgICAgICAgICAgIHsKICAiYnViYmxpbmdNb3VzZUV2ZW50cyI6IHRydWUsCiAgImNvbG9yIjogIiMzMzg4ZmYiLAogICJkYXNoQXJyYXkiOiBudWxsLAogICJkYXNoT2Zmc2V0IjogbnVsbCwKICAiZmlsbCI6IHRydWUsCiAgImZpbGxDb2xvciI6ICIjMzM4OGZmIiwKICAiZmlsbE9wYWNpdHkiOiAwLjIsCiAgImZpbGxSdWxlIjogImV2ZW5vZGQiLAogICJsaW5lQ2FwIjogInJvdW5kIiwKICAibGluZUpvaW4iOiAicm91bmQiLAogICJvcGFjaXR5IjogMS4wLAogICJyYWRpdXMiOiAxMCwKICAic3Ryb2tlIjogdHJ1ZSwKICAid2VpZ2h0IjogMwp9CiAgICAgICAgICAgICAgICApCiAgICAgICAgICAgICAgICAuYWRkVG8obWFwXzI3NDUzMmUwZTgwNTQzN2FhZTIzYWI5YzlkNzJhY2QxKTsKICAgICAgICAgICAgCiAgICAKICAgICAgICAgICAgdmFyIHBvcHVwXzAyZTc5N2NlYzk5NzQ1YzlhYWNmMGU1NWY5OTY0NjExID0gTC5wb3B1cCh7bWF4V2lkdGg6ICcxMDAlJwogICAgICAgICAgICAKICAgICAgICAgICAgfSk7CgogICAgICAgICAgICAKICAgICAgICAgICAgICAgIHZhciBodG1sXzJkN2VlMjkwNmRjMDQ4NDZhZDQzYjAxMDdlNmIxYzM3ID0gJChgPGRpdiBpZD0iaHRtbF8yZDdlZTI5MDZkYzA0ODQ2YWQ0M2IwMTA3ZTZiMWMzNyIgc3R5bGU9IndpZHRoOiAxMDAuMCU7IGhlaWdodDogMTAwLjAlOyI+MTkxIFJlc29sdXRpb24gRml0bmVzczwvZGl2PmApWzBdOwogICAgICAgICAgICAgICAgcG9wdXBfMDJlNzk3Y2VjOTk3NDVjOWFhY2YwZTU1Zjk5NjQ2MTEuc2V0Q29udGVudChodG1sXzJkN2VlMjkwNmRjMDQ4NDZhZDQzYjAxMDdlNmIxYzM3KTsKICAgICAgICAgICAgCgogICAgICAgICAgICBjaXJjbGVfZTlhN2JjMDFhM2RiNDIzMTkxOTE2NDU0ZmJlMTIxZjAuYmluZFBvcHVwKHBvcHVwXzAyZTc5N2NlYzk5NzQ1YzlhYWNmMGU1NWY5OTY0NjExKQogICAgICAgICAgICA7CgogICAgICAgICAgICAKICAgICAgICAKICAgIAoKICAgICAgICAgICAgdmFyIGNpcmNsZV8yOGRhOGE0ZGRiNDI0ZWIyOTY0Zjg3ZDRhZmJhOWExZSA9IEwuY2lyY2xlKAogICAgICAgICAgICAgICAgWzMzLjc1NzI1OTUzODc4MjgxLCAtODQuMzg0MzYxMzU3NDg4NDJdLAogICAgICAgICAgICAgICAgewogICJidWJibGluZ01vdXNlRXZlbnRzIjogdHJ1ZSwKICAiY29sb3IiOiAiIzMzODhmZiIsCiAgImRhc2hBcnJheSI6IG51bGwsCiAgImRhc2hPZmZzZXQiOiBudWxsLAogICJmaWxsIjogdHJ1ZSwKICAiZmlsbENvbG9yIjogIiMzMzg4ZmYiLAogICJmaWxsT3BhY2l0eSI6IDAuMiwKICAiZmlsbFJ1bGUiOiAiZXZlbm9kZCIsCiAgImxpbmVDYXAiOiAicm91bmQiLAogICJsaW5lSm9pbiI6ICJyb3VuZCIsCiAgIm9wYWNpdHkiOiAxLjAsCiAgInJhZGl1cyI6IDEwLAogICJzdHJva2UiOiB0cnVlLAogICJ3ZWlnaHQiOiAzCn0KICAgICAgICAgICAgICAgICkKICAgICAgICAgICAgICAgIC5hZGRUbyhtYXBfMjc0NTMyZTBlODA1NDM3YWFlMjNhYjljOWQ3MmFjZDEpOwogICAgICAgICAgICAKICAgIAogICAgICAgICAgICB2YXIgcG9wdXBfNTY4ZWRlYzQ4YjM2NDJjYWE2NjcxNjNiYzI0MGE1NjYgPSBMLnBvcHVwKHttYXhXaWR0aDogJzEwMCUnCiAgICAgICAgICAgIAogICAgICAgICAgICB9KTsKCiAgICAgICAgICAgIAogICAgICAgICAgICAgICAgdmFyIGh0bWxfMTJlMTE1YWZjMDhlNDcwNGI0ZDhiMjU5Y2NhMzk3ZGMgPSAkKGA8ZGl2IGlkPSJodG1sXzEyZTExNWFmYzA4ZTQ3MDRiNGQ4YjI1OWNjYTM5N2RjIiBzdHlsZT0id2lkdGg6IDEwMC4wJTsgaGVpZ2h0OiAxMDAuMCU7Ij5XYWZmbGUgSG91c2U8L2Rpdj5gKVswXTsKICAgICAgICAgICAgICAgIHBvcHVwXzU2OGVkZWM0OGIzNjQyY2FhNjY3MTYzYmMyNDBhNTY2LnNldENvbnRlbnQoaHRtbF8xMmUxMTVhZmMwOGU0NzA0YjRkOGIyNTljY2EzOTdkYyk7CiAgICAgICAgICAgIAoKICAgICAgICAgICAgY2lyY2xlXzI4ZGE4YTRkZGI0MjRlYjI5NjRmODdkNGFmYmE5YTFlLmJpbmRQb3B1cChwb3B1cF81NjhlZGVjNDhiMzY0MmNhYTY2NzE2M2JjMjQwYTU2NikKICAgICAgICAgICAgOwoKICAgICAgICAgICAgCiAgICAgICAgCiAgICAKCiAgICAgICAgICAgIHZhciBjaXJjbGVfYjgxYWExMjVjNGI2NDNhNWExNWZjOWJjNWU2MDRhYzkgPSBMLmNpcmNsZSgKICAgICAgICAgICAgICAgIFszMy43NTk4MjUwMzI4NjczOSwgLTg0LjM4NzYxOTg5MzM1MjU1XSwKICAgICAgICAgICAgICAgIHsKICAiYnViYmxpbmdNb3VzZUV2ZW50cyI6IHRydWUsCiAgImNvbG9yIjogIiMzMzg4ZmYiLAogICJkYXNoQXJyYXkiOiBudWxsLAogICJkYXNoT2Zmc2V0IjogbnVsbCwKICAiZmlsbCI6IHRydWUsCiAgImZpbGxDb2xvciI6ICIjMzM4OGZmIiwKICAiZmlsbE9wYWNpdHkiOiAwLjIsCiAgImZpbGxSdWxlIjogImV2ZW5vZGQiLAogICJsaW5lQ2FwIjogInJvdW5kIiwKICAibGluZUpvaW4iOiAicm91bmQiLAogICJvcGFjaXR5IjogMS4wLAogICJyYWRpdXMiOiAxMCwKICAic3Ryb2tlIjogdHJ1ZSwKICAid2VpZ2h0IjogMwp9CiAgICAgICAgICAgICAgICApCiAgICAgICAgICAgICAgICAuYWRkVG8obWFwXzI3NDUzMmUwZTgwNTQzN2FhZTIzYWI5YzlkNzJhY2QxKTsKICAgICAgICAgICAgCiAgICAKICAgICAgICAgICAgdmFyIHBvcHVwXzVkMTRjODBjNzFiMjRjZThiYzYxYWJiZjVhOGJjMDcwID0gTC5wb3B1cCh7bWF4V2lkdGg6ICcxMDAlJwogICAgICAgICAgICAKICAgICAgICAgICAgfSk7CgogICAgICAgICAgICAKICAgICAgICAgICAgICAgIHZhciBodG1sXzgxMWUxNzc4MDdiNjRiZWJiYzZlM2UzZTE0OTVlNTZiID0gJChgPGRpdiBpZD0iaHRtbF84MTFlMTc3ODA3YjY0YmViYmM2ZTNlM2UxNDk1ZTU2YiIgc3R5bGU9IndpZHRoOiAxMDAuMCU7IGhlaWdodDogMTAwLjAlOyI+R29sZCdzIEd5bTwvZGl2PmApWzBdOwogICAgICAgICAgICAgICAgcG9wdXBfNWQxNGM4MGM3MWIyNGNlOGJjNjFhYmJmNWE4YmMwNzAuc2V0Q29udGVudChodG1sXzgxMWUxNzc4MDdiNjRiZWJiYzZlM2UzZTE0OTVlNTZiKTsKICAgICAgICAgICAgCgogICAgICAgICAgICBjaXJjbGVfYjgxYWExMjVjNGI2NDNhNWExNWZjOWJjNWU2MDRhYzkuYmluZFBvcHVwKHBvcHVwXzVkMTRjODBjNzFiMjRjZThiYzYxYWJiZjVhOGJjMDcwKQogICAgICAgICAgICA7CgogICAgICAgICAgICAKICAgICAgICAKICAgIAoKICAgICAgICAgICAgdmFyIGNpcmNsZV8yNDA2ZjY0NDc2YTE0OTE2ODdiMjcxMmU4MWNjNTAwZCA9IEwuY2lyY2xlKAogICAgICAgICAgICAgICAgWzMzLjc1NDIwNTI5NjE3ODUzLCAtODQuMzg1NTAwNDE5MzU1N10sCiAgICAgICAgICAgICAgICB7CiAgImJ1YmJsaW5nTW91c2VFdmVudHMiOiB0cnVlLAogICJjb2xvciI6ICIjMzM4OGZmIiwKICAiZGFzaEFycmF5IjogbnVsbCwKICAiZGFzaE9mZnNldCI6IG51bGwsCiAgImZpbGwiOiB0cnVlLAogICJmaWxsQ29sb3IiOiAiIzMzODhmZiIsCiAgImZpbGxPcGFjaXR5IjogMC4yLAogICJmaWxsUnVsZSI6ICJldmVub2RkIiwKICAibGluZUNhcCI6ICJyb3VuZCIsCiAgImxpbmVKb2luIjogInJvdW5kIiwKICAib3BhY2l0eSI6IDEuMCwKICAicmFkaXVzIjogMTAsCiAgInN0cm9rZSI6IHRydWUsCiAgIndlaWdodCI6IDMKfQogICAgICAgICAgICAgICAgKQogICAgICAgICAgICAgICAgLmFkZFRvKG1hcF8yNzQ1MzJlMGU4MDU0MzdhYWUyM2FiOWM5ZDcyYWNkMSk7CiAgICAgICAgICAgIAogICAgCiAgICAgICAgICAgIHZhciBwb3B1cF83ZTQ4YzY4ODcyZTY0YTc1YjE4MTMwNjE4Njk1NjkyMiA9IEwucG9wdXAoe21heFdpZHRoOiAnMTAwJScKICAgICAgICAgICAgCiAgICAgICAgICAgIH0pOwoKICAgICAgICAgICAgCiAgICAgICAgICAgICAgICB2YXIgaHRtbF84ZjU5N2ZjYzUzY2U0NDAzYmM5NmEzNmE4OWE5YzMxYyA9ICQoYDxkaXYgaWQ9Imh0bWxfOGY1OTdmY2M1M2NlNDQwM2JjOTZhMzZhODlhOWMzMWMiIHN0eWxlPSJ3aWR0aDogMTAwLjAlOyBoZWlnaHQ6IDEwMC4wJTsiPkh1cnQgUGFyazwvZGl2PmApWzBdOwogICAgICAgICAgICAgICAgcG9wdXBfN2U0OGM2ODg3MmU2NGE3NWIxODEzMDYxODY5NTY5MjIuc2V0Q29udGVudChodG1sXzhmNTk3ZmNjNTNjZTQ0MDNiYzk2YTM2YTg5YTljMzFjKTsKICAgICAgICAgICAgCgogICAgICAgICAgICBjaXJjbGVfMjQwNmY2NDQ3NmExNDkxNjg3YjI3MTJlODFjYzUwMGQuYmluZFBvcHVwKHBvcHVwXzdlNDhjNjg4NzJlNjRhNzViMTgxMzA2MTg2OTU2OTIyKQogICAgICAgICAgICA7CgogICAgICAgICAgICAKICAgICAgICAKPC9zY3JpcHQ+\" style=\"position:absolute;width:100%;height:100%;left:0;top:0;border:none !important;\" allowfullscreen webkitallowfullscreen mozallowfullscreen></iframe></div></div>"
      ],
      "text/plain": [
       "<folium.folium.Map at 0x114728630>"
      ]
     },
     "execution_count": 19,
     "metadata": {},
     "output_type": "execute_result"
    }
   ],
   "source": [
    "venues_map = folium.Map(location=[lat, long], zoom_start=15)\n",
    "\n",
    "for index, row in data.iterrows():\n",
    "    lat = row['latitude']\n",
    "    long = row['longitude']\n",
    "    label = row['name']\n",
    "    category = row['categories']\n",
    "    \n",
    "    folium.Circle(\n",
    "        [lat, long],\n",
    "        popup=label,\n",
    "        radius=10,\n",
    "        fill=True\n",
    "        ).add_to(venues_map)\n",
    "\n",
    "# display map\n",
    "venues_map"
   ]
  },
  {
   "cell_type": "markdown",
   "metadata": {},
   "source": [
    "## Perform clustering analysis on restaurant data"
   ]
  },
  {
   "cell_type": "markdown",
   "metadata": {},
   "source": [
    "### Convert neighborhood strings into dummy variables\n",
    "We will use the label encoder function from SKlearn to create an integer representing each given neighborhood."
   ]
  },
  {
   "cell_type": "code",
   "execution_count": 29,
   "metadata": {},
   "outputs": [
    {
     "data": {
      "text/html": [
       "<div>\n",
       "<style scoped>\n",
       "    .dataframe tbody tr th:only-of-type {\n",
       "        vertical-align: middle;\n",
       "    }\n",
       "\n",
       "    .dataframe tbody tr th {\n",
       "        vertical-align: top;\n",
       "    }\n",
       "\n",
       "    .dataframe thead th {\n",
       "        text-align: right;\n",
       "    }\n",
       "</style>\n",
       "<table border=\"1\" class=\"dataframe\">\n",
       "  <thead>\n",
       "    <tr style=\"text-align: right;\">\n",
       "      <th></th>\n",
       "      <th>name</th>\n",
       "      <th>categories</th>\n",
       "      <th>latitude</th>\n",
       "      <th>longitude</th>\n",
       "      <th>neighborhood</th>\n",
       "    </tr>\n",
       "  </thead>\n",
       "  <tbody>\n",
       "    <tr>\n",
       "      <th>0</th>\n",
       "      <td>Fish Bowl Poké</td>\n",
       "      <td>Poke Place</td>\n",
       "      <td>33.755727</td>\n",
       "      <td>-84.389400</td>\n",
       "      <td>2</td>\n",
       "    </tr>\n",
       "    <tr>\n",
       "      <th>1</th>\n",
       "      <td>Blossom Tree</td>\n",
       "      <td>Korean Restaurant</td>\n",
       "      <td>33.755496</td>\n",
       "      <td>-84.389006</td>\n",
       "      <td>3</td>\n",
       "    </tr>\n",
       "    <tr>\n",
       "      <th>2</th>\n",
       "      <td>Dua Vietnamese Noodle Soup</td>\n",
       "      <td>Vietnamese Restaurant</td>\n",
       "      <td>33.755610</td>\n",
       "      <td>-84.389530</td>\n",
       "      <td>3</td>\n",
       "    </tr>\n",
       "    <tr>\n",
       "      <th>3</th>\n",
       "      <td>Reuben's Deli</td>\n",
       "      <td>Deli / Bodega</td>\n",
       "      <td>33.755687</td>\n",
       "      <td>-84.389442</td>\n",
       "      <td>3</td>\n",
       "    </tr>\n",
       "    <tr>\n",
       "      <th>4</th>\n",
       "      <td>Anatolia Cafe &amp; Hookah Lounge</td>\n",
       "      <td>Hookah Bar</td>\n",
       "      <td>33.755120</td>\n",
       "      <td>-84.389413</td>\n",
       "      <td>3</td>\n",
       "    </tr>\n",
       "  </tbody>\n",
       "</table>\n",
       "</div>"
      ],
      "text/plain": [
       "                            name             categories   latitude  longitude  \\\n",
       "0                 Fish Bowl Poké             Poke Place  33.755727 -84.389400   \n",
       "1                   Blossom Tree      Korean Restaurant  33.755496 -84.389006   \n",
       "2     Dua Vietnamese Noodle Soup  Vietnamese Restaurant  33.755610 -84.389530   \n",
       "3                  Reuben's Deli          Deli / Bodega  33.755687 -84.389442   \n",
       "4  Anatolia Cafe & Hookah Lounge             Hookah Bar  33.755120 -84.389413   \n",
       "\n",
       "   neighborhood  \n",
       "0             2  \n",
       "1             3  \n",
       "2             3  \n",
       "3             3  \n",
       "4             3  "
      ]
     },
     "execution_count": 29,
     "metadata": {},
     "output_type": "execute_result"
    }
   ],
   "source": [
    "from sklearn import preprocessing\n",
    "le = preprocessing.LabelEncoder()\n",
    "y = data['neighborhood'].to_list()\n",
    "neighborhood_labels = le.fit_transform(y)\n",
    "data['neighborhood'] = neighborhood_labels\n",
    "data.head()"
   ]
  },
  {
   "cell_type": "markdown",
   "metadata": {},
   "source": [
    "### Cross Validation Tuning"
   ]
  },
  {
   "cell_type": "code",
   "execution_count": 49,
   "metadata": {},
   "outputs": [
    {
     "name": "stderr",
     "output_type": "stream",
     "text": [
      "/Library/Frameworks/Python.framework/Versions/3.7/lib/python3.7/site-packages/sklearn/model_selection/_split.py:657: Warning: The least populated class in y has only 1 members, which is too few. The minimum number of members in any class cannot be less than n_splits=10.\n",
      "  % (min_groups, self.n_splits)), Warning)\n",
      "/Library/Frameworks/Python.framework/Versions/3.7/lib/python3.7/site-packages/sklearn/model_selection/_split.py:657: Warning: The least populated class in y has only 1 members, which is too few. The minimum number of members in any class cannot be less than n_splits=10.\n",
      "  % (min_groups, self.n_splits)), Warning)\n",
      "/Library/Frameworks/Python.framework/Versions/3.7/lib/python3.7/site-packages/sklearn/model_selection/_split.py:657: Warning: The least populated class in y has only 1 members, which is too few. The minimum number of members in any class cannot be less than n_splits=10.\n",
      "  % (min_groups, self.n_splits)), Warning)\n",
      "/Library/Frameworks/Python.framework/Versions/3.7/lib/python3.7/site-packages/sklearn/model_selection/_split.py:657: Warning: The least populated class in y has only 1 members, which is too few. The minimum number of members in any class cannot be less than n_splits=10.\n",
      "  % (min_groups, self.n_splits)), Warning)\n",
      "/Library/Frameworks/Python.framework/Versions/3.7/lib/python3.7/site-packages/sklearn/model_selection/_split.py:657: Warning: The least populated class in y has only 1 members, which is too few. The minimum number of members in any class cannot be less than n_splits=10.\n",
      "  % (min_groups, self.n_splits)), Warning)\n",
      "/Library/Frameworks/Python.framework/Versions/3.7/lib/python3.7/site-packages/sklearn/model_selection/_split.py:657: Warning: The least populated class in y has only 1 members, which is too few. The minimum number of members in any class cannot be less than n_splits=10.\n",
      "  % (min_groups, self.n_splits)), Warning)\n",
      "/Library/Frameworks/Python.framework/Versions/3.7/lib/python3.7/site-packages/sklearn/model_selection/_split.py:657: Warning: The least populated class in y has only 1 members, which is too few. The minimum number of members in any class cannot be less than n_splits=10.\n",
      "  % (min_groups, self.n_splits)), Warning)\n",
      "/Library/Frameworks/Python.framework/Versions/3.7/lib/python3.7/site-packages/sklearn/model_selection/_split.py:657: Warning: The least populated class in y has only 1 members, which is too few. The minimum number of members in any class cannot be less than n_splits=10.\n",
      "  % (min_groups, self.n_splits)), Warning)\n",
      "/Library/Frameworks/Python.framework/Versions/3.7/lib/python3.7/site-packages/sklearn/model_selection/_split.py:657: Warning: The least populated class in y has only 1 members, which is too few. The minimum number of members in any class cannot be less than n_splits=10.\n",
      "  % (min_groups, self.n_splits)), Warning)\n",
      "/Library/Frameworks/Python.framework/Versions/3.7/lib/python3.7/site-packages/sklearn/model_selection/_split.py:657: Warning: The least populated class in y has only 1 members, which is too few. The minimum number of members in any class cannot be less than n_splits=10.\n",
      "  % (min_groups, self.n_splits)), Warning)\n"
     ]
    },
    {
     "data": {
      "image/png": "[encoded data removed]",
      "text/plain": [
       "<Figure size 432x288 with 1 Axes>"
      ]
     },
     "metadata": {
      "needs_background": "light"
     },
     "output_type": "display_data"
    }
   ],
   "source": [
    "from sklearn.model_selection import cross_val_score\n",
    "neighbors = list(range(1,11,1))\n",
    "cv_scores = []\n",
    "for k in neighbors:\n",
    "    knn = KNeighborsClassifier(n_neighbors=k)\n",
    "    scores = cross_val_score(knn, X_train, y_train, cv=10, scoring='accuracy')\n",
    "    cv_scores.append(scores.mean())\n",
    "    \n",
    "plt.plot(neighbors, cv_scores)\n",
    "plt.xlabel('K Value')\n",
    "plt.ylabel('Score')\n",
    "plt.show()"
   ]
  },
  {
   "cell_type": "markdown",
   "metadata": {},
   "source": [
    "### Perform K Nearest Neighbors Classification with the optimal number of clusters.\n",
    "We will use the graph above to select the best k value"
   ]
  },
  {
   "cell_type": "code",
   "execution_count": 51,
   "metadata": {},
   "outputs": [
    {
     "name": "stdout",
     "output_type": "stream",
     "text": [
      "0.9411764705882353\n",
      "[3 3 3 3 3 3 3 3 3 3 3 3 3 3 3 3 3]\n"
     ]
    }
   ],
   "source": [
    "k = 5\n",
    "from sklearn.neighbors import KNeighborsClassifier\n",
    "knn = KNeighborsClassifier(n_neighbors=k)\n",
    "knn.fit(X_train, y_train)\n",
    "pred = knn.predict(X_test)\n",
    "print(knn.score(X_test,y_test, pred))\n",
    "print(pred)"
   ]
  },
  {
   "cell_type": "markdown",
   "metadata": {},
   "source": [
    "## Compare results of analysis to City of Atlanta Neighborhood data"
   ]
  },
  {
   "cell_type": "code",
   "execution_count": null,
   "metadata": {},
   "outputs": [],
   "source": []
  }
 ],
 "metadata": {
  "kernelspec": {
   "display_name": "Python 3",
   "language": "python",
   "name": "python3"
  },
  "language_info": {
   "codemirror_mode": {
    "name": "ipython",
    "version": 3
   },
   "file_extension": ".py",
   "mimetype": "text/x-python",
   "name": "python",
   "nbconvert_exporter": "python",
   "pygments_lexer": "ipython3",
   "version": "3.7.3"
  },
  "toc": {
   "base_numbering": 1,
   "nav_menu": {},
   "number_sections": true,
   "sideBar": true,
   "skip_h1_title": false,
   "title_cell": "Table of Contents",
   "title_sidebar": "Contents",
   "toc_cell": false,
   "toc_position": {},
   "toc_section_display": true,
   "toc_window_display": false
  }
 },
 "nbformat": 4,
 "nbformat_minor": 2
}
