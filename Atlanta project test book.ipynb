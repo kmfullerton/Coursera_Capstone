{
 "cells": [
  {
   "cell_type": "code",
   "execution_count": 1,
   "metadata": {},
   "outputs": [],
   "source": [
    "import pandas as pd\n",
    "import numpy as np\n",
    "import matplotlib.pyplot as plt\n",
    "%matplotlib inline\n",
    "import folium\n",
    "import requests\n",
    "from pandas.io.json import json_normalize"
   ]
  },
  {
   "cell_type": "markdown",
   "metadata": {},
   "source": [
    "# Interface with GIS"
   ]
  },
  {
   "cell_type": "code",
   "execution_count": 2,
   "metadata": {},
   "outputs": [],
   "source": [
    "url = 'https://gis.atlantaga.gov/dpcd/rest/services/OpenDataService/FeatureServer/4/query?where=1%3D1&outFields=LOCALID,NAME,NPU,GLOBALID&outSR=4326&f=json'"
   ]
  },
  {
   "cell_type": "markdown",
   "metadata": {},
   "source": [
    "# Interface with Foursquare\n",
    "https://developer.foursquare.com/docs/api/venues/trending"
   ]
  },
  {
   "cell_type": "code",
   "execution_count": 3,
   "metadata": {},
   "outputs": [],
   "source": [
    "# @hidden_cell\n",
    "client_secret = 'PLV5C4EDNBSRH4AMBKOXNGHFZWHEWCGULGTQLPQZVQFJFYZO'\n",
    "client_id = 'HE3V0C15YMFATHFBWRAZ0B32H12HYYSJ1HJ523U02CKPEO3M'\n",
    "ver = '20180604'"
   ]
  },
  {
   "cell_type": "code",
   "execution_count": 4,
   "metadata": {},
   "outputs": [],
   "source": [
    "lat = 33.755845\n",
    "long = -84.38901\n",
    "limit = 500\n",
    "radius=500"
   ]
  },
  {
   "cell_type": "code",
   "execution_count": 5,
   "metadata": {},
   "outputs": [],
   "source": [
    "url = 'https://api.foursquare.com/v2/venues/explore?client_id={}&client_secret={}&ll={},{}&v={}&limit={}&radius={}'.format(client_id, client_secret, lat, long, ver, limit,radius)"
   ]
  },
  {
   "cell_type": "code",
   "execution_count": 6,
   "metadata": {},
   "outputs": [],
   "source": [
    "results = requests.get(url).json()\n",
    "items = results['response']['groups'][0]['items']\n",
    "dataframe = json_normalize(items)"
   ]
  },
  {
   "cell_type": "code",
   "execution_count": 7,
   "metadata": {},
   "outputs": [
    {
     "data": {
      "text/html": [
       "<div>\n",
       "<style scoped>\n",
       "    .dataframe tbody tr th:only-of-type {\n",
       "        vertical-align: middle;\n",
       "    }\n",
       "\n",
       "    .dataframe tbody tr th {\n",
       "        vertical-align: top;\n",
       "    }\n",
       "\n",
       "    .dataframe thead th {\n",
       "        text-align: right;\n",
       "    }\n",
       "</style>\n",
       "<table border=\"1\" class=\"dataframe\">\n",
       "  <thead>\n",
       "    <tr style=\"text-align: right;\">\n",
       "      <th></th>\n",
       "      <th>reasons.count</th>\n",
       "      <th>reasons.items</th>\n",
       "      <th>referralId</th>\n",
       "      <th>venue.categories</th>\n",
       "      <th>venue.delivery.id</th>\n",
       "      <th>venue.delivery.provider.icon.name</th>\n",
       "      <th>venue.delivery.provider.icon.prefix</th>\n",
       "      <th>venue.delivery.provider.icon.sizes</th>\n",
       "      <th>venue.delivery.provider.name</th>\n",
       "      <th>venue.delivery.url</th>\n",
       "      <th>...</th>\n",
       "      <th>venue.location.labeledLatLngs</th>\n",
       "      <th>venue.location.lat</th>\n",
       "      <th>venue.location.lng</th>\n",
       "      <th>venue.location.neighborhood</th>\n",
       "      <th>venue.location.postalCode</th>\n",
       "      <th>venue.location.state</th>\n",
       "      <th>venue.name</th>\n",
       "      <th>venue.photos.count</th>\n",
       "      <th>venue.photos.groups</th>\n",
       "      <th>venue.venuePage.id</th>\n",
       "    </tr>\n",
       "  </thead>\n",
       "  <tbody>\n",
       "    <tr>\n",
       "      <th>0</th>\n",
       "      <td>0</td>\n",
       "      <td>[{'summary': 'This spot is popular', 'type': '...</td>\n",
       "      <td>e-0-57d42371498ebd10aa19e10b-0</td>\n",
       "      <td>[{'id': '5bae9231bedf3950379f89d4', 'name': 'P...</td>\n",
       "      <td>NaN</td>\n",
       "      <td>NaN</td>\n",
       "      <td>NaN</td>\n",
       "      <td>NaN</td>\n",
       "      <td>NaN</td>\n",
       "      <td>NaN</td>\n",
       "      <td>...</td>\n",
       "      <td>[{'label': 'display', 'lat': 33.75572717691757...</td>\n",
       "      <td>33.755727</td>\n",
       "      <td>-84.389400</td>\n",
       "      <td>Downtown Atlanta, Atlanta, GA</td>\n",
       "      <td>30303</td>\n",
       "      <td>GA</td>\n",
       "      <td>Fish Bowl Poké</td>\n",
       "      <td>0</td>\n",
       "      <td>[]</td>\n",
       "      <td>NaN</td>\n",
       "    </tr>\n",
       "    <tr>\n",
       "      <th>1</th>\n",
       "      <td>0</td>\n",
       "      <td>[{'summary': 'This spot is popular', 'type': '...</td>\n",
       "      <td>e-0-4d920f119d0f721e6b692473-1</td>\n",
       "      <td>[{'id': '4bf58dd8d48988d113941735', 'name': 'K...</td>\n",
       "      <td>NaN</td>\n",
       "      <td>NaN</td>\n",
       "      <td>NaN</td>\n",
       "      <td>NaN</td>\n",
       "      <td>NaN</td>\n",
       "      <td>NaN</td>\n",
       "      <td>...</td>\n",
       "      <td>[{'label': 'display', 'lat': 33.75549602545936...</td>\n",
       "      <td>33.755496</td>\n",
       "      <td>-84.389006</td>\n",
       "      <td>NaN</td>\n",
       "      <td>30303</td>\n",
       "      <td>GA</td>\n",
       "      <td>Blossom Tree</td>\n",
       "      <td>0</td>\n",
       "      <td>[]</td>\n",
       "      <td>NaN</td>\n",
       "    </tr>\n",
       "    <tr>\n",
       "      <th>2</th>\n",
       "      <td>0</td>\n",
       "      <td>[{'summary': 'This spot is popular', 'type': '...</td>\n",
       "      <td>e-0-4a92bba3f964a5207e1d20e3-2</td>\n",
       "      <td>[{'id': '4bf58dd8d48988d14a941735', 'name': 'V...</td>\n",
       "      <td>NaN</td>\n",
       "      <td>NaN</td>\n",
       "      <td>NaN</td>\n",
       "      <td>NaN</td>\n",
       "      <td>NaN</td>\n",
       "      <td>NaN</td>\n",
       "      <td>...</td>\n",
       "      <td>[{'label': 'display', 'lat': 33.75560963018946...</td>\n",
       "      <td>33.755610</td>\n",
       "      <td>-84.389530</td>\n",
       "      <td>NaN</td>\n",
       "      <td>30303</td>\n",
       "      <td>GA</td>\n",
       "      <td>Dua Vietnamese Noodle Soup</td>\n",
       "      <td>0</td>\n",
       "      <td>[]</td>\n",
       "      <td>NaN</td>\n",
       "    </tr>\n",
       "    <tr>\n",
       "      <th>3</th>\n",
       "      <td>0</td>\n",
       "      <td>[{'summary': 'This spot is popular', 'type': '...</td>\n",
       "      <td>e-0-4a89913bf964a5206d0820e3-3</td>\n",
       "      <td>[{'id': '4bf58dd8d48988d146941735', 'name': 'D...</td>\n",
       "      <td>326067</td>\n",
       "      <td>/delivery_provider_grubhub_20180129.png</td>\n",
       "      <td>https://fastly.4sqi.net/img/general/cap/</td>\n",
       "      <td>[40, 50]</td>\n",
       "      <td>grubhub</td>\n",
       "      <td>https://www.grubhub.com/restaurant/reubens-del...</td>\n",
       "      <td>...</td>\n",
       "      <td>[{'label': 'display', 'lat': 33.75568700591916...</td>\n",
       "      <td>33.755687</td>\n",
       "      <td>-84.389442</td>\n",
       "      <td>NaN</td>\n",
       "      <td>30303</td>\n",
       "      <td>GA</td>\n",
       "      <td>Reuben's Deli</td>\n",
       "      <td>0</td>\n",
       "      <td>[]</td>\n",
       "      <td>425632457</td>\n",
       "    </tr>\n",
       "    <tr>\n",
       "      <th>4</th>\n",
       "      <td>0</td>\n",
       "      <td>[{'summary': 'This spot is popular', 'type': '...</td>\n",
       "      <td>e-0-4b6315eaf964a520e8612ae3-4</td>\n",
       "      <td>[{'id': '4bf58dd8d48988d119941735', 'name': 'H...</td>\n",
       "      <td>NaN</td>\n",
       "      <td>NaN</td>\n",
       "      <td>NaN</td>\n",
       "      <td>NaN</td>\n",
       "      <td>NaN</td>\n",
       "      <td>NaN</td>\n",
       "      <td>...</td>\n",
       "      <td>[{'label': 'display', 'lat': 33.75511963865315...</td>\n",
       "      <td>33.755120</td>\n",
       "      <td>-84.389413</td>\n",
       "      <td>NaN</td>\n",
       "      <td>30303</td>\n",
       "      <td>GA</td>\n",
       "      <td>Anatolia Cafe &amp; Hookah Lounge</td>\n",
       "      <td>0</td>\n",
       "      <td>[]</td>\n",
       "      <td>37008017</td>\n",
       "    </tr>\n",
       "  </tbody>\n",
       "</table>\n",
       "<p>5 rows × 28 columns</p>\n",
       "</div>"
      ],
      "text/plain": [
       "   reasons.count                                      reasons.items  \\\n",
       "0              0  [{'summary': 'This spot is popular', 'type': '...   \n",
       "1              0  [{'summary': 'This spot is popular', 'type': '...   \n",
       "2              0  [{'summary': 'This spot is popular', 'type': '...   \n",
       "3              0  [{'summary': 'This spot is popular', 'type': '...   \n",
       "4              0  [{'summary': 'This spot is popular', 'type': '...   \n",
       "\n",
       "                       referralId  \\\n",
       "0  e-0-57d42371498ebd10aa19e10b-0   \n",
       "1  e-0-4d920f119d0f721e6b692473-1   \n",
       "2  e-0-4a92bba3f964a5207e1d20e3-2   \n",
       "3  e-0-4a89913bf964a5206d0820e3-3   \n",
       "4  e-0-4b6315eaf964a520e8612ae3-4   \n",
       "\n",
       "                                    venue.categories venue.delivery.id  \\\n",
       "0  [{'id': '5bae9231bedf3950379f89d4', 'name': 'P...               NaN   \n",
       "1  [{'id': '4bf58dd8d48988d113941735', 'name': 'K...               NaN   \n",
       "2  [{'id': '4bf58dd8d48988d14a941735', 'name': 'V...               NaN   \n",
       "3  [{'id': '4bf58dd8d48988d146941735', 'name': 'D...            326067   \n",
       "4  [{'id': '4bf58dd8d48988d119941735', 'name': 'H...               NaN   \n",
       "\n",
       "         venue.delivery.provider.icon.name  \\\n",
       "0                                      NaN   \n",
       "1                                      NaN   \n",
       "2                                      NaN   \n",
       "3  /delivery_provider_grubhub_20180129.png   \n",
       "4                                      NaN   \n",
       "\n",
       "        venue.delivery.provider.icon.prefix  \\\n",
       "0                                       NaN   \n",
       "1                                       NaN   \n",
       "2                                       NaN   \n",
       "3  https://fastly.4sqi.net/img/general/cap/   \n",
       "4                                       NaN   \n",
       "\n",
       "  venue.delivery.provider.icon.sizes venue.delivery.provider.name  \\\n",
       "0                                NaN                          NaN   \n",
       "1                                NaN                          NaN   \n",
       "2                                NaN                          NaN   \n",
       "3                           [40, 50]                      grubhub   \n",
       "4                                NaN                          NaN   \n",
       "\n",
       "                                  venue.delivery.url  ...  \\\n",
       "0                                                NaN  ...   \n",
       "1                                                NaN  ...   \n",
       "2                                                NaN  ...   \n",
       "3  https://www.grubhub.com/restaurant/reubens-del...  ...   \n",
       "4                                                NaN  ...   \n",
       "\n",
       "                       venue.location.labeledLatLngs venue.location.lat  \\\n",
       "0  [{'label': 'display', 'lat': 33.75572717691757...          33.755727   \n",
       "1  [{'label': 'display', 'lat': 33.75549602545936...          33.755496   \n",
       "2  [{'label': 'display', 'lat': 33.75560963018946...          33.755610   \n",
       "3  [{'label': 'display', 'lat': 33.75568700591916...          33.755687   \n",
       "4  [{'label': 'display', 'lat': 33.75511963865315...          33.755120   \n",
       "\n",
       "  venue.location.lng    venue.location.neighborhood venue.location.postalCode  \\\n",
       "0         -84.389400  Downtown Atlanta, Atlanta, GA                     30303   \n",
       "1         -84.389006                            NaN                     30303   \n",
       "2         -84.389530                            NaN                     30303   \n",
       "3         -84.389442                            NaN                     30303   \n",
       "4         -84.389413                            NaN                     30303   \n",
       "\n",
       "  venue.location.state                     venue.name venue.photos.count  \\\n",
       "0                   GA                 Fish Bowl Poké                  0   \n",
       "1                   GA                   Blossom Tree                  0   \n",
       "2                   GA     Dua Vietnamese Noodle Soup                  0   \n",
       "3                   GA                  Reuben's Deli                  0   \n",
       "4                   GA  Anatolia Cafe & Hookah Lounge                  0   \n",
       "\n",
       "  venue.photos.groups  venue.venuePage.id  \n",
       "0                  []                 NaN  \n",
       "1                  []                 NaN  \n",
       "2                  []                 NaN  \n",
       "3                  []           425632457  \n",
       "4                  []            37008017  \n",
       "\n",
       "[5 rows x 28 columns]"
      ]
     },
     "execution_count": 7,
     "metadata": {},
     "output_type": "execute_result"
    }
   ],
   "source": [
    "dataframe.head()"
   ]
  },
  {
   "cell_type": "code",
   "execution_count": 8,
   "metadata": {},
   "outputs": [
    {
     "data": {
      "text/plain": [
       "(55, 28)"
      ]
     },
     "execution_count": 8,
     "metadata": {},
     "output_type": "execute_result"
    }
   ],
   "source": [
    "dataframe.shape"
   ]
  },
  {
   "cell_type": "code",
   "execution_count": 9,
   "metadata": {},
   "outputs": [
    {
     "data": {
      "text/plain": [
       "array(['reasons.count', 'reasons.items', 'referralId', 'venue.categories',\n",
       "       'venue.delivery.id', 'venue.delivery.provider.icon.name',\n",
       "       'venue.delivery.provider.icon.prefix',\n",
       "       'venue.delivery.provider.icon.sizes',\n",
       "       'venue.delivery.provider.name', 'venue.delivery.url', 'venue.id',\n",
       "       'venue.location.address', 'venue.location.cc',\n",
       "       'venue.location.city', 'venue.location.country',\n",
       "       'venue.location.crossStreet', 'venue.location.distance',\n",
       "       'venue.location.formattedAddress', 'venue.location.labeledLatLngs',\n",
       "       'venue.location.lat', 'venue.location.lng',\n",
       "       'venue.location.neighborhood', 'venue.location.postalCode',\n",
       "       'venue.location.state', 'venue.name', 'venue.photos.count',\n",
       "       'venue.photos.groups', 'venue.venuePage.id'], dtype=object)"
      ]
     },
     "execution_count": 9,
     "metadata": {},
     "output_type": "execute_result"
    }
   ],
   "source": [
    "dataframe.columns.values"
   ]
  },
  {
   "cell_type": "code",
   "execution_count": 10,
   "metadata": {},
   "outputs": [
    {
     "data": {
      "text/plain": [
       "array(['Downtown Atlanta, Atlanta, GA', nan, 'Downtown Atlanta',\n",
       "       'Downtown'], dtype=object)"
      ]
     },
     "execution_count": 10,
     "metadata": {},
     "output_type": "execute_result"
    }
   ],
   "source": [
    "data=pd.DataFrame()\n",
    "data['name'] = dataframe['venue.name']\n",
    "data['categories'] = dataframe['venue.categories']\n",
    "data['latitude'] = dataframe['venue.location.lat']\n",
    "data['longitude'] = dataframe['venue.location.lng']\n",
    "data['neighborhood'] = dataframe['venue.location.neighborhood']\n",
    "data.neighborhood.unique()\n"
   ]
  },
  {
   "cell_type": "code",
   "execution_count": 11,
   "metadata": {},
   "outputs": [],
   "source": [
    "def get_category_type(row):\n",
    "    try:\n",
    "        categories_list = row['categories']\n",
    "    except:\n",
    "        categories_list = row['venue.categories']\n",
    "        \n",
    "    if len(categories_list) == 0:\n",
    "        return None\n",
    "    else:\n",
    "        return categories_list[0]['name']"
   ]
  },
  {
   "cell_type": "code",
   "execution_count": 12,
   "metadata": {},
   "outputs": [],
   "source": [
    "data['categories'] = data.apply(get_category_type, axis=1)"
   ]
  },
  {
   "cell_type": "code",
   "execution_count": 13,
   "metadata": {},
   "outputs": [
    {
     "data": {
      "text/html": [
       "<div>\n",
       "<style scoped>\n",
       "    .dataframe tbody tr th:only-of-type {\n",
       "        vertical-align: middle;\n",
       "    }\n",
       "\n",
       "    .dataframe tbody tr th {\n",
       "        vertical-align: top;\n",
       "    }\n",
       "\n",
       "    .dataframe thead th {\n",
       "        text-align: right;\n",
       "    }\n",
       "</style>\n",
       "<table border=\"1\" class=\"dataframe\">\n",
       "  <thead>\n",
       "    <tr style=\"text-align: right;\">\n",
       "      <th></th>\n",
       "      <th>name</th>\n",
       "      <th>categories</th>\n",
       "      <th>latitude</th>\n",
       "      <th>longitude</th>\n",
       "      <th>neighborhood</th>\n",
       "    </tr>\n",
       "  </thead>\n",
       "  <tbody>\n",
       "    <tr>\n",
       "      <th>0</th>\n",
       "      <td>Fish Bowl Poké</td>\n",
       "      <td>Poke Place</td>\n",
       "      <td>33.755727</td>\n",
       "      <td>-84.389400</td>\n",
       "      <td>Downtown Atlanta, Atlanta, GA</td>\n",
       "    </tr>\n",
       "    <tr>\n",
       "      <th>1</th>\n",
       "      <td>Blossom Tree</td>\n",
       "      <td>Korean Restaurant</td>\n",
       "      <td>33.755496</td>\n",
       "      <td>-84.389006</td>\n",
       "      <td>NaN</td>\n",
       "    </tr>\n",
       "    <tr>\n",
       "      <th>2</th>\n",
       "      <td>Dua Vietnamese Noodle Soup</td>\n",
       "      <td>Vietnamese Restaurant</td>\n",
       "      <td>33.755610</td>\n",
       "      <td>-84.389530</td>\n",
       "      <td>NaN</td>\n",
       "    </tr>\n",
       "    <tr>\n",
       "      <th>3</th>\n",
       "      <td>Reuben's Deli</td>\n",
       "      <td>Deli / Bodega</td>\n",
       "      <td>33.755687</td>\n",
       "      <td>-84.389442</td>\n",
       "      <td>NaN</td>\n",
       "    </tr>\n",
       "    <tr>\n",
       "      <th>4</th>\n",
       "      <td>Anatolia Cafe &amp; Hookah Lounge</td>\n",
       "      <td>Hookah Bar</td>\n",
       "      <td>33.755120</td>\n",
       "      <td>-84.389413</td>\n",
       "      <td>NaN</td>\n",
       "    </tr>\n",
       "  </tbody>\n",
       "</table>\n",
       "</div>"
      ],
      "text/plain": [
       "                            name             categories   latitude  longitude  \\\n",
       "0                 Fish Bowl Poké             Poke Place  33.755727 -84.389400   \n",
       "1                   Blossom Tree      Korean Restaurant  33.755496 -84.389006   \n",
       "2     Dua Vietnamese Noodle Soup  Vietnamese Restaurant  33.755610 -84.389530   \n",
       "3                  Reuben's Deli          Deli / Bodega  33.755687 -84.389442   \n",
       "4  Anatolia Cafe & Hookah Lounge             Hookah Bar  33.755120 -84.389413   \n",
       "\n",
       "                    neighborhood  \n",
       "0  Downtown Atlanta, Atlanta, GA  \n",
       "1                            NaN  \n",
       "2                            NaN  \n",
       "3                            NaN  \n",
       "4                            NaN  "
      ]
     },
     "execution_count": 13,
     "metadata": {},
     "output_type": "execute_result"
    }
   ],
   "source": [
    "data.head()"
   ]
  },
  {
   "cell_type": "markdown",
   "metadata": {},
   "source": [
    "### Visualize results"
   ]
  },
  {
   "cell_type": "code",
   "execution_count": 20,
   "metadata": {
    "scrolled": true
   },
   "outputs": [
    {
     "name": "stdout",
     "output_type": "stream",
     "text": [
      "((0.10588235294117647, 0.6196078431372549, 0.4666666666666667), (0.8509803921568627, 0.37254901960784315, 0.00784313725490196), (0.4588235294117647, 0.4392156862745098, 0.7019607843137254), (0.9058823529411765, 0.1607843137254902, 0.5411764705882353), (0.4, 0.6509803921568628, 0.11764705882352941), (0.9019607843137255, 0.6705882352941176, 0.00784313725490196), (0.6509803921568628, 0.4627450980392157, 0.11372549019607843), (0.4, 0.4, 0.4))\n"
     ]
    }
   ],
   "source": [
    "cat_list = data.categories.unique()\n",
    "colors = plt.cm.Dark2.colors\n",
    "print(colors)\n",
    "    "
   ]
  },
  {
   "cell_type": "code",
   "execution_count": 23,
   "metadata": {},
   "outputs": [
    {
     "data": {
      "text/html": [
       "<div style=\"width:100%;\"><div style=\"position:relative;width:100%;height:0;padding-bottom:60%;\"><iframe src=\"data:text/html;charset=utf-8;base64,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\" style=\"position:absolute;width:100%;height:100%;left:0;top:0;border:none !important;\" allowfullscreen webkitallowfullscreen mozallowfullscreen></iframe></div></div>"
      ],
      "text/plain": [
       "<folium.folium.Map at 0x114827cf8>"
      ]
     },
     "execution_count": 23,
     "metadata": {},
     "output_type": "execute_result"
    }
   ],
   "source": [
    "venues_map = folium.Map(location=[lat, long], zoom_start=15)\n",
    "\n",
    "for index, row in data.iterrows():\n",
    "    lat = row['latitude']\n",
    "    long = row['longitude']\n",
    "    label = row['name']\n",
    "    category = row['categories']\n",
    "    \n",
    "    folium.Circle(\n",
    "        [lat, long],\n",
    "        popup=label,\n",
    "        radius=10,\n",
    "        fill=True\n",
    "        ).add_to(venues_map)\n",
    "\n",
    "# display map\n",
    "venues_map"
   ]
  },
  {
   "cell_type": "markdown",
   "metadata": {},
   "source": [
    "# K Nearest Neighbors Classifer"
   ]
  },
  {
   "cell_type": "code",
   "execution_count": 24,
   "metadata": {},
   "outputs": [
    {
     "ename": "KeyError",
     "evalue": "('latitude', 'longitude', 'categories')",
     "output_type": "error",
     "traceback": [
      "\u001b[0;31m---------------------------------------------------------------------------\u001b[0m",
      "\u001b[0;31mKeyError\u001b[0m                                  Traceback (most recent call last)",
      "\u001b[0;32m/Library/Frameworks/Python.framework/Versions/3.7/lib/python3.7/site-packages/pandas/core/indexes/base.py\u001b[0m in \u001b[0;36mget_loc\u001b[0;34m(self, key, method, tolerance)\u001b[0m\n\u001b[1;32m   2656\u001b[0m             \u001b[0;32mtry\u001b[0m\u001b[0;34m:\u001b[0m\u001b[0;34m\u001b[0m\u001b[0;34m\u001b[0m\u001b[0m\n\u001b[0;32m-> 2657\u001b[0;31m                 \u001b[0;32mreturn\u001b[0m \u001b[0mself\u001b[0m\u001b[0;34m.\u001b[0m\u001b[0m_engine\u001b[0m\u001b[0;34m.\u001b[0m\u001b[0mget_loc\u001b[0m\u001b[0;34m(\u001b[0m\u001b[0mkey\u001b[0m\u001b[0;34m)\u001b[0m\u001b[0;34m\u001b[0m\u001b[0;34m\u001b[0m\u001b[0m\n\u001b[0m\u001b[1;32m   2658\u001b[0m             \u001b[0;32mexcept\u001b[0m \u001b[0mKeyError\u001b[0m\u001b[0;34m:\u001b[0m\u001b[0;34m\u001b[0m\u001b[0;34m\u001b[0m\u001b[0m\n",
      "\u001b[0;32mpandas/_libs/index.pyx\u001b[0m in \u001b[0;36mpandas._libs.index.IndexEngine.get_loc\u001b[0;34m()\u001b[0m\n",
      "\u001b[0;32mpandas/_libs/index.pyx\u001b[0m in \u001b[0;36mpandas._libs.index.IndexEngine.get_loc\u001b[0;34m()\u001b[0m\n",
      "\u001b[0;32mpandas/_libs/hashtable_class_helper.pxi\u001b[0m in \u001b[0;36mpandas._libs.hashtable.PyObjectHashTable.get_item\u001b[0;34m()\u001b[0m\n",
      "\u001b[0;32mpandas/_libs/hashtable_class_helper.pxi\u001b[0m in \u001b[0;36mpandas._libs.hashtable.PyObjectHashTable.get_item\u001b[0;34m()\u001b[0m\n",
      "\u001b[0;31mKeyError\u001b[0m: ('latitude', 'longitude', 'categories')",
      "\nDuring handling of the above exception, another exception occurred:\n",
      "\u001b[0;31mKeyError\u001b[0m                                  Traceback (most recent call last)",
      "\u001b[0;32m<ipython-input-24-ec6cff031085>\u001b[0m in \u001b[0;36m<module>\u001b[0;34m\u001b[0m\n\u001b[1;32m      1\u001b[0m \u001b[0;32mfrom\u001b[0m \u001b[0msklearn\u001b[0m\u001b[0;34m.\u001b[0m\u001b[0mneighbors\u001b[0m\u001b[0;34m.\u001b[0m\u001b[0mnearest_centroid\u001b[0m \u001b[0;32mimport\u001b[0m \u001b[0mNearestCentroid\u001b[0m\u001b[0;34m\u001b[0m\u001b[0;34m\u001b[0m\u001b[0m\n\u001b[0;32m----> 2\u001b[0;31m \u001b[0mX\u001b[0m \u001b[0;34m=\u001b[0m \u001b[0mdata\u001b[0m\u001b[0;34m[\u001b[0m\u001b[0;34m'latitude'\u001b[0m\u001b[0;34m,\u001b[0m \u001b[0;34m'longitude'\u001b[0m\u001b[0;34m,\u001b[0m \u001b[0;34m'categories'\u001b[0m\u001b[0;34m]\u001b[0m\u001b[0;34m\u001b[0m\u001b[0;34m\u001b[0m\u001b[0m\n\u001b[0m\u001b[1;32m      3\u001b[0m \u001b[0my\u001b[0m \u001b[0;34m=\u001b[0m \u001b[0mdata\u001b[0m\u001b[0;34m[\u001b[0m\u001b[0;34m'neighborhood'\u001b[0m\u001b[0;34m]\u001b[0m\u001b[0;34m\u001b[0m\u001b[0;34m\u001b[0m\u001b[0m\n\u001b[1;32m      4\u001b[0m \u001b[0mclf\u001b[0m \u001b[0;34m=\u001b[0m \u001b[0mNearestCentriod\u001b[0m\u001b[0;34m(\u001b[0m\u001b[0;34m)\u001b[0m\u001b[0;34m\u001b[0m\u001b[0;34m\u001b[0m\u001b[0m\n\u001b[1;32m      5\u001b[0m \u001b[0mclf\u001b[0m\u001b[0;34m.\u001b[0m\u001b[0mfit\u001b[0m\u001b[0;34m(\u001b[0m\u001b[0mX\u001b[0m\u001b[0;34m,\u001b[0m \u001b[0my\u001b[0m\u001b[0;34m)\u001b[0m\u001b[0;34m\u001b[0m\u001b[0;34m\u001b[0m\u001b[0m\n",
      "\u001b[0;32m/Library/Frameworks/Python.framework/Versions/3.7/lib/python3.7/site-packages/pandas/core/frame.py\u001b[0m in \u001b[0;36m__getitem__\u001b[0;34m(self, key)\u001b[0m\n\u001b[1;32m   2925\u001b[0m             \u001b[0;32mif\u001b[0m \u001b[0mself\u001b[0m\u001b[0;34m.\u001b[0m\u001b[0mcolumns\u001b[0m\u001b[0;34m.\u001b[0m\u001b[0mnlevels\u001b[0m \u001b[0;34m>\u001b[0m \u001b[0;36m1\u001b[0m\u001b[0;34m:\u001b[0m\u001b[0;34m\u001b[0m\u001b[0;34m\u001b[0m\u001b[0m\n\u001b[1;32m   2926\u001b[0m                 \u001b[0;32mreturn\u001b[0m \u001b[0mself\u001b[0m\u001b[0;34m.\u001b[0m\u001b[0m_getitem_multilevel\u001b[0m\u001b[0;34m(\u001b[0m\u001b[0mkey\u001b[0m\u001b[0;34m)\u001b[0m\u001b[0;34m\u001b[0m\u001b[0;34m\u001b[0m\u001b[0m\n\u001b[0;32m-> 2927\u001b[0;31m             \u001b[0mindexer\u001b[0m \u001b[0;34m=\u001b[0m \u001b[0mself\u001b[0m\u001b[0;34m.\u001b[0m\u001b[0mcolumns\u001b[0m\u001b[0;34m.\u001b[0m\u001b[0mget_loc\u001b[0m\u001b[0;34m(\u001b[0m\u001b[0mkey\u001b[0m\u001b[0;34m)\u001b[0m\u001b[0;34m\u001b[0m\u001b[0;34m\u001b[0m\u001b[0m\n\u001b[0m\u001b[1;32m   2928\u001b[0m             \u001b[0;32mif\u001b[0m \u001b[0mis_integer\u001b[0m\u001b[0;34m(\u001b[0m\u001b[0mindexer\u001b[0m\u001b[0;34m)\u001b[0m\u001b[0;34m:\u001b[0m\u001b[0;34m\u001b[0m\u001b[0;34m\u001b[0m\u001b[0m\n\u001b[1;32m   2929\u001b[0m                 \u001b[0mindexer\u001b[0m \u001b[0;34m=\u001b[0m \u001b[0;34m[\u001b[0m\u001b[0mindexer\u001b[0m\u001b[0;34m]\u001b[0m\u001b[0;34m\u001b[0m\u001b[0;34m\u001b[0m\u001b[0m\n",
      "\u001b[0;32m/Library/Frameworks/Python.framework/Versions/3.7/lib/python3.7/site-packages/pandas/core/indexes/base.py\u001b[0m in \u001b[0;36mget_loc\u001b[0;34m(self, key, method, tolerance)\u001b[0m\n\u001b[1;32m   2657\u001b[0m                 \u001b[0;32mreturn\u001b[0m \u001b[0mself\u001b[0m\u001b[0;34m.\u001b[0m\u001b[0m_engine\u001b[0m\u001b[0;34m.\u001b[0m\u001b[0mget_loc\u001b[0m\u001b[0;34m(\u001b[0m\u001b[0mkey\u001b[0m\u001b[0;34m)\u001b[0m\u001b[0;34m\u001b[0m\u001b[0;34m\u001b[0m\u001b[0m\n\u001b[1;32m   2658\u001b[0m             \u001b[0;32mexcept\u001b[0m \u001b[0mKeyError\u001b[0m\u001b[0;34m:\u001b[0m\u001b[0;34m\u001b[0m\u001b[0;34m\u001b[0m\u001b[0m\n\u001b[0;32m-> 2659\u001b[0;31m                 \u001b[0;32mreturn\u001b[0m \u001b[0mself\u001b[0m\u001b[0;34m.\u001b[0m\u001b[0m_engine\u001b[0m\u001b[0;34m.\u001b[0m\u001b[0mget_loc\u001b[0m\u001b[0;34m(\u001b[0m\u001b[0mself\u001b[0m\u001b[0;34m.\u001b[0m\u001b[0m_maybe_cast_indexer\u001b[0m\u001b[0;34m(\u001b[0m\u001b[0mkey\u001b[0m\u001b[0;34m)\u001b[0m\u001b[0;34m)\u001b[0m\u001b[0;34m\u001b[0m\u001b[0;34m\u001b[0m\u001b[0m\n\u001b[0m\u001b[1;32m   2660\u001b[0m         \u001b[0mindexer\u001b[0m \u001b[0;34m=\u001b[0m \u001b[0mself\u001b[0m\u001b[0;34m.\u001b[0m\u001b[0mget_indexer\u001b[0m\u001b[0;34m(\u001b[0m\u001b[0;34m[\u001b[0m\u001b[0mkey\u001b[0m\u001b[0;34m]\u001b[0m\u001b[0;34m,\u001b[0m \u001b[0mmethod\u001b[0m\u001b[0;34m=\u001b[0m\u001b[0mmethod\u001b[0m\u001b[0;34m,\u001b[0m \u001b[0mtolerance\u001b[0m\u001b[0;34m=\u001b[0m\u001b[0mtolerance\u001b[0m\u001b[0;34m)\u001b[0m\u001b[0;34m\u001b[0m\u001b[0;34m\u001b[0m\u001b[0m\n\u001b[1;32m   2661\u001b[0m         \u001b[0;32mif\u001b[0m \u001b[0mindexer\u001b[0m\u001b[0;34m.\u001b[0m\u001b[0mndim\u001b[0m \u001b[0;34m>\u001b[0m \u001b[0;36m1\u001b[0m \u001b[0;32mor\u001b[0m \u001b[0mindexer\u001b[0m\u001b[0;34m.\u001b[0m\u001b[0msize\u001b[0m \u001b[0;34m>\u001b[0m \u001b[0;36m1\u001b[0m\u001b[0;34m:\u001b[0m\u001b[0;34m\u001b[0m\u001b[0;34m\u001b[0m\u001b[0m\n",
      "\u001b[0;32mpandas/_libs/index.pyx\u001b[0m in \u001b[0;36mpandas._libs.index.IndexEngine.get_loc\u001b[0;34m()\u001b[0m\n",
      "\u001b[0;32mpandas/_libs/index.pyx\u001b[0m in \u001b[0;36mpandas._libs.index.IndexEngine.get_loc\u001b[0;34m()\u001b[0m\n",
      "\u001b[0;32mpandas/_libs/hashtable_class_helper.pxi\u001b[0m in \u001b[0;36mpandas._libs.hashtable.PyObjectHashTable.get_item\u001b[0;34m()\u001b[0m\n",
      "\u001b[0;32mpandas/_libs/hashtable_class_helper.pxi\u001b[0m in \u001b[0;36mpandas._libs.hashtable.PyObjectHashTable.get_item\u001b[0;34m()\u001b[0m\n",
      "\u001b[0;31mKeyError\u001b[0m: ('latitude', 'longitude', 'categories')"
     ]
    }
   ],
   "source": [
    "from sklearn.neighbors.nearest_centroid import NearestCentroid\n",
    "X = data['latitude', 'longitude', 'categories']\n",
    "y = data['neighborhood']\n",
    "clf = NearestCentriod()\n",
    "clf.fit(X, y)\n"
   ]
  },
  {
   "cell_type": "code",
   "execution_count": null,
   "metadata": {},
   "outputs": [],
   "source": []
  }
 ],
 "metadata": {
  "kernelspec": {
   "display_name": "Python 3",
   "language": "python",
   "name": "python3"
  },
  "language_info": {
   "codemirror_mode": {
    "name": "ipython",
    "version": 3
   },
   "file_extension": ".py",
   "mimetype": "text/x-python",
   "name": "python",
   "nbconvert_exporter": "python",
   "pygments_lexer": "ipython3",
   "version": "3.7.3"
  },
  "toc": {
   "base_numbering": 1,
   "nav_menu": {},
   "number_sections": true,
   "sideBar": true,
   "skip_h1_title": false,
   "title_cell": "Table of Contents",
   "title_sidebar": "Contents",
   "toc_cell": false,
   "toc_position": {},
   "toc_section_display": true,
   "toc_window_display": false
  }
 },
 "nbformat": 4,
 "nbformat_minor": 2
}
