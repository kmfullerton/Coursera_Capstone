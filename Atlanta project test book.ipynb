{
 "cells": [
  {
   "cell_type": "code",
   "execution_count": 1,
   "metadata": {},
   "outputs": [],
   "source": [
    "import pandas as pd\n",
    "import numpy as np\n",
    "import matplotlib.pyplot as plt\n",
    "%matplotlib inline\n",
    "import folium\n",
    "import requests\n",
    "from pandas.io.json import json_normalize"
   ]
  },
  {
   "cell_type": "markdown",
   "metadata": {},
   "source": [
    "# Interface with GIS"
   ]
  },
  {
   "cell_type": "code",
   "execution_count": 2,
   "metadata": {},
   "outputs": [],
   "source": [
    "url = 'https://gis.atlantaga.gov/dpcd/rest/services/OpenDataService/FeatureServer/4/query?where=1%3D1&outFields=LOCALID,NAME,NPU,GLOBALID&outSR=4326&f=json'"
   ]
  },
  {
   "cell_type": "code",
   "execution_count": 5,
   "metadata": {},
   "outputs": [],
   "source": [
    "results = requests.get(url).json()\n",
    "dataframe = json_normalize(results)"
   ]
  },
  {
   "cell_type": "code",
   "execution_count": 6,
   "metadata": {},
   "outputs": [
    {
     "data": {
      "text/html": [
       "<div>\n",
       "<style scoped>\n",
       "    .dataframe tbody tr th:only-of-type {\n",
       "        vertical-align: middle;\n",
       "    }\n",
       "\n",
       "    .dataframe tbody tr th {\n",
       "        vertical-align: top;\n",
       "    }\n",
       "\n",
       "    .dataframe thead th {\n",
       "        text-align: right;\n",
       "    }\n",
       "</style>\n",
       "<table border=\"1\" class=\"dataframe\">\n",
       "  <thead>\n",
       "    <tr style=\"text-align: right;\">\n",
       "      <th></th>\n",
       "      <th>attributes.GLOBALID</th>\n",
       "      <th>attributes.LOCALID</th>\n",
       "      <th>attributes.NAME</th>\n",
       "      <th>attributes.NPU</th>\n",
       "      <th>geometry.rings</th>\n",
       "    </tr>\n",
       "  </thead>\n",
       "  <tbody>\n",
       "    <tr>\n",
       "      <th>0</th>\n",
       "      <td>{AF70EEF2-944C-4AF5-8E5A-E044D80B0056}</td>\n",
       "      <td>None</td>\n",
       "      <td>T</td>\n",
       "      <td>None</td>\n",
       "      <td>[[[-84.41391130598113, 33.75469930680354], [-8...</td>\n",
       "    </tr>\n",
       "    <tr>\n",
       "      <th>1</th>\n",
       "      <td>{9DB861E2-4893-4DBF-9EB5-7268F4584F36}</td>\n",
       "      <td>None</td>\n",
       "      <td>K</td>\n",
       "      <td>None</td>\n",
       "      <td>[[[-84.4173772073577, 33.772197013770004], [-8...</td>\n",
       "    </tr>\n",
       "    <tr>\n",
       "      <th>2</th>\n",
       "      <td>{30393597-154D-48B6-B4C4-D40947844146}</td>\n",
       "      <td>None</td>\n",
       "      <td>C</td>\n",
       "      <td>None</td>\n",
       "      <td>[[[-84.4175773783347, 33.83996741007558], [-84...</td>\n",
       "    </tr>\n",
       "    <tr>\n",
       "      <th>3</th>\n",
       "      <td>{FD9A625E-CED9-4822-8B4C-6D71BAE63D11}</td>\n",
       "      <td>None</td>\n",
       "      <td>S</td>\n",
       "      <td>None</td>\n",
       "      <td>[[[-84.45199196698579, 33.73370062523282], [-8...</td>\n",
       "    </tr>\n",
       "    <tr>\n",
       "      <th>4</th>\n",
       "      <td>{63CD01CB-0590-4E24-8F44-4837CB1B213A}</td>\n",
       "      <td>None</td>\n",
       "      <td>R</td>\n",
       "      <td>None</td>\n",
       "      <td>[[[-84.45466114171202, 33.721230458664635], [-...</td>\n",
       "    </tr>\n",
       "    <tr>\n",
       "      <th>5</th>\n",
       "      <td>{FFFA74EA-2A0D-47B3-8C66-80DB679EFC12}</td>\n",
       "      <td>None</td>\n",
       "      <td>J</td>\n",
       "      <td>None</td>\n",
       "      <td>[[[-84.4503885205728, 33.78578804216948], [-84...</td>\n",
       "    </tr>\n",
       "    <tr>\n",
       "      <th>6</th>\n",
       "      <td>{4FB09935-245C-4883-BBA6-4B52081610CE}</td>\n",
       "      <td>None</td>\n",
       "      <td>G</td>\n",
       "      <td>None</td>\n",
       "      <td>[[[-84.43273814924582, 33.78767967033906], [-8...</td>\n",
       "    </tr>\n",
       "    <tr>\n",
       "      <th>7</th>\n",
       "      <td>{BC5D698E-A85B-4A7F-AE10-B248AE33153A}</td>\n",
       "      <td>None</td>\n",
       "      <td>N</td>\n",
       "      <td>None</td>\n",
       "      <td>[[[-84.33869171405469, 33.77928091515261], [-8...</td>\n",
       "    </tr>\n",
       "    <tr>\n",
       "      <th>8</th>\n",
       "      <td>{74F21C58-742F-4E79-99E0-2F2749579EEB}</td>\n",
       "      <td>None</td>\n",
       "      <td>M</td>\n",
       "      <td>None</td>\n",
       "      <td>[[[-84.36988386618692, 33.77385890162472], [-8...</td>\n",
       "    </tr>\n",
       "    <tr>\n",
       "      <th>9</th>\n",
       "      <td>{64802558-2DC7-4EFD-A0B9-66D50B73C8B1}</td>\n",
       "      <td>None</td>\n",
       "      <td>Y</td>\n",
       "      <td>None</td>\n",
       "      <td>[[[-84.36846557192858, 33.72467524195221], [-8...</td>\n",
       "    </tr>\n",
       "    <tr>\n",
       "      <th>10</th>\n",
       "      <td>{7CB60E1B-FA45-4035-B45B-F693E7526874}</td>\n",
       "      <td>None</td>\n",
       "      <td>L</td>\n",
       "      <td>None</td>\n",
       "      <td>[[[-84.41587023042385, 33.78257240354184], [-8...</td>\n",
       "    </tr>\n",
       "    <tr>\n",
       "      <th>11</th>\n",
       "      <td>{C9E52550-FA86-4F1E-B34B-DAC5F795BE30}</td>\n",
       "      <td>None</td>\n",
       "      <td>V</td>\n",
       "      <td>None</td>\n",
       "      <td>[[[-84.3804775104678, 33.745629056805974], [-8...</td>\n",
       "    </tr>\n",
       "    <tr>\n",
       "      <th>12</th>\n",
       "      <td>{1487F50C-E325-47F2-9A1E-A9F0E313BC1D}</td>\n",
       "      <td>None</td>\n",
       "      <td>B</td>\n",
       "      <td>None</td>\n",
       "      <td>[[[-84.34808646300594, 33.88202686915052], [-8...</td>\n",
       "    </tr>\n",
       "    <tr>\n",
       "      <th>13</th>\n",
       "      <td>{C99D0105-F3E6-4260-9282-7C71A1BB274C}</td>\n",
       "      <td>None</td>\n",
       "      <td>Z</td>\n",
       "      <td>None</td>\n",
       "      <td>[[[-84.35744828083097, 33.70711894502891], [-8...</td>\n",
       "    </tr>\n",
       "    <tr>\n",
       "      <th>14</th>\n",
       "      <td>{7BC9295C-C463-413F-A45F-3B932683AEE6}</td>\n",
       "      <td>None</td>\n",
       "      <td>X</td>\n",
       "      <td>None</td>\n",
       "      <td>[[[-84.41505150514972, 33.722801696810215], [-...</td>\n",
       "    </tr>\n",
       "    <tr>\n",
       "      <th>15</th>\n",
       "      <td>{C4CD188E-4369-4A79-971C-C727C591268C}</td>\n",
       "      <td>None</td>\n",
       "      <td>D</td>\n",
       "      <td>None</td>\n",
       "      <td>[[[-84.464587569316, 33.82742372345076], [-84....</td>\n",
       "    </tr>\n",
       "    <tr>\n",
       "      <th>16</th>\n",
       "      <td>{E91F617D-EE42-4B83-B6AF-31301C2852BE}</td>\n",
       "      <td>None</td>\n",
       "      <td>E</td>\n",
       "      <td>None</td>\n",
       "      <td>[[[-84.38785665038537, 33.812709217824136], [-...</td>\n",
       "    </tr>\n",
       "    <tr>\n",
       "      <th>17</th>\n",
       "      <td>{83827484-2EBD-4B13-A0FF-8CBC29D729E0}</td>\n",
       "      <td>None</td>\n",
       "      <td>H</td>\n",
       "      <td>None</td>\n",
       "      <td>[[[-84.49944832509682, 33.7943050287461], [-84...</td>\n",
       "    </tr>\n",
       "    <tr>\n",
       "      <th>18</th>\n",
       "      <td>{18FAD3EC-E3FC-4C66-888D-585FA4F13C92}</td>\n",
       "      <td>None</td>\n",
       "      <td>P</td>\n",
       "      <td>None</td>\n",
       "      <td>[[[-84.50298207772586, 33.72300187665491], [-8...</td>\n",
       "    </tr>\n",
       "    <tr>\n",
       "      <th>19</th>\n",
       "      <td>{D279DF9A-5A0E-4D1A-A640-D7977658A3B2}</td>\n",
       "      <td>None</td>\n",
       "      <td>A</td>\n",
       "      <td>None</td>\n",
       "      <td>[[[-84.38962869052182, 33.883076416194314], [-...</td>\n",
       "    </tr>\n",
       "    <tr>\n",
       "      <th>20</th>\n",
       "      <td>{838425F3-2E8A-4AC9-8F14-3B52E15D598B}</td>\n",
       "      <td>None</td>\n",
       "      <td>I</td>\n",
       "      <td>None</td>\n",
       "      <td>[[[-84.45404624779813, 33.75070204380663], [-8...</td>\n",
       "    </tr>\n",
       "    <tr>\n",
       "      <th>21</th>\n",
       "      <td>{968993E0-7992-4F8A-A258-D9B9E5A35EC8}</td>\n",
       "      <td>None</td>\n",
       "      <td>F</td>\n",
       "      <td>None</td>\n",
       "      <td>[[[-84.34858126240417, 33.817302459207255], [-...</td>\n",
       "    </tr>\n",
       "    <tr>\n",
       "      <th>22</th>\n",
       "      <td>{AEBA41B0-0CD5-4408-96EE-1B5640726E25}</td>\n",
       "      <td>None</td>\n",
       "      <td>W</td>\n",
       "      <td>None</td>\n",
       "      <td>[[[-84.3692534648673, 33.74889247670887], [-84...</td>\n",
       "    </tr>\n",
       "    <tr>\n",
       "      <th>23</th>\n",
       "      <td>{4E8B6A4F-0C9E-406D-8C06-6DDD85C93171}</td>\n",
       "      <td>None</td>\n",
       "      <td>O</td>\n",
       "      <td>None</td>\n",
       "      <td>[[[-84.31241777836014, 33.76488142033419], [-8...</td>\n",
       "    </tr>\n",
       "    <tr>\n",
       "      <th>24</th>\n",
       "      <td>{B18D04FC-2E99-41DA-9034-9E317CD6FD79}</td>\n",
       "      <td>None</td>\n",
       "      <td>Q</td>\n",
       "      <td>None</td>\n",
       "      <td>[[[-84.53888202256225, 33.72049910484523], [-8...</td>\n",
       "    </tr>\n",
       "  </tbody>\n",
       "</table>\n",
       "</div>"
      ],
      "text/plain": [
       "                       attributes.GLOBALID attributes.LOCALID attributes.NAME  \\\n",
       "0   {AF70EEF2-944C-4AF5-8E5A-E044D80B0056}               None               T   \n",
       "1   {9DB861E2-4893-4DBF-9EB5-7268F4584F36}               None               K   \n",
       "2   {30393597-154D-48B6-B4C4-D40947844146}               None               C   \n",
       "3   {FD9A625E-CED9-4822-8B4C-6D71BAE63D11}               None               S   \n",
       "4   {63CD01CB-0590-4E24-8F44-4837CB1B213A}               None               R   \n",
       "5   {FFFA74EA-2A0D-47B3-8C66-80DB679EFC12}               None               J   \n",
       "6   {4FB09935-245C-4883-BBA6-4B52081610CE}               None               G   \n",
       "7   {BC5D698E-A85B-4A7F-AE10-B248AE33153A}               None               N   \n",
       "8   {74F21C58-742F-4E79-99E0-2F2749579EEB}               None               M   \n",
       "9   {64802558-2DC7-4EFD-A0B9-66D50B73C8B1}               None               Y   \n",
       "10  {7CB60E1B-FA45-4035-B45B-F693E7526874}               None               L   \n",
       "11  {C9E52550-FA86-4F1E-B34B-DAC5F795BE30}               None               V   \n",
       "12  {1487F50C-E325-47F2-9A1E-A9F0E313BC1D}               None               B   \n",
       "13  {C99D0105-F3E6-4260-9282-7C71A1BB274C}               None               Z   \n",
       "14  {7BC9295C-C463-413F-A45F-3B932683AEE6}               None               X   \n",
       "15  {C4CD188E-4369-4A79-971C-C727C591268C}               None               D   \n",
       "16  {E91F617D-EE42-4B83-B6AF-31301C2852BE}               None               E   \n",
       "17  {83827484-2EBD-4B13-A0FF-8CBC29D729E0}               None               H   \n",
       "18  {18FAD3EC-E3FC-4C66-888D-585FA4F13C92}               None               P   \n",
       "19  {D279DF9A-5A0E-4D1A-A640-D7977658A3B2}               None               A   \n",
       "20  {838425F3-2E8A-4AC9-8F14-3B52E15D598B}               None               I   \n",
       "21  {968993E0-7992-4F8A-A258-D9B9E5A35EC8}               None               F   \n",
       "22  {AEBA41B0-0CD5-4408-96EE-1B5640726E25}               None               W   \n",
       "23  {4E8B6A4F-0C9E-406D-8C06-6DDD85C93171}               None               O   \n",
       "24  {B18D04FC-2E99-41DA-9034-9E317CD6FD79}               None               Q   \n",
       "\n",
       "   attributes.NPU                                     geometry.rings  \n",
       "0            None  [[[-84.41391130598113, 33.75469930680354], [-8...  \n",
       "1            None  [[[-84.4173772073577, 33.772197013770004], [-8...  \n",
       "2            None  [[[-84.4175773783347, 33.83996741007558], [-84...  \n",
       "3            None  [[[-84.45199196698579, 33.73370062523282], [-8...  \n",
       "4            None  [[[-84.45466114171202, 33.721230458664635], [-...  \n",
       "5            None  [[[-84.4503885205728, 33.78578804216948], [-84...  \n",
       "6            None  [[[-84.43273814924582, 33.78767967033906], [-8...  \n",
       "7            None  [[[-84.33869171405469, 33.77928091515261], [-8...  \n",
       "8            None  [[[-84.36988386618692, 33.77385890162472], [-8...  \n",
       "9            None  [[[-84.36846557192858, 33.72467524195221], [-8...  \n",
       "10           None  [[[-84.41587023042385, 33.78257240354184], [-8...  \n",
       "11           None  [[[-84.3804775104678, 33.745629056805974], [-8...  \n",
       "12           None  [[[-84.34808646300594, 33.88202686915052], [-8...  \n",
       "13           None  [[[-84.35744828083097, 33.70711894502891], [-8...  \n",
       "14           None  [[[-84.41505150514972, 33.722801696810215], [-...  \n",
       "15           None  [[[-84.464587569316, 33.82742372345076], [-84....  \n",
       "16           None  [[[-84.38785665038537, 33.812709217824136], [-...  \n",
       "17           None  [[[-84.49944832509682, 33.7943050287461], [-84...  \n",
       "18           None  [[[-84.50298207772586, 33.72300187665491], [-8...  \n",
       "19           None  [[[-84.38962869052182, 33.883076416194314], [-...  \n",
       "20           None  [[[-84.45404624779813, 33.75070204380663], [-8...  \n",
       "21           None  [[[-84.34858126240417, 33.817302459207255], [-...  \n",
       "22           None  [[[-84.3692534648673, 33.74889247670887], [-84...  \n",
       "23           None  [[[-84.31241777836014, 33.76488142033419], [-8...  \n",
       "24           None  [[[-84.53888202256225, 33.72049910484523], [-8...  "
      ]
     },
     "execution_count": 6,
     "metadata": {},
     "output_type": "execute_result"
    }
   ],
   "source": [
    "data = dataframe['features'][0]\n",
    "cleandata = json_normalize(data)\n",
    "cleandata"
   ]
  },
  {
   "cell_type": "code",
   "execution_count": null,
   "metadata": {},
   "outputs": [],
   "source": [
    "venues_map = folium.Map(tiles='Stamen Toner',location=[33.755845, -84.38902], zoom_start=10)\n",
    "\n",
    "for index, row in cleandata.iterrows():\n",
    "    \n",
    "    name = row['attributes.NAME']\n",
    "    geo_list = row['geometry.rings']\n",
    "    coord = geo_list[0][:]\n",
    "    for ll in coord:\n",
    "        lat = ll[1]\n",
    "        long = ll[0]\n",
    "        folium.Circle(\n",
    "            [lat, long],\n",
    "            radius=3,\n",
    "            fill=True\n",
    "            ).add_to(venues_map)\n",
    "#     print(ll)\n",
    "    \n",
    "# display map\n",
    "venues_map"
   ]
  },
  {
   "cell_type": "code",
   "execution_count": 12,
   "metadata": {},
   "outputs": [],
   "source": [
    "import geopandas\n",
    "npu = geopandas.GeoDataFrame.from_file('NPU.shp')"
   ]
  },
  {
   "cell_type": "code",
   "execution_count": 14,
   "metadata": {},
   "outputs": [
    {
     "ename": "KeyError",
     "evalue": "'init'",
     "output_type": "error",
     "traceback": [
      "\u001b[0;31m---------------------------------------------------------------------------\u001b[0m",
      "\u001b[0;31mKeyError\u001b[0m                                  Traceback (most recent call last)",
      "\u001b[0;32m<ipython-input-14-f3a16f114faa>\u001b[0m in \u001b[0;36m<module>\u001b[0;34m\u001b[0m\n\u001b[1;32m      1\u001b[0m \u001b[0;32mimport\u001b[0m \u001b[0mpyepsg\u001b[0m\u001b[0;34m\u001b[0m\u001b[0;34m\u001b[0m\u001b[0m\n\u001b[1;32m      2\u001b[0m \u001b[0;34m\u001b[0m\u001b[0m\n\u001b[0;32m----> 3\u001b[0;31m \u001b[0mpyepsg\u001b[0m\u001b[0;34m.\u001b[0m\u001b[0mget\u001b[0m\u001b[0;34m(\u001b[0m\u001b[0mnpu\u001b[0m\u001b[0;34m.\u001b[0m\u001b[0mcrs\u001b[0m\u001b[0;34m[\u001b[0m\u001b[0;34m'init'\u001b[0m\u001b[0;34m]\u001b[0m\u001b[0;34m.\u001b[0m\u001b[0msplit\u001b[0m\u001b[0;34m(\u001b[0m\u001b[0;34m':'\u001b[0m\u001b[0;34m)\u001b[0m\u001b[0;34m[\u001b[0m\u001b[0;36m1\u001b[0m\u001b[0;34m]\u001b[0m\u001b[0;34m)\u001b[0m\u001b[0;34m\u001b[0m\u001b[0;34m\u001b[0m\u001b[0m\n\u001b[0m",
      "\u001b[0;31mKeyError\u001b[0m: 'init'"
     ]
    }
   ],
   "source": [
    "import pyepsg\n",
    "\n",
    "pyepsg.get(npu.crs['init'].split(':')[1])"
   ]
  },
  {
   "cell_type": "markdown",
   "metadata": {},
   "source": [
    "# Interface with Foursquare\n",
    "https://developer.foursquare.com/docs/api/venues/trending"
   ]
  },
  {
   "cell_type": "code",
   "execution_count": null,
   "metadata": {},
   "outputs": [],
   "source": [
    "# @hidden_cell\n",
    "client_secret = 'PLV5C4EDNBSRH4AMBKOXNGHFZWHEWCGULGTQLPQZVQFJFYZO'\n",
    "client_id = 'HE3V0C15YMFATHFBWRAZ0B32H12HYYSJ1HJ523U02CKPEO3M'\n",
    "ver = '20180604'"
   ]
  },
  {
   "cell_type": "code",
   "execution_count": null,
   "metadata": {},
   "outputs": [],
   "source": [
    "lat = 33.755845\n",
    "long = -84.38901\n",
    "limit = 500\n",
    "radius=500"
   ]
  },
  {
   "cell_type": "code",
   "execution_count": null,
   "metadata": {},
   "outputs": [],
   "source": [
    "url = 'https://api.foursquare.com/v2/venues/explore?client_id={}&client_secret={}&ll={},{}&v={}&limit={}&radius={}'.format(client_id, client_secret, lat, long, ver, limit,radius)"
   ]
  },
  {
   "cell_type": "code",
   "execution_count": null,
   "metadata": {},
   "outputs": [],
   "source": [
    "results = requests.get(url).json()\n",
    "print(results)\n",
    "items = results['response']['groups'][0]['items']\n",
    "dataframe = json_normalize(items)"
   ]
  },
  {
   "cell_type": "code",
   "execution_count": null,
   "metadata": {},
   "outputs": [],
   "source": [
    "dataframe.head()"
   ]
  },
  {
   "cell_type": "code",
   "execution_count": null,
   "metadata": {},
   "outputs": [],
   "source": [
    "dataframe.shape"
   ]
  },
  {
   "cell_type": "code",
   "execution_count": null,
   "metadata": {},
   "outputs": [],
   "source": [
    "dataframe.columns.values"
   ]
  },
  {
   "cell_type": "code",
   "execution_count": null,
   "metadata": {},
   "outputs": [],
   "source": [
    "data=pd.DataFrame()\n",
    "data['name'] = dataframe['venue.name']\n",
    "data['categories'] = dataframe['venue.categories']\n",
    "data['latitude'] = dataframe['venue.location.lat']\n",
    "data['longitude'] = dataframe['venue.location.lng']\n",
    "data['neighborhood'] = dataframe['venue.location.neighborhood']\n",
    "data.neighborhood.unique()\n"
   ]
  },
  {
   "cell_type": "code",
   "execution_count": null,
   "metadata": {},
   "outputs": [],
   "source": [
    "def get_category_type(row):\n",
    "    try:\n",
    "        categories_list = row['categories']\n",
    "    except:\n",
    "        categories_list = row['venue.categories']\n",
    "        \n",
    "    if len(categories_list) == 0:\n",
    "        return None\n",
    "    else:\n",
    "        return categories_list[0]['name']"
   ]
  },
  {
   "cell_type": "code",
   "execution_count": null,
   "metadata": {},
   "outputs": [],
   "source": [
    "data['categories'] = data.apply(get_category_type, axis=1)"
   ]
  },
  {
   "cell_type": "code",
   "execution_count": null,
   "metadata": {},
   "outputs": [],
   "source": [
    "data.head()"
   ]
  },
  {
   "cell_type": "markdown",
   "metadata": {},
   "source": [
    "### Visualize results"
   ]
  },
  {
   "cell_type": "code",
   "execution_count": null,
   "metadata": {
    "scrolled": true
   },
   "outputs": [],
   "source": [
    "cat_list = data.categories.unique()\n",
    "colors = plt.cm.Dark2.colors\n",
    "print(colors)\n",
    "    "
   ]
  },
  {
   "cell_type": "code",
   "execution_count": null,
   "metadata": {},
   "outputs": [],
   "source": [
    "venues_map = folium.Map(location=[lat, long], zoom_start=15)\n",
    "\n",
    "for index, row in data.iterrows():\n",
    "    lat = row['latitude']\n",
    "    long = row['longitude']\n",
    "    label = row['name']\n",
    "    category = row['categories']\n",
    "    \n",
    "    folium.Circle(\n",
    "        [lat, long],\n",
    "        popup=label,\n",
    "        radius=10,\n",
    "        fill=True\n",
    "        ).add_to(venues_map)\n",
    "\n",
    "# display map\n",
    "venues_map"
   ]
  },
  {
   "cell_type": "markdown",
   "metadata": {},
   "source": [
    "# K Nearest Neighbors Classifer"
   ]
  },
  {
   "cell_type": "code",
   "execution_count": null,
   "metadata": {},
   "outputs": [],
   "source": [
    "from sklearn.neighbors.nearest_centroid import NearestCentroid\n",
    "X = data['latitude', 'longitude', 'categories']\n",
    "y = data['neighborhood']\n",
    "clf = NearestCentriod()\n",
    "clf.fit(X, y)\n"
   ]
  },
  {
   "cell_type": "code",
   "execution_count": null,
   "metadata": {},
   "outputs": [],
   "source": []
  }
 ],
 "metadata": {
  "kernelspec": {
   "display_name": "Python 3",
   "language": "python",
   "name": "python3"
  },
  "language_info": {
   "codemirror_mode": {
    "name": "ipython",
    "version": 3
   },
   "file_extension": ".py",
   "mimetype": "text/x-python",
   "name": "python",
   "nbconvert_exporter": "python",
   "pygments_lexer": "ipython3",
   "version": "3.7.3"
  },
  "toc": {
   "base_numbering": 1,
   "nav_menu": {},
   "number_sections": true,
   "sideBar": true,
   "skip_h1_title": false,
   "title_cell": "Table of Contents",
   "title_sidebar": "Contents",
   "toc_cell": false,
   "toc_position": {},
   "toc_section_display": true,
   "toc_window_display": false
  }
 },
 "nbformat": 4,
 "nbformat_minor": 2
}
