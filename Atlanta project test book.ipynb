{
 "cells": [
  {
   "cell_type": "code",
   "execution_count": 3,
   "metadata": {},
   "outputs": [],
   "source": [
    "import pandas as pd\n",
    "import numpy as np\n",
    "import matplotlib.pyplot as plt\n",
    "%matplotlib inline\n",
    "import folium\n",
    "import requests\n",
    "from pandas.io.json import json_normalize"
   ]
  },
  {
   "cell_type": "markdown",
   "metadata": {},
   "source": [
    "# Interface with GIS"
   ]
  },
  {
   "cell_type": "code",
   "execution_count": null,
   "metadata": {},
   "outputs": [],
   "source": [
    "url = 'https://gis.atlantaga.gov/dpcd/rest/services/OpenDataService/FeatureServer/4/query?where=1%3D1&outFields=LOCALID,NAME,NPU,GLOBALID&outSR=4326&f=json'"
   ]
  },
  {
   "cell_type": "markdown",
   "metadata": {},
   "source": [
    "# Interface with Foursquare\n",
    "https://developer.foursquare.com/docs/api/venues/trending"
   ]
  },
  {
   "cell_type": "code",
   "execution_count": 10,
   "metadata": {},
   "outputs": [],
   "source": [
    "# @hidden_cell\n",
    "client_secret = 'PLV5C4EDNBSRH4AMBKOXNGHFZWHEWCGULGTQLPQZVQFJFYZO'\n",
    "client_id = 'HE3V0C15YMFATHFBWRAZ0B32H12HYYSJ1HJ523U02CKPEO3M'\n",
    "ver = '20180604'"
   ]
  },
  {
   "cell_type": "code",
   "execution_count": 11,
   "metadata": {},
   "outputs": [],
   "source": [
    "lat = 33.755845\n",
    "long = -84.38901"
   ]
  },
  {
   "cell_type": "code",
   "execution_count": 25,
   "metadata": {},
   "outputs": [],
   "source": [
    "url = 'https://api.foursquare.com/v2/venues/search?client_id={}&client_secret={}&\\\n",
    "ll={},{}&v={}'.format(client_id, client_secret, lat, long, ver)"
   ]
  },
  {
   "cell_type": "code",
   "execution_count": 47,
   "metadata": {},
   "outputs": [],
   "source": [
    "results = requests.get(url).json()\n",
    "venues = results['response']['venues']\n",
    "dataframe = json_normalize(venues)"
   ]
  },
  {
   "cell_type": "code",
   "execution_count": 48,
   "metadata": {},
   "outputs": [
    {
     "data": {
      "text/html": [
       "<div>\n",
       "<style scoped>\n",
       "    .dataframe tbody tr th:only-of-type {\n",
       "        vertical-align: middle;\n",
       "    }\n",
       "\n",
       "    .dataframe tbody tr th {\n",
       "        vertical-align: top;\n",
       "    }\n",
       "\n",
       "    .dataframe thead th {\n",
       "        text-align: right;\n",
       "    }\n",
       "</style>\n",
       "<table border=\"1\" class=\"dataframe\">\n",
       "  <thead>\n",
       "    <tr style=\"text-align: right;\">\n",
       "      <th></th>\n",
       "      <th>categories</th>\n",
       "      <th>delivery.id</th>\n",
       "      <th>delivery.provider.icon.name</th>\n",
       "      <th>delivery.provider.icon.prefix</th>\n",
       "      <th>delivery.provider.icon.sizes</th>\n",
       "      <th>delivery.provider.name</th>\n",
       "      <th>delivery.url</th>\n",
       "      <th>hasPerk</th>\n",
       "      <th>id</th>\n",
       "      <th>location.address</th>\n",
       "      <th>...</th>\n",
       "      <th>location.formattedAddress</th>\n",
       "      <th>location.labeledLatLngs</th>\n",
       "      <th>location.lat</th>\n",
       "      <th>location.lng</th>\n",
       "      <th>location.neighborhood</th>\n",
       "      <th>location.postalCode</th>\n",
       "      <th>location.state</th>\n",
       "      <th>name</th>\n",
       "      <th>referralId</th>\n",
       "      <th>venuePage.id</th>\n",
       "    </tr>\n",
       "  </thead>\n",
       "  <tbody>\n",
       "    <tr>\n",
       "      <th>0</th>\n",
       "      <td>[{'id': '4bf58dd8d48988d1c1941735', 'name': 'M...</td>\n",
       "      <td>NaN</td>\n",
       "      <td>NaN</td>\n",
       "      <td>NaN</td>\n",
       "      <td>NaN</td>\n",
       "      <td>NaN</td>\n",
       "      <td>NaN</td>\n",
       "      <td>False</td>\n",
       "      <td>4bd8b526e914a5930c2754fa</td>\n",
       "      <td>70 Peachtree St.</td>\n",
       "      <td>...</td>\n",
       "      <td>[70 Peachtree St. (Auburn Ave), Atlanta, GA 30...</td>\n",
       "      <td>[{'label': 'display', 'lat': 33.75567580572428...</td>\n",
       "      <td>33.755676</td>\n",
       "      <td>-84.388912</td>\n",
       "      <td>NaN</td>\n",
       "      <td>30303</td>\n",
       "      <td>GA</td>\n",
       "      <td>Moe's Southwest Grill</td>\n",
       "      <td>v-1559055914</td>\n",
       "      <td>NaN</td>\n",
       "    </tr>\n",
       "    <tr>\n",
       "      <th>1</th>\n",
       "      <td>[{'id': '4bf58dd8d48988d1c5941735', 'name': 'S...</td>\n",
       "      <td>1076766</td>\n",
       "      <td>/delivery_provider_grubhub_20180129.png</td>\n",
       "      <td>https://fastly.4sqi.net/img/general/cap/</td>\n",
       "      <td>[40, 50]</td>\n",
       "      <td>grubhub</td>\n",
       "      <td>https://www.grubhub.com/restaurant/subway-68-b...</td>\n",
       "      <td>False</td>\n",
       "      <td>4ace30d0f964a520f5ce20e3</td>\n",
       "      <td>68 Broad St NW</td>\n",
       "      <td>...</td>\n",
       "      <td>[68 Broad St NW (at Poplar St), Atlanta, GA 30...</td>\n",
       "      <td>[{'label': 'display', 'lat': 33.75586765739651...</td>\n",
       "      <td>33.755868</td>\n",
       "      <td>-84.389241</td>\n",
       "      <td>NaN</td>\n",
       "      <td>30303</td>\n",
       "      <td>GA</td>\n",
       "      <td>Subway</td>\n",
       "      <td>v-1559055914</td>\n",
       "      <td>NaN</td>\n",
       "    </tr>\n",
       "    <tr>\n",
       "      <th>2</th>\n",
       "      <td>[{'id': '4bf58dd8d48988d110941735', 'name': 'I...</td>\n",
       "      <td>NaN</td>\n",
       "      <td>NaN</td>\n",
       "      <td>NaN</td>\n",
       "      <td>NaN</td>\n",
       "      <td>NaN</td>\n",
       "      <td>NaN</td>\n",
       "      <td>False</td>\n",
       "      <td>588261009e35d36f2e8e43cd</td>\n",
       "      <td>FlatironCity</td>\n",
       "      <td>...</td>\n",
       "      <td>[FlatironCity, Atlanta, GA 30303, United States]</td>\n",
       "      <td>[{'label': 'display', 'lat': 33.7559, 'lng': -...</td>\n",
       "      <td>33.755900</td>\n",
       "      <td>-84.388880</td>\n",
       "      <td>NaN</td>\n",
       "      <td>30303</td>\n",
       "      <td>GA</td>\n",
       "      <td>Figo Pasta City Fast</td>\n",
       "      <td>v-1559055914</td>\n",
       "      <td>NaN</td>\n",
       "    </tr>\n",
       "    <tr>\n",
       "      <th>3</th>\n",
       "      <td>[{'id': '4bf58dd8d48988d174941735', 'name': 'C...</td>\n",
       "      <td>NaN</td>\n",
       "      <td>NaN</td>\n",
       "      <td>NaN</td>\n",
       "      <td>NaN</td>\n",
       "      <td>NaN</td>\n",
       "      <td>NaN</td>\n",
       "      <td>False</td>\n",
       "      <td>579764f0498e7646b4923b38</td>\n",
       "      <td>84 Peachtree St NE</td>\n",
       "      <td>...</td>\n",
       "      <td>[84 Peachtree St NE, Atlanta, GA 30303, United...</td>\n",
       "      <td>[{'label': 'display', 'lat': 33.75596227293448...</td>\n",
       "      <td>33.755962</td>\n",
       "      <td>-84.388784</td>\n",
       "      <td>NaN</td>\n",
       "      <td>30303</td>\n",
       "      <td>GA</td>\n",
       "      <td>FlatironCity</td>\n",
       "      <td>v-1559055914</td>\n",
       "      <td>221784030</td>\n",
       "    </tr>\n",
       "    <tr>\n",
       "      <th>4</th>\n",
       "      <td>[{'id': '4f2a25ac4b909258e854f55f', 'name': 'N...</td>\n",
       "      <td>NaN</td>\n",
       "      <td>NaN</td>\n",
       "      <td>NaN</td>\n",
       "      <td>NaN</td>\n",
       "      <td>NaN</td>\n",
       "      <td>NaN</td>\n",
       "      <td>False</td>\n",
       "      <td>4c3b4a7116cb2d7f939b02a9</td>\n",
       "      <td>NaN</td>\n",
       "      <td>...</td>\n",
       "      <td>[Atlanta, GA 30303, United States]</td>\n",
       "      <td>NaN</td>\n",
       "      <td>33.756303</td>\n",
       "      <td>-84.389390</td>\n",
       "      <td>NaN</td>\n",
       "      <td>30303</td>\n",
       "      <td>GA</td>\n",
       "      <td>Fairlie Poplar Neighborhood</td>\n",
       "      <td>v-1559055914</td>\n",
       "      <td>NaN</td>\n",
       "    </tr>\n",
       "  </tbody>\n",
       "</table>\n",
       "<p>5 rows × 25 columns</p>\n",
       "</div>"
      ],
      "text/plain": [
       "                                          categories delivery.id  \\\n",
       "0  [{'id': '4bf58dd8d48988d1c1941735', 'name': 'M...         NaN   \n",
       "1  [{'id': '4bf58dd8d48988d1c5941735', 'name': 'S...     1076766   \n",
       "2  [{'id': '4bf58dd8d48988d110941735', 'name': 'I...         NaN   \n",
       "3  [{'id': '4bf58dd8d48988d174941735', 'name': 'C...         NaN   \n",
       "4  [{'id': '4f2a25ac4b909258e854f55f', 'name': 'N...         NaN   \n",
       "\n",
       "               delivery.provider.icon.name  \\\n",
       "0                                      NaN   \n",
       "1  /delivery_provider_grubhub_20180129.png   \n",
       "2                                      NaN   \n",
       "3                                      NaN   \n",
       "4                                      NaN   \n",
       "\n",
       "              delivery.provider.icon.prefix delivery.provider.icon.sizes  \\\n",
       "0                                       NaN                          NaN   \n",
       "1  https://fastly.4sqi.net/img/general/cap/                     [40, 50]   \n",
       "2                                       NaN                          NaN   \n",
       "3                                       NaN                          NaN   \n",
       "4                                       NaN                          NaN   \n",
       "\n",
       "  delivery.provider.name                                       delivery.url  \\\n",
       "0                    NaN                                                NaN   \n",
       "1                grubhub  https://www.grubhub.com/restaurant/subway-68-b...   \n",
       "2                    NaN                                                NaN   \n",
       "3                    NaN                                                NaN   \n",
       "4                    NaN                                                NaN   \n",
       "\n",
       "   hasPerk                        id    location.address  ...  \\\n",
       "0    False  4bd8b526e914a5930c2754fa    70 Peachtree St.  ...   \n",
       "1    False  4ace30d0f964a520f5ce20e3      68 Broad St NW  ...   \n",
       "2    False  588261009e35d36f2e8e43cd        FlatironCity  ...   \n",
       "3    False  579764f0498e7646b4923b38  84 Peachtree St NE  ...   \n",
       "4    False  4c3b4a7116cb2d7f939b02a9                 NaN  ...   \n",
       "\n",
       "                           location.formattedAddress  \\\n",
       "0  [70 Peachtree St. (Auburn Ave), Atlanta, GA 30...   \n",
       "1  [68 Broad St NW (at Poplar St), Atlanta, GA 30...   \n",
       "2   [FlatironCity, Atlanta, GA 30303, United States]   \n",
       "3  [84 Peachtree St NE, Atlanta, GA 30303, United...   \n",
       "4                 [Atlanta, GA 30303, United States]   \n",
       "\n",
       "                             location.labeledLatLngs location.lat  \\\n",
       "0  [{'label': 'display', 'lat': 33.75567580572428...    33.755676   \n",
       "1  [{'label': 'display', 'lat': 33.75586765739651...    33.755868   \n",
       "2  [{'label': 'display', 'lat': 33.7559, 'lng': -...    33.755900   \n",
       "3  [{'label': 'display', 'lat': 33.75596227293448...    33.755962   \n",
       "4                                                NaN    33.756303   \n",
       "\n",
       "  location.lng  location.neighborhood location.postalCode location.state  \\\n",
       "0   -84.388912                    NaN               30303             GA   \n",
       "1   -84.389241                    NaN               30303             GA   \n",
       "2   -84.388880                    NaN               30303             GA   \n",
       "3   -84.388784                    NaN               30303             GA   \n",
       "4   -84.389390                    NaN               30303             GA   \n",
       "\n",
       "                          name    referralId venuePage.id  \n",
       "0        Moe's Southwest Grill  v-1559055914          NaN  \n",
       "1                       Subway  v-1559055914          NaN  \n",
       "2         Figo Pasta City Fast  v-1559055914          NaN  \n",
       "3                 FlatironCity  v-1559055914    221784030  \n",
       "4  Fairlie Poplar Neighborhood  v-1559055914          NaN  \n",
       "\n",
       "[5 rows x 25 columns]"
      ]
     },
     "execution_count": 48,
     "metadata": {},
     "output_type": "execute_result"
    }
   ],
   "source": [
    "dataframe.head()"
   ]
  },
  {
   "cell_type": "code",
   "execution_count": 49,
   "metadata": {},
   "outputs": [
    {
     "data": {
      "text/plain": [
       "[{'id': '4bf58dd8d48988d1c1941735',\n",
       "  'name': 'Mexican Restaurant',\n",
       "  'pluralName': 'Mexican Restaurants',\n",
       "  'shortName': 'Mexican',\n",
       "  'icon': {'prefix': 'https://ss3.4sqi.net/img/categories_v2/food/mexican_',\n",
       "   'suffix': '.png'},\n",
       "  'primary': True}]"
      ]
     },
     "execution_count": 49,
     "metadata": {},
     "output_type": "execute_result"
    }
   ],
   "source": [
    "dataframe['categories'\n",
    "][0]"
   ]
  },
  {
   "cell_type": "code",
   "execution_count": 50,
   "metadata": {},
   "outputs": [
    {
     "data": {
      "text/plain": [
       "(30, 25)"
      ]
     },
     "execution_count": 50,
     "metadata": {},
     "output_type": "execute_result"
    }
   ],
   "source": [
    "dataframe.shape"
   ]
  },
  {
   "cell_type": "code",
   "execution_count": 51,
   "metadata": {},
   "outputs": [
    {
     "data": {
      "text/plain": [
       "array(['categories', 'delivery.id', 'delivery.provider.icon.name',\n",
       "       'delivery.provider.icon.prefix', 'delivery.provider.icon.sizes',\n",
       "       'delivery.provider.name', 'delivery.url', 'hasPerk', 'id',\n",
       "       'location.address', 'location.cc', 'location.city',\n",
       "       'location.country', 'location.crossStreet', 'location.distance',\n",
       "       'location.formattedAddress', 'location.labeledLatLngs',\n",
       "       'location.lat', 'location.lng', 'location.neighborhood',\n",
       "       'location.postalCode', 'location.state', 'name', 'referralId',\n",
       "       'venuePage.id'], dtype=object)"
      ]
     },
     "execution_count": 51,
     "metadata": {},
     "output_type": "execute_result"
    }
   ],
   "source": [
    "dataframe.columns.values"
   ]
  },
  {
   "cell_type": "code",
   "execution_count": 52,
   "metadata": {},
   "outputs": [
    {
     "data": {
      "text/plain": [
       "array([nan, 'Downtown Atlanta, Atlanta, GA'], dtype=object)"
      ]
     },
     "execution_count": 52,
     "metadata": {},
     "output_type": "execute_result"
    }
   ],
   "source": [
    "data=pd.DataFrame()\n",
    "data['name'] = dataframe['name']\n",
    "data['categories'] = dataframe['categories']\n",
    "data['latitude'] = dataframe['location.lat']\n",
    "data['longitude'] = dataframe['location.lng']\n",
    "data['neighborhood'] = dataframe['location.neighborhood']\n",
    "data.neighborhood.unique()\n"
   ]
  },
  {
   "cell_type": "code",
   "execution_count": null,
   "metadata": {},
   "outputs": [],
   "source": []
  }
 ],
 "metadata": {
  "kernelspec": {
   "display_name": "Python 3",
   "language": "python",
   "name": "python3"
  },
  "language_info": {
   "codemirror_mode": {
    "name": "ipython",
    "version": 3
   },
   "file_extension": ".py",
   "mimetype": "text/x-python",
   "name": "python",
   "nbconvert_exporter": "python",
   "pygments_lexer": "ipython3",
   "version": "3.7.3"
  },
  "toc": {
   "base_numbering": 1,
   "nav_menu": {},
   "number_sections": true,
   "sideBar": true,
   "skip_h1_title": false,
   "title_cell": "Table of Contents",
   "title_sidebar": "Contents",
   "toc_cell": false,
   "toc_position": {},
   "toc_section_display": true,
   "toc_window_display": false
  }
 },
 "nbformat": 4,
 "nbformat_minor": 2
}
